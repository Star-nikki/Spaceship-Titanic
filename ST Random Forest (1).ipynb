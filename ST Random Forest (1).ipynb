{
 "cells": [
  {
   "cell_type": "code",
   "execution_count": 1,
   "id": "7d8f6c9d",
   "metadata": {
    "execution": {
     "iopub.execute_input": "2022-03-08T08:27:19.879036Z",
     "iopub.status.busy": "2022-03-08T08:27:19.878067Z",
     "iopub.status.idle": "2022-03-08T08:27:21.375847Z",
     "shell.execute_reply": "2022-03-08T08:27:21.375018Z",
     "shell.execute_reply.started": "2022-03-08T08:26:28.365506Z"
    },
    "papermill": {
     "duration": 1.531447,
     "end_time": "2022-03-08T08:27:21.376019",
     "exception": false,
     "start_time": "2022-03-08T08:27:19.844572",
     "status": "completed"
    },
    "tags": []
   },
   "outputs": [],
   "source": [
    "# Importing all the necessary library\n",
    "\n",
    "import pandas as pd\n",
    "from sklearn.impute import SimpleImputer\n",
    "from sklearn.metrics import accuracy_score\n",
    "from sklearn.preprocessing import LabelEncoder\n",
    "from sklearn.model_selection import train_test_split\n",
    "from sklearn.ensemble import RandomForestClassifier\n",
    "import matplotlib.pyplot as plt \n",
    "import seaborn as sns"
   ]
  },
  {
   "cell_type": "code",
   "execution_count": 3,
   "id": "20ae6628",
   "metadata": {
    "execution": {
     "iopub.execute_input": "2022-03-08T08:27:21.423614Z",
     "iopub.status.busy": "2022-03-08T08:27:21.423011Z",
     "iopub.status.idle": "2022-03-08T08:27:21.496744Z",
     "shell.execute_reply": "2022-03-08T08:27:21.496233Z",
     "shell.execute_reply.started": "2022-03-08T08:09:12.026321Z"
    },
    "papermill": {
     "duration": 0.097751,
     "end_time": "2022-03-08T08:27:21.496938",
     "exception": false,
     "start_time": "2022-03-08T08:27:21.399187",
     "status": "completed"
    },
    "tags": []
   },
   "outputs": [],
   "source": [
    "# Loading our training data as train_df and testing data as test_df\n",
    "\n",
    "train =pd.read_csv(\"train.csv\") \n",
    "test = pd.read_csv(\"test.csv\")"
   ]
  },
  {
   "cell_type": "code",
   "execution_count": 4,
   "id": "63628ab7",
   "metadata": {},
   "outputs": [
    {
     "data": {
      "text/plain": [
       "PassengerId      object\n",
       "HomePlanet       object\n",
       "CryoSleep        object\n",
       "Cabin            object\n",
       "Destination      object\n",
       "Age             float64\n",
       "VIP              object\n",
       "RoomService     float64\n",
       "FoodCourt       float64\n",
       "ShoppingMall    float64\n",
       "Spa             float64\n",
       "VRDeck          float64\n",
       "Name             object\n",
       "Transported        bool\n",
       "dtype: object"
      ]
     },
     "execution_count": 4,
     "metadata": {},
     "output_type": "execute_result"
    }
   ],
   "source": [
    "train.dtypes"
   ]
  },
  {
   "cell_type": "code",
   "execution_count": 5,
   "id": "9c54d7e8",
   "metadata": {
    "execution": {
     "iopub.execute_input": "2022-03-08T08:27:21.549478Z",
     "iopub.status.busy": "2022-03-08T08:27:21.544675Z",
     "iopub.status.idle": "2022-03-08T08:27:21.559109Z",
     "shell.execute_reply": "2022-03-08T08:27:21.559561Z",
     "shell.execute_reply.started": "2022-03-08T08:09:12.108956Z"
    },
    "papermill": {
     "duration": 0.040559,
     "end_time": "2022-03-08T08:27:21.559726",
     "exception": false,
     "start_time": "2022-03-08T08:27:21.519167",
     "status": "completed"
    },
    "tags": []
   },
   "outputs": [
    {
     "data": {
      "text/plain": [
       "PassengerId       0\n",
       "HomePlanet      201\n",
       "CryoSleep       217\n",
       "Cabin           199\n",
       "Destination     182\n",
       "Age             179\n",
       "VIP             203\n",
       "RoomService     181\n",
       "FoodCourt       183\n",
       "ShoppingMall    208\n",
       "Spa             183\n",
       "VRDeck          188\n",
       "Name            200\n",
       "Transported       0\n",
       "dtype: int64"
      ]
     },
     "execution_count": 5,
     "metadata": {},
     "output_type": "execute_result"
    }
   ],
   "source": [
    "# checking for null values in training dataset\n",
    "\n",
    "train.isnull().sum()"
   ]
  },
  {
   "cell_type": "code",
   "execution_count": 6,
   "id": "e6e28811",
   "metadata": {
    "execution": {
     "iopub.execute_input": "2022-03-08T08:27:21.608230Z",
     "iopub.status.busy": "2022-03-08T08:27:21.607573Z",
     "iopub.status.idle": "2022-03-08T08:27:21.615374Z",
     "shell.execute_reply": "2022-03-08T08:27:21.615924Z",
     "shell.execute_reply.started": "2022-03-08T08:09:12.130057Z"
    },
    "papermill": {
     "duration": 0.033704,
     "end_time": "2022-03-08T08:27:21.616094",
     "exception": false,
     "start_time": "2022-03-08T08:27:21.582390",
     "status": "completed"
    },
    "tags": []
   },
   "outputs": [
    {
     "data": {
      "text/plain": [
       "PassengerId       0\n",
       "HomePlanet       87\n",
       "CryoSleep        93\n",
       "Cabin           100\n",
       "Destination      92\n",
       "Age              91\n",
       "VIP              93\n",
       "RoomService      82\n",
       "FoodCourt       106\n",
       "ShoppingMall     98\n",
       "Spa             101\n",
       "VRDeck           80\n",
       "Name             94\n",
       "dtype: int64"
      ]
     },
     "execution_count": 6,
     "metadata": {},
     "output_type": "execute_result"
    }
   ],
   "source": [
    "# checking null values in testing dataset\n",
    "\n",
    "test.isnull().sum()"
   ]
  },
  {
   "cell_type": "code",
   "execution_count": 7,
   "id": "7ea8fa98",
   "metadata": {
    "execution": {
     "iopub.execute_input": "2022-03-08T08:27:21.670326Z",
     "iopub.status.busy": "2022-03-08T08:27:21.669674Z",
     "iopub.status.idle": "2022-03-08T08:27:21.694611Z",
     "shell.execute_reply": "2022-03-08T08:27:21.693994Z",
     "shell.execute_reply.started": "2022-03-08T08:09:12.141839Z"
    },
    "papermill": {
     "duration": 0.056375,
     "end_time": "2022-03-08T08:27:21.694784",
     "exception": false,
     "start_time": "2022-03-08T08:27:21.638409",
     "status": "completed"
    },
    "tags": []
   },
   "outputs": [],
   "source": [
    "# filling the null values with median \n",
    "\n",
    "imputer_cols = [\"Age\", \"FoodCourt\", \"ShoppingMall\", \"Spa\", \"VRDeck\" ,\"RoomService\"]\n",
    "imputer = SimpleImputer(strategy=\"median\" )\n",
    "imputer.fit(train[imputer_cols])\n",
    "train[imputer_cols] = imputer.transform(train[imputer_cols])\n",
    "test[imputer_cols] = imputer.transform(test[imputer_cols])\n",
    "train[\"HomePlanet\"].fillna('Z', inplace=True)\n",
    "test[\"HomePlanet\"].fillna('Z', inplace=True)"
   ]
  },
  {
   "cell_type": "code",
   "execution_count": 8,
   "id": "ad4451f4",
   "metadata": {
    "execution": {
     "iopub.execute_input": "2022-03-08T08:27:21.751214Z",
     "iopub.status.busy": "2022-03-08T08:27:21.750580Z",
     "iopub.status.idle": "2022-03-08T08:27:21.794365Z",
     "shell.execute_reply": "2022-03-08T08:27:21.793687Z",
     "shell.execute_reply.started": "2022-03-08T08:09:12.176988Z"
    },
    "papermill": {
     "duration": 0.077094,
     "end_time": "2022-03-08T08:27:21.794511",
     "exception": false,
     "start_time": "2022-03-08T08:27:21.717417",
     "status": "completed"
    },
    "tags": []
   },
   "outputs": [],
   "source": [
    "# label encoding \n",
    "\n",
    "label_cols = [\"HomePlanet\", \"CryoSleep\",\"Cabin\", \"Destination\" ,\"VIP\"]\n",
    "def label_encoder(train_df,test_df,columns):\n",
    "    for col in columns:\n",
    "        train_df[col] = train_df[col].astype(str)\n",
    "        test_df[col] = test_df[col].astype(str)\n",
    "        train_df[col] = LabelEncoder().fit_transform(train[col])\n",
    "        test_df[col] =  LabelEncoder().fit_transform(test[col])\n",
    "    return train_df, test_df\n",
    "\n",
    "train ,test = label_encoder(train,test,label_cols)"
   ]
  },
  {
   "cell_type": "code",
   "execution_count": 9,
   "id": "e4dc2361",
   "metadata": {
    "execution": {
     "iopub.execute_input": "2022-03-08T08:27:21.844293Z",
     "iopub.status.busy": "2022-03-08T08:27:21.843648Z",
     "iopub.status.idle": "2022-03-08T08:27:21.871980Z",
     "shell.execute_reply": "2022-03-08T08:27:21.871379Z",
     "shell.execute_reply.started": "2022-03-08T08:24:44.925852Z"
    },
    "papermill": {
     "duration": 0.055205,
     "end_time": "2022-03-08T08:27:21.872121",
     "exception": false,
     "start_time": "2022-03-08T08:27:21.816916",
     "status": "completed"
    },
    "tags": []
   },
   "outputs": [
    {
     "name": "stderr",
     "output_type": "stream",
     "text": [
      "C:\\Users\\NIKKI RANI\\AppData\\Local\\Temp\\ipykernel_14232\\2580869155.py:1: FutureWarning: The default value of numeric_only in DataFrame.corr is deprecated. In a future version, it will default to False. Select only valid columns or specify the value of numeric_only to silence this warning.\n",
      "  cor = train.corr()\n"
     ]
    },
    {
     "data": {
      "text/html": [
       "<div>\n",
       "<style scoped>\n",
       "    .dataframe tbody tr th:only-of-type {\n",
       "        vertical-align: middle;\n",
       "    }\n",
       "\n",
       "    .dataframe tbody tr th {\n",
       "        vertical-align: top;\n",
       "    }\n",
       "\n",
       "    .dataframe thead th {\n",
       "        text-align: right;\n",
       "    }\n",
       "</style>\n",
       "<table border=\"1\" class=\"dataframe\">\n",
       "  <thead>\n",
       "    <tr style=\"text-align: right;\">\n",
       "      <th></th>\n",
       "      <th>HomePlanet</th>\n",
       "      <th>CryoSleep</th>\n",
       "      <th>Cabin</th>\n",
       "      <th>Destination</th>\n",
       "      <th>Age</th>\n",
       "      <th>VIP</th>\n",
       "      <th>RoomService</th>\n",
       "      <th>FoodCourt</th>\n",
       "      <th>ShoppingMall</th>\n",
       "      <th>Spa</th>\n",
       "      <th>VRDeck</th>\n",
       "      <th>Transported</th>\n",
       "    </tr>\n",
       "  </thead>\n",
       "  <tbody>\n",
       "    <tr>\n",
       "      <th>HomePlanet</th>\n",
       "      <td>1.000000</td>\n",
       "      <td>0.068726</td>\n",
       "      <td>-0.425569</td>\n",
       "      <td>0.042618</td>\n",
       "      <td>0.122943</td>\n",
       "      <td>0.044255</td>\n",
       "      <td>0.192189</td>\n",
       "      <td>0.056321</td>\n",
       "      <td>0.088970</td>\n",
       "      <td>0.045252</td>\n",
       "      <td>0.035631</td>\n",
       "      <td>0.107755</td>\n",
       "    </tr>\n",
       "    <tr>\n",
       "      <th>CryoSleep</th>\n",
       "      <td>0.068726</td>\n",
       "      <td>1.000000</td>\n",
       "      <td>0.100689</td>\n",
       "      <td>-0.085571</td>\n",
       "      <td>-0.068816</td>\n",
       "      <td>-0.023407</td>\n",
       "      <td>-0.216689</td>\n",
       "      <td>-0.182029</td>\n",
       "      <td>-0.188532</td>\n",
       "      <td>-0.178382</td>\n",
       "      <td>-0.171721</td>\n",
       "      <td>0.404716</td>\n",
       "    </tr>\n",
       "    <tr>\n",
       "      <th>Cabin</th>\n",
       "      <td>-0.425569</td>\n",
       "      <td>0.100689</td>\n",
       "      <td>1.000000</td>\n",
       "      <td>0.113260</td>\n",
       "      <td>-0.236994</td>\n",
       "      <td>-0.053158</td>\n",
       "      <td>-0.073802</td>\n",
       "      <td>-0.260056</td>\n",
       "      <td>-0.067709</td>\n",
       "      <td>-0.180768</td>\n",
       "      <td>-0.210865</td>\n",
       "      <td>-0.052604</td>\n",
       "    </tr>\n",
       "    <tr>\n",
       "      <th>Destination</th>\n",
       "      <td>0.042618</td>\n",
       "      <td>-0.085571</td>\n",
       "      <td>0.113260</td>\n",
       "      <td>1.000000</td>\n",
       "      <td>-0.004342</td>\n",
       "      <td>-0.024905</td>\n",
       "      <td>0.043735</td>\n",
       "      <td>-0.109558</td>\n",
       "      <td>0.022982</td>\n",
       "      <td>-0.052915</td>\n",
       "      <td>-0.072850</td>\n",
       "      <td>-0.104817</td>\n",
       "    </tr>\n",
       "    <tr>\n",
       "      <th>Age</th>\n",
       "      <td>0.122943</td>\n",
       "      <td>-0.068816</td>\n",
       "      <td>-0.236994</td>\n",
       "      <td>-0.004342</td>\n",
       "      <td>1.000000</td>\n",
       "      <td>0.032434</td>\n",
       "      <td>0.068629</td>\n",
       "      <td>0.127390</td>\n",
       "      <td>0.033148</td>\n",
       "      <td>0.120946</td>\n",
       "      <td>0.099590</td>\n",
       "      <td>-0.074233</td>\n",
       "    </tr>\n",
       "    <tr>\n",
       "      <th>VIP</th>\n",
       "      <td>0.044255</td>\n",
       "      <td>-0.023407</td>\n",
       "      <td>-0.053158</td>\n",
       "      <td>-0.024905</td>\n",
       "      <td>0.032434</td>\n",
       "      <td>1.000000</td>\n",
       "      <td>0.038011</td>\n",
       "      <td>0.054756</td>\n",
       "      <td>-0.009496</td>\n",
       "      <td>0.020355</td>\n",
       "      <td>0.054623</td>\n",
       "      <td>-0.014260</td>\n",
       "    </tr>\n",
       "    <tr>\n",
       "      <th>RoomService</th>\n",
       "      <td>0.192189</td>\n",
       "      <td>-0.216689</td>\n",
       "      <td>-0.073802</td>\n",
       "      <td>0.043735</td>\n",
       "      <td>0.068629</td>\n",
       "      <td>0.038011</td>\n",
       "      <td>1.000000</td>\n",
       "      <td>-0.015126</td>\n",
       "      <td>0.052337</td>\n",
       "      <td>0.009244</td>\n",
       "      <td>-0.018624</td>\n",
       "      <td>-0.241124</td>\n",
       "    </tr>\n",
       "    <tr>\n",
       "      <th>FoodCourt</th>\n",
       "      <td>0.056321</td>\n",
       "      <td>-0.182029</td>\n",
       "      <td>-0.260056</td>\n",
       "      <td>-0.109558</td>\n",
       "      <td>0.127390</td>\n",
       "      <td>0.054756</td>\n",
       "      <td>-0.015126</td>\n",
       "      <td>1.000000</td>\n",
       "      <td>-0.013717</td>\n",
       "      <td>0.221468</td>\n",
       "      <td>0.224572</td>\n",
       "      <td>0.045583</td>\n",
       "    </tr>\n",
       "    <tr>\n",
       "      <th>ShoppingMall</th>\n",
       "      <td>0.088970</td>\n",
       "      <td>-0.188532</td>\n",
       "      <td>-0.067709</td>\n",
       "      <td>0.022982</td>\n",
       "      <td>0.033148</td>\n",
       "      <td>-0.009496</td>\n",
       "      <td>0.052337</td>\n",
       "      <td>-0.013717</td>\n",
       "      <td>1.000000</td>\n",
       "      <td>0.014542</td>\n",
       "      <td>-0.007849</td>\n",
       "      <td>0.009391</td>\n",
       "    </tr>\n",
       "    <tr>\n",
       "      <th>Spa</th>\n",
       "      <td>0.045252</td>\n",
       "      <td>-0.178382</td>\n",
       "      <td>-0.180768</td>\n",
       "      <td>-0.052915</td>\n",
       "      <td>0.120946</td>\n",
       "      <td>0.020355</td>\n",
       "      <td>0.009244</td>\n",
       "      <td>0.221468</td>\n",
       "      <td>0.014542</td>\n",
       "      <td>1.000000</td>\n",
       "      <td>0.147658</td>\n",
       "      <td>-0.218545</td>\n",
       "    </tr>\n",
       "    <tr>\n",
       "      <th>VRDeck</th>\n",
       "      <td>0.035631</td>\n",
       "      <td>-0.171721</td>\n",
       "      <td>-0.210865</td>\n",
       "      <td>-0.072850</td>\n",
       "      <td>0.099590</td>\n",
       "      <td>0.054623</td>\n",
       "      <td>-0.018624</td>\n",
       "      <td>0.224572</td>\n",
       "      <td>-0.007849</td>\n",
       "      <td>0.147658</td>\n",
       "      <td>1.000000</td>\n",
       "      <td>-0.204874</td>\n",
       "    </tr>\n",
       "    <tr>\n",
       "      <th>Transported</th>\n",
       "      <td>0.107755</td>\n",
       "      <td>0.404716</td>\n",
       "      <td>-0.052604</td>\n",
       "      <td>-0.104817</td>\n",
       "      <td>-0.074233</td>\n",
       "      <td>-0.014260</td>\n",
       "      <td>-0.241124</td>\n",
       "      <td>0.045583</td>\n",
       "      <td>0.009391</td>\n",
       "      <td>-0.218545</td>\n",
       "      <td>-0.204874</td>\n",
       "      <td>1.000000</td>\n",
       "    </tr>\n",
       "  </tbody>\n",
       "</table>\n",
       "</div>"
      ],
      "text/plain": [
       "              HomePlanet  CryoSleep     Cabin  Destination       Age  \\\n",
       "HomePlanet      1.000000   0.068726 -0.425569     0.042618  0.122943   \n",
       "CryoSleep       0.068726   1.000000  0.100689    -0.085571 -0.068816   \n",
       "Cabin          -0.425569   0.100689  1.000000     0.113260 -0.236994   \n",
       "Destination     0.042618  -0.085571  0.113260     1.000000 -0.004342   \n",
       "Age             0.122943  -0.068816 -0.236994    -0.004342  1.000000   \n",
       "VIP             0.044255  -0.023407 -0.053158    -0.024905  0.032434   \n",
       "RoomService     0.192189  -0.216689 -0.073802     0.043735  0.068629   \n",
       "FoodCourt       0.056321  -0.182029 -0.260056    -0.109558  0.127390   \n",
       "ShoppingMall    0.088970  -0.188532 -0.067709     0.022982  0.033148   \n",
       "Spa             0.045252  -0.178382 -0.180768    -0.052915  0.120946   \n",
       "VRDeck          0.035631  -0.171721 -0.210865    -0.072850  0.099590   \n",
       "Transported     0.107755   0.404716 -0.052604    -0.104817 -0.074233   \n",
       "\n",
       "                   VIP  RoomService  FoodCourt  ShoppingMall       Spa  \\\n",
       "HomePlanet    0.044255     0.192189   0.056321      0.088970  0.045252   \n",
       "CryoSleep    -0.023407    -0.216689  -0.182029     -0.188532 -0.178382   \n",
       "Cabin        -0.053158    -0.073802  -0.260056     -0.067709 -0.180768   \n",
       "Destination  -0.024905     0.043735  -0.109558      0.022982 -0.052915   \n",
       "Age           0.032434     0.068629   0.127390      0.033148  0.120946   \n",
       "VIP           1.000000     0.038011   0.054756     -0.009496  0.020355   \n",
       "RoomService   0.038011     1.000000  -0.015126      0.052337  0.009244   \n",
       "FoodCourt     0.054756    -0.015126   1.000000     -0.013717  0.221468   \n",
       "ShoppingMall -0.009496     0.052337  -0.013717      1.000000  0.014542   \n",
       "Spa           0.020355     0.009244   0.221468      0.014542  1.000000   \n",
       "VRDeck        0.054623    -0.018624   0.224572     -0.007849  0.147658   \n",
       "Transported  -0.014260    -0.241124   0.045583      0.009391 -0.218545   \n",
       "\n",
       "                VRDeck  Transported  \n",
       "HomePlanet    0.035631     0.107755  \n",
       "CryoSleep    -0.171721     0.404716  \n",
       "Cabin        -0.210865    -0.052604  \n",
       "Destination  -0.072850    -0.104817  \n",
       "Age           0.099590    -0.074233  \n",
       "VIP           0.054623    -0.014260  \n",
       "RoomService  -0.018624    -0.241124  \n",
       "FoodCourt     0.224572     0.045583  \n",
       "ShoppingMall -0.007849     0.009391  \n",
       "Spa           0.147658    -0.218545  \n",
       "VRDeck        1.000000    -0.204874  \n",
       "Transported  -0.204874     1.000000  "
      ]
     },
     "execution_count": 9,
     "metadata": {},
     "output_type": "execute_result"
    }
   ],
   "source": [
    "cor = train.corr()\n",
    "cor"
   ]
  },
  {
   "cell_type": "code",
   "execution_count": 10,
   "id": "95001eb1",
   "metadata": {
    "execution": {
     "iopub.execute_input": "2022-03-08T08:27:21.924676Z",
     "iopub.status.busy": "2022-03-08T08:27:21.923790Z",
     "iopub.status.idle": "2022-03-08T08:27:22.752060Z",
     "shell.execute_reply": "2022-03-08T08:27:22.752532Z",
     "shell.execute_reply.started": "2022-03-08T08:26:51.096984Z"
    },
    "papermill": {
     "duration": 0.85739,
     "end_time": "2022-03-08T08:27:22.752710",
     "exception": false,
     "start_time": "2022-03-08T08:27:21.895320",
     "status": "completed"
    },
    "tags": []
   },
   "outputs": [
    {
     "name": "stderr",
     "output_type": "stream",
     "text": [
      "C:\\Users\\NIKKI RANI\\AppData\\Local\\Temp\\ipykernel_14232\\3792433809.py:4: FutureWarning: The default value of numeric_only in DataFrame.corr is deprecated. In a future version, it will default to False. Select only valid columns or specify the value of numeric_only to silence this warning.\n",
      "  ax = sns.heatmap(train.corr(), annot=True)\n"
     ]
    },
    {
     "data": {
      "image/png": "[encoded data removed]",
      "text/plain": [
       "<Figure size 1100x900 with 2 Axes>"
      ]
     },
     "metadata": {},
     "output_type": "display_data"
    }
   ],
   "source": [
    "import seaborn as sns\n",
    "\n",
    "fig, ax = plt.subplots(figsize=(11, 9))\n",
    "ax = sns.heatmap(train.corr(), annot=True)\n",
    "plt.show()"
   ]
  },
  {
   "cell_type": "code",
   "execution_count": 11,
   "id": "a87a8517",
   "metadata": {
    "execution": {
     "iopub.execute_input": "2022-03-08T08:27:22.808231Z",
     "iopub.status.busy": "2022-03-08T08:27:22.807225Z",
     "iopub.status.idle": "2022-03-08T08:27:22.816126Z",
     "shell.execute_reply": "2022-03-08T08:27:22.815597Z",
     "shell.execute_reply.started": "2022-03-08T08:09:12.234498Z"
    },
    "papermill": {
     "duration": 0.037765,
     "end_time": "2022-03-08T08:27:22.816272",
     "exception": false,
     "start_time": "2022-03-08T08:27:22.778507",
     "status": "completed"
    },
    "tags": []
   },
   "outputs": [],
   "source": [
    "# Droping the Transported column from X_train because its the label we are trying to predict\n",
    "# Droping the Name column for X_train because its doest affect the outcome\n",
    "# Droping the Namr column for X_test\n",
    "\n",
    "X_train = train.drop([\"Transported\",\"Name\"], axis =1 )\n",
    "y_train = train[\"Transported\"]\n",
    "X_test = test.drop(\"Name\",axis=1)"
   ]
  },
  {
   "cell_type": "code",
   "execution_count": 12,
   "id": "307ec76d",
   "metadata": {
    "execution": {
     "iopub.execute_input": "2022-03-08T08:27:22.875007Z",
     "iopub.status.busy": "2022-03-08T08:27:22.874084Z",
     "iopub.status.idle": "2022-03-08T08:27:22.878091Z",
     "shell.execute_reply": "2022-03-08T08:27:22.877491Z",
     "shell.execute_reply.started": "2022-03-08T08:09:12.244908Z"
    },
    "papermill": {
     "duration": 0.035959,
     "end_time": "2022-03-08T08:27:22.878247",
     "exception": false,
     "start_time": "2022-03-08T08:27:22.842288",
     "status": "completed"
    },
    "tags": []
   },
   "outputs": [
    {
     "data": {
      "text/plain": [
       "PassengerId      object\n",
       "HomePlanet        int32\n",
       "CryoSleep         int32\n",
       "Cabin             int32\n",
       "Destination       int32\n",
       "Age             float64\n",
       "VIP               int32\n",
       "RoomService     float64\n",
       "FoodCourt       float64\n",
       "ShoppingMall    float64\n",
       "Spa             float64\n",
       "VRDeck          float64\n",
       "dtype: object"
      ]
     },
     "execution_count": 12,
     "metadata": {},
     "output_type": "execute_result"
    }
   ],
   "source": [
    "# Checking the datatypes of the Training dataset\n",
    "\n",
    "X_train.dtypes"
   ]
  },
  {
   "cell_type": "code",
   "execution_count": 13,
   "id": "92a2ade1",
   "metadata": {
    "execution": {
     "iopub.execute_input": "2022-03-08T08:27:22.935338Z",
     "iopub.status.busy": "2022-03-08T08:27:22.934638Z",
     "iopub.status.idle": "2022-03-08T08:27:22.937309Z",
     "shell.execute_reply": "2022-03-08T08:27:22.937728Z",
     "shell.execute_reply.started": "2022-03-08T08:09:12.262500Z"
    },
    "papermill": {
     "duration": 0.033813,
     "end_time": "2022-03-08T08:27:22.937904",
     "exception": false,
     "start_time": "2022-03-08T08:27:22.904091",
     "status": "completed"
    },
    "tags": []
   },
   "outputs": [
    {
     "data": {
      "text/plain": [
       "dtype('bool')"
      ]
     },
     "execution_count": 13,
     "metadata": {},
     "output_type": "execute_result"
    }
   ],
   "source": [
    "y_train.dtypes"
   ]
  },
  {
   "cell_type": "code",
   "execution_count": 14,
   "id": "1a68f384",
   "metadata": {
    "execution": {
     "iopub.execute_input": "2022-03-08T08:27:22.993458Z",
     "iopub.status.busy": "2022-03-08T08:27:22.992814Z",
     "iopub.status.idle": "2022-03-08T08:27:22.999206Z",
     "shell.execute_reply": "2022-03-08T08:27:22.999739Z",
     "shell.execute_reply.started": "2022-03-08T08:09:12.275234Z"
    },
    "papermill": {
     "duration": 0.036287,
     "end_time": "2022-03-08T08:27:22.999922",
     "exception": false,
     "start_time": "2022-03-08T08:27:22.963635",
     "status": "completed"
    },
    "tags": []
   },
   "outputs": [
    {
     "data": {
      "text/plain": [
       "PassengerId      object\n",
       "HomePlanet        int32\n",
       "CryoSleep         int32\n",
       "Cabin             int32\n",
       "Destination       int32\n",
       "Age             float64\n",
       "VIP               int32\n",
       "RoomService     float64\n",
       "FoodCourt       float64\n",
       "ShoppingMall    float64\n",
       "Spa             float64\n",
       "VRDeck          float64\n",
       "dtype: object"
      ]
     },
     "execution_count": 14,
     "metadata": {},
     "output_type": "execute_result"
    }
   ],
   "source": [
    "# Checking the datatypes of the Testing dataset\n",
    "\n",
    "X_test.dtypes"
   ]
  },
  {
   "cell_type": "code",
   "execution_count": 15,
   "id": "40f7948f",
   "metadata": {
    "execution": {
     "iopub.execute_input": "2022-03-08T08:27:23.055945Z",
     "iopub.status.busy": "2022-03-08T08:27:23.055288Z",
     "iopub.status.idle": "2022-03-08T08:27:23.085344Z",
     "shell.execute_reply": "2022-03-08T08:27:23.085853Z",
     "shell.execute_reply.started": "2022-03-08T08:09:12.289657Z"
    },
    "papermill": {
     "duration": 0.060053,
     "end_time": "2022-03-08T08:27:23.086022",
     "exception": false,
     "start_time": "2022-03-08T08:27:23.025969",
     "status": "completed"
    },
    "tags": []
   },
   "outputs": [],
   "source": [
    "le = LabelEncoder()\n",
    "X_train[\"PassengerId\"] = le.fit_transform(X_train[\"PassengerId\"])\n",
    "X_test[\"PassengerId\"]= le.fit_transform(X_test[\"PassengerId\"])"
   ]
  },
  {
   "cell_type": "code",
   "execution_count": 16,
   "id": "06817b47",
   "metadata": {
    "execution": {
     "iopub.execute_input": "2022-03-08T08:27:23.146295Z",
     "iopub.status.busy": "2022-03-08T08:27:23.145539Z",
     "iopub.status.idle": "2022-03-08T08:27:23.149004Z",
     "shell.execute_reply": "2022-03-08T08:27:23.148397Z",
     "shell.execute_reply.started": "2022-03-08T08:09:12.326194Z"
    },
    "papermill": {
     "duration": 0.036884,
     "end_time": "2022-03-08T08:27:23.149143",
     "exception": false,
     "start_time": "2022-03-08T08:27:23.112259",
     "status": "completed"
    },
    "tags": []
   },
   "outputs": [
    {
     "data": {
      "text/plain": [
       "PassengerId       int32\n",
       "HomePlanet        int32\n",
       "CryoSleep         int32\n",
       "Cabin             int32\n",
       "Destination       int32\n",
       "Age             float64\n",
       "VIP               int32\n",
       "RoomService     float64\n",
       "FoodCourt       float64\n",
       "ShoppingMall    float64\n",
       "Spa             float64\n",
       "VRDeck          float64\n",
       "dtype: object"
      ]
     },
     "execution_count": 16,
     "metadata": {},
     "output_type": "execute_result"
    }
   ],
   "source": [
    "X_train.dtypes"
   ]
  },
  {
   "cell_type": "code",
   "execution_count": 17,
   "id": "0bd9187d",
   "metadata": {},
   "outputs": [
    {
     "data": {
      "text/plain": [
       "0       False\n",
       "1        True\n",
       "2       False\n",
       "3       False\n",
       "4        True\n",
       "        ...  \n",
       "8688    False\n",
       "8689    False\n",
       "8690     True\n",
       "8691    False\n",
       "8692     True\n",
       "Name: Transported, Length: 8693, dtype: bool"
      ]
     },
     "execution_count": 17,
     "metadata": {},
     "output_type": "execute_result"
    }
   ],
   "source": [
    "y_train"
   ]
  },
  {
   "cell_type": "code",
   "execution_count": 18,
   "id": "419e3da2",
   "metadata": {},
   "outputs": [
    {
     "data": {
      "text/plain": [
       "<Axes: title={'center': 'VIP'}>"
      ]
     },
     "execution_count": 18,
     "metadata": {},
     "output_type": "execute_result"
    },
    {
     "data": {
      "image/png": "[encoded data removed]",
      "text/plain": [
       "<Figure size 1400x1500 with 4 Axes>"
      ]
     },
     "metadata": {},
     "output_type": "display_data"
    }
   ],
   "source": [
    "# Visualize independent categorical features\n",
    "plt.figure(figsize = (14, 15)) \n",
    "plt.subplot(221)\n",
    "X_train['HomePlanet'].value_counts(normalize = True).plot.bar(title = 'HomePlanet')\n",
    "plt.subplot(222)\n",
    "X_train['CryoSleep'].value_counts(normalize = True).plot.bar(title = 'CryoSleep')\n",
    "plt.subplot(223)\n",
    "X_train['Destination'].value_counts(normalize = True).plot.bar(title = 'Destination')\n",
    "plt.subplot(224)\n",
    "X_train['VIP'].value_counts(normalize = True).plot.bar(title = 'VIP')"
   ]
  },
  {
   "cell_type": "markdown",
   "id": "9b4bce15",
   "metadata": {
    "papermill": {
     "duration": 0.026245,
     "end_time": "2022-03-08T08:27:23.201956",
     "exception": false,
     "start_time": "2022-03-08T08:27:23.175711",
     "status": "completed"
    },
    "tags": []
   },
   "source": [
    "# Building the Random Forest Model"
   ]
  },
  {
   "cell_type": "code",
   "execution_count": 19,
   "id": "9e160479",
   "metadata": {
    "execution": {
     "iopub.execute_input": "2022-03-08T08:27:23.259895Z",
     "iopub.status.busy": "2022-03-08T08:27:23.259105Z",
     "iopub.status.idle": "2022-03-08T08:27:23.261870Z",
     "shell.execute_reply": "2022-03-08T08:27:23.261389Z",
     "shell.execute_reply.started": "2022-03-08T08:09:12.334398Z"
    },
    "papermill": {
     "duration": 0.033514,
     "end_time": "2022-03-08T08:27:23.262002",
     "exception": false,
     "start_time": "2022-03-08T08:27:23.228488",
     "status": "completed"
    },
    "tags": []
   },
   "outputs": [],
   "source": [
    "# Building our Random Forest Model\n",
    "\n",
    "clf = RandomForestClassifier(max_depth=10, random_state=42)\n",
    "# max_depth: The number of splits that each decision tree is allowed to make"
   ]
  },
  {
   "cell_type": "code",
   "execution_count": 20,
   "id": "ef09b8b6",
   "metadata": {
    "execution": {
     "iopub.execute_input": "2022-03-08T08:27:23.322331Z",
     "iopub.status.busy": "2022-03-08T08:27:23.321691Z",
     "iopub.status.idle": "2022-03-08T08:27:24.277306Z",
     "shell.execute_reply": "2022-03-08T08:27:24.276698Z",
     "shell.execute_reply.started": "2022-03-08T08:09:12.348662Z"
    },
    "papermill": {
     "duration": 0.987899,
     "end_time": "2022-03-08T08:27:24.277454",
     "exception": false,
     "start_time": "2022-03-08T08:27:23.289555",
     "status": "completed"
    },
    "tags": []
   },
   "outputs": [
    {
     "data": {
      "text/html": [
       "<style>#sk-container-id-1 {color: black;background-color: white;}#sk-container-id-1 pre{padding: 0;}#sk-container-id-1 div.sk-toggleable {background-color: white;}#sk-container-id-1 label.sk-toggleable__label {cursor: pointer;display: block;width: 100%;margin-bottom: 0;padding: 0.3em;box-sizing: border-box;text-align: center;}#sk-container-id-1 label.sk-toggleable__label-arrow:before {content: \"▸\";float: left;margin-right: 0.25em;color: #696969;}#sk-container-id-1 label.sk-toggleable__label-arrow:hover:before {color: black;}#sk-container-id-1 div.sk-estimator:hover label.sk-toggleable__label-arrow:before {color: black;}#sk-container-id-1 div.sk-toggleable__content {max-height: 0;max-width: 0;overflow: hidden;text-align: left;background-color: #f0f8ff;}#sk-container-id-1 div.sk-toggleable__content pre {margin: 0.2em;color: black;border-radius: 0.25em;background-color: #f0f8ff;}#sk-container-id-1 input.sk-toggleable__control:checked~div.sk-toggleable__content {max-height: 200px;max-width: 100%;overflow: auto;}#sk-container-id-1 input.sk-toggleable__control:checked~label.sk-toggleable__label-arrow:before {content: \"▾\";}#sk-container-id-1 div.sk-estimator input.sk-toggleable__control:checked~label.sk-toggleable__label {background-color: #d4ebff;}#sk-container-id-1 div.sk-label input.sk-toggleable__control:checked~label.sk-toggleable__label {background-color: #d4ebff;}#sk-container-id-1 input.sk-hidden--visually {border: 0;clip: rect(1px 1px 1px 1px);clip: rect(1px, 1px, 1px, 1px);height: 1px;margin: -1px;overflow: hidden;padding: 0;position: absolute;width: 1px;}#sk-container-id-1 div.sk-estimator {font-family: monospace;background-color: #f0f8ff;border: 1px dotted black;border-radius: 0.25em;box-sizing: border-box;margin-bottom: 0.5em;}#sk-container-id-1 div.sk-estimator:hover {background-color: #d4ebff;}#sk-container-id-1 div.sk-parallel-item::after {content: \"\";width: 100%;border-bottom: 1px solid gray;flex-grow: 1;}#sk-container-id-1 div.sk-label:hover label.sk-toggleable__label {background-color: #d4ebff;}#sk-container-id-1 div.sk-serial::before {content: \"\";position: absolute;border-left: 1px solid gray;box-sizing: border-box;top: 0;bottom: 0;left: 50%;z-index: 0;}#sk-container-id-1 div.sk-serial {display: flex;flex-direction: column;align-items: center;background-color: white;padding-right: 0.2em;padding-left: 0.2em;position: relative;}#sk-container-id-1 div.sk-item {position: relative;z-index: 1;}#sk-container-id-1 div.sk-parallel {display: flex;align-items: stretch;justify-content: center;background-color: white;position: relative;}#sk-container-id-1 div.sk-item::before, #sk-container-id-1 div.sk-parallel-item::before {content: \"\";position: absolute;border-left: 1px solid gray;box-sizing: border-box;top: 0;bottom: 0;left: 50%;z-index: -1;}#sk-container-id-1 div.sk-parallel-item {display: flex;flex-direction: column;z-index: 1;position: relative;background-color: white;}#sk-container-id-1 div.sk-parallel-item:first-child::after {align-self: flex-end;width: 50%;}#sk-container-id-1 div.sk-parallel-item:last-child::after {align-self: flex-start;width: 50%;}#sk-container-id-1 div.sk-parallel-item:only-child::after {width: 0;}#sk-container-id-1 div.sk-dashed-wrapped {border: 1px dashed gray;margin: 0 0.4em 0.5em 0.4em;box-sizing: border-box;padding-bottom: 0.4em;background-color: white;}#sk-container-id-1 div.sk-label label {font-family: monospace;font-weight: bold;display: inline-block;line-height: 1.2em;}#sk-container-id-1 div.sk-label-container {text-align: center;}#sk-container-id-1 div.sk-container {/* jupyter's `normalize.less` sets `[hidden] { display: none; }` but bootstrap.min.css set `[hidden] { display: none !important; }` so we also need the `!important` here to be able to override the default hidden behavior on the sphinx rendered scikit-learn.org. See: https://github.com/scikit-learn/scikit-learn/issues/21755 */display: inline-block !important;position: relative;}#sk-container-id-1 div.sk-text-repr-fallback {display: none;}</style><div id=\"sk-container-id-1\" class=\"sk-top-container\"><div class=\"sk-text-repr-fallback\"><pre>RandomForestClassifier(max_depth=10, random_state=42)</pre><b>In a Jupyter environment, please rerun this cell to show the HTML representation or trust the notebook. <br />On GitHub, the HTML representation is unable to render, please try loading this page with nbviewer.org.</b></div><div class=\"sk-container\" hidden><div class=\"sk-item\"><div class=\"sk-estimator sk-toggleable\"><input class=\"sk-toggleable__control sk-hidden--visually\" id=\"sk-estimator-id-1\" type=\"checkbox\" checked><label for=\"sk-estimator-id-1\" class=\"sk-toggleable__label sk-toggleable__label-arrow\">RandomForestClassifier</label><div class=\"sk-toggleable__content\"><pre>RandomForestClassifier(max_depth=10, random_state=42)</pre></div></div></div></div></div>"
      ],
      "text/plain": [
       "RandomForestClassifier(max_depth=10, random_state=42)"
      ]
     },
     "execution_count": 20,
     "metadata": {},
     "output_type": "execute_result"
    }
   ],
   "source": [
    "# Fitting the Model with training data\n",
    "\n",
    "clf.fit(X_train, y_train)"
   ]
  },
  {
   "cell_type": "markdown",
   "id": "7e5c3d98",
   "metadata": {
    "papermill": {
     "duration": 0.026337,
     "end_time": "2022-03-08T08:27:24.331688",
     "exception": false,
     "start_time": "2022-03-08T08:27:24.305351",
     "status": "completed"
    },
    "tags": []
   },
   "source": [
    "# Prediction on Testing dataset"
   ]
  },
  {
   "cell_type": "code",
   "execution_count": 21,
   "id": "5e67e537",
   "metadata": {
    "execution": {
     "iopub.execute_input": "2022-03-08T08:27:24.394036Z",
     "iopub.status.busy": "2022-03-08T08:27:24.391331Z",
     "iopub.status.idle": "2022-03-08T08:27:24.456111Z",
     "shell.execute_reply": "2022-03-08T08:27:24.455575Z",
     "shell.execute_reply.started": "2022-03-08T08:09:13.358919Z"
    },
    "papermill": {
     "duration": 0.097746,
     "end_time": "2022-03-08T08:27:24.456261",
     "exception": false,
     "start_time": "2022-03-08T08:27:24.358515",
     "status": "completed"
    },
    "tags": []
   },
   "outputs": [],
   "source": [
    "# Predicting the Test set results\n",
    "\n",
    "y_pred = clf.predict(X_test)"
   ]
  },
  {
   "cell_type": "code",
   "execution_count": 22,
   "id": "dc6bd5ee",
   "metadata": {
    "execution": {
     "iopub.execute_input": "2022-03-08T08:27:24.514110Z",
     "iopub.status.busy": "2022-03-08T08:27:24.513419Z",
     "iopub.status.idle": "2022-03-08T08:27:24.516946Z",
     "shell.execute_reply": "2022-03-08T08:27:24.516464Z",
     "shell.execute_reply.started": "2022-03-08T08:09:13.431364Z"
    },
    "papermill": {
     "duration": 0.034453,
     "end_time": "2022-03-08T08:27:24.517077",
     "exception": false,
     "start_time": "2022-03-08T08:27:24.482624",
     "status": "completed"
    },
    "tags": []
   },
   "outputs": [
    {
     "data": {
      "text/plain": [
       "array([ True, False,  True, ...,  True,  True,  True])"
      ]
     },
     "execution_count": 22,
     "metadata": {},
     "output_type": "execute_result"
    }
   ],
   "source": [
    "y_pred"
   ]
  },
  {
   "cell_type": "markdown",
   "id": "91ed953d",
   "metadata": {
    "execution": {
     "iopub.execute_input": "2022-03-06T04:31:36.142944Z",
     "iopub.status.busy": "2022-03-06T04:31:36.142008Z",
     "iopub.status.idle": "2022-03-06T04:31:36.148558Z",
     "shell.execute_reply": "2022-03-06T04:31:36.147529Z",
     "shell.execute_reply.started": "2022-03-06T04:31:36.1429Z"
    },
    "papermill": {
     "duration": 0.026412,
     "end_time": "2022-03-08T08:27:24.570276",
     "exception": false,
     "start_time": "2022-03-08T08:27:24.543864",
     "status": "completed"
    },
    "tags": []
   },
   "source": [
    "# Submission:"
   ]
  },
  {
   "cell_type": "code",
   "execution_count": 23,
   "id": "549de01f",
   "metadata": {
    "execution": {
     "iopub.execute_input": "2022-03-08T08:27:24.630916Z",
     "iopub.status.busy": "2022-03-08T08:27:24.629737Z",
     "iopub.status.idle": "2022-03-08T08:27:24.631805Z",
     "shell.execute_reply": "2022-03-08T08:27:24.632255Z",
     "shell.execute_reply.started": "2022-03-08T08:09:13.443483Z"
    },
    "papermill": {
     "duration": 0.035181,
     "end_time": "2022-03-08T08:27:24.632418",
     "exception": false,
     "start_time": "2022-03-08T08:27:24.597237",
     "status": "completed"
    },
    "tags": []
   },
   "outputs": [],
   "source": [
    "# Since Passenger Id was transformed we need to inverse transform it for submission\n",
    "\n",
    "X_test[\"PassengerId\"]= le.inverse_transform(X_test[\"PassengerId\"])"
   ]
  },
  {
   "cell_type": "code",
   "execution_count": 24,
   "id": "da5dc7e8",
   "metadata": {
    "execution": {
     "iopub.execute_input": "2022-03-08T08:27:24.694152Z",
     "iopub.status.busy": "2022-03-08T08:27:24.693403Z",
     "iopub.status.idle": "2022-03-08T08:27:24.696376Z",
     "shell.execute_reply": "2022-03-08T08:27:24.696813Z",
     "shell.execute_reply.started": "2022-03-08T08:09:13.455936Z"
    },
    "papermill": {
     "duration": 0.03649,
     "end_time": "2022-03-08T08:27:24.696978",
     "exception": false,
     "start_time": "2022-03-08T08:27:24.660488",
     "status": "completed"
    },
    "tags": []
   },
   "outputs": [
    {
     "data": {
      "text/plain": [
       "PassengerId      object\n",
       "HomePlanet        int32\n",
       "CryoSleep         int32\n",
       "Cabin             int32\n",
       "Destination       int32\n",
       "Age             float64\n",
       "VIP               int32\n",
       "RoomService     float64\n",
       "FoodCourt       float64\n",
       "ShoppingMall    float64\n",
       "Spa             float64\n",
       "VRDeck          float64\n",
       "dtype: object"
      ]
     },
     "execution_count": 24,
     "metadata": {},
     "output_type": "execute_result"
    }
   ],
   "source": [
    "# Checking the datatype of the testing dataset\n",
    "\n",
    "X_test.dtypes"
   ]
  },
  {
   "cell_type": "code",
   "execution_count": 25,
   "id": "8fe843d5",
   "metadata": {
    "execution": {
     "iopub.execute_input": "2022-03-08T08:27:24.754829Z",
     "iopub.status.busy": "2022-03-08T08:27:24.753908Z",
     "iopub.status.idle": "2022-03-08T08:27:24.759465Z",
     "shell.execute_reply": "2022-03-08T08:27:24.759894Z",
     "shell.execute_reply.started": "2022-03-08T08:09:13.471589Z"
    },
    "papermill": {
     "duration": 0.036215,
     "end_time": "2022-03-08T08:27:24.760067",
     "exception": false,
     "start_time": "2022-03-08T08:27:24.723852",
     "status": "completed"
    },
    "tags": []
   },
   "outputs": [],
   "source": [
    "# Creating a new dataframe for submission which will have PassengerId and Transported Column\n",
    "\n",
    "submission = pd.DataFrame(\n",
    "    {'PassengerId':X_test[\"PassengerId\"] ,\n",
    "     'Transported': y_pred},columns=['PassengerId', 'Transported'])"
   ]
  },
  {
   "cell_type": "code",
   "execution_count": 26,
   "id": "b8689b6b",
   "metadata": {
    "execution": {
     "iopub.execute_input": "2022-03-08T08:27:24.818172Z",
     "iopub.status.busy": "2022-03-08T08:27:24.817217Z",
     "iopub.status.idle": "2022-03-08T08:27:24.829226Z",
     "shell.execute_reply": "2022-03-08T08:27:24.829649Z",
     "shell.execute_reply.started": "2022-03-08T08:09:13.484737Z"
    },
    "papermill": {
     "duration": 0.042704,
     "end_time": "2022-03-08T08:27:24.829856",
     "exception": false,
     "start_time": "2022-03-08T08:27:24.787152",
     "status": "completed"
    },
    "tags": []
   },
   "outputs": [],
   "source": [
    "# Saving our Submisson File\n",
    "\n",
    "submission.to_csv(\"submission.csv\",index=False)"
   ]
  },
  {
   "cell_type": "code",
   "execution_count": 27,
   "id": "13b223a1",
   "metadata": {
    "execution": {
     "iopub.execute_input": "2022-03-08T08:27:24.889458Z",
     "iopub.status.busy": "2022-03-08T08:27:24.888452Z",
     "iopub.status.idle": "2022-03-08T08:27:24.893687Z",
     "shell.execute_reply": "2022-03-08T08:27:24.894108Z",
     "shell.execute_reply.started": "2022-03-08T08:09:13.516166Z"
    },
    "papermill": {
     "duration": 0.036551,
     "end_time": "2022-03-08T08:27:24.894280",
     "exception": false,
     "start_time": "2022-03-08T08:27:24.857729",
     "status": "completed"
    },
    "tags": []
   },
   "outputs": [
    {
     "data": {
      "text/plain": [
       "(4277, 2)"
      ]
     },
     "execution_count": 27,
     "metadata": {},
     "output_type": "execute_result"
    }
   ],
   "source": [
    "# Checking the dimension of our submission Compitetion requires submission file shape to be(4277,2)\n",
    "\n",
    "submission.shape"
   ]
  },
  {
   "cell_type": "code",
   "execution_count": 28,
   "id": "820702f3",
   "metadata": {},
   "outputs": [],
   "source": [
    "X = train.drop(columns = ['Transported', 'Name'])\n",
    "y = train[['PassengerId', 'Transported']]"
   ]
  },
  {
   "cell_type": "code",
   "execution_count": 29,
   "id": "36082179",
   "metadata": {},
   "outputs": [
    {
     "data": {
      "text/html": [
       "<div>\n",
       "<style scoped>\n",
       "    .dataframe tbody tr th:only-of-type {\n",
       "        vertical-align: middle;\n",
       "    }\n",
       "\n",
       "    .dataframe tbody tr th {\n",
       "        vertical-align: top;\n",
       "    }\n",
       "\n",
       "    .dataframe thead th {\n",
       "        text-align: right;\n",
       "    }\n",
       "</style>\n",
       "<table border=\"1\" class=\"dataframe\">\n",
       "  <thead>\n",
       "    <tr style=\"text-align: right;\">\n",
       "      <th></th>\n",
       "      <th>PassengerId</th>\n",
       "      <th>HomePlanet</th>\n",
       "      <th>CryoSleep</th>\n",
       "      <th>Cabin</th>\n",
       "      <th>Destination</th>\n",
       "      <th>Age</th>\n",
       "      <th>VIP</th>\n",
       "      <th>RoomService</th>\n",
       "      <th>FoodCourt</th>\n",
       "      <th>ShoppingMall</th>\n",
       "      <th>Spa</th>\n",
       "      <th>VRDeck</th>\n",
       "    </tr>\n",
       "  </thead>\n",
       "  <tbody>\n",
       "    <tr>\n",
       "      <th>0</th>\n",
       "      <td>0001_01</td>\n",
       "      <td>1</td>\n",
       "      <td>0</td>\n",
       "      <td>149</td>\n",
       "      <td>2</td>\n",
       "      <td>39.0</td>\n",
       "      <td>0</td>\n",
       "      <td>0.0</td>\n",
       "      <td>0.0</td>\n",
       "      <td>0.0</td>\n",
       "      <td>0.0</td>\n",
       "      <td>0.0</td>\n",
       "    </tr>\n",
       "    <tr>\n",
       "      <th>1</th>\n",
       "      <td>0002_01</td>\n",
       "      <td>0</td>\n",
       "      <td>0</td>\n",
       "      <td>2184</td>\n",
       "      <td>2</td>\n",
       "      <td>24.0</td>\n",
       "      <td>0</td>\n",
       "      <td>109.0</td>\n",
       "      <td>9.0</td>\n",
       "      <td>25.0</td>\n",
       "      <td>549.0</td>\n",
       "      <td>44.0</td>\n",
       "    </tr>\n",
       "    <tr>\n",
       "      <th>2</th>\n",
       "      <td>0003_01</td>\n",
       "      <td>1</td>\n",
       "      <td>0</td>\n",
       "      <td>1</td>\n",
       "      <td>2</td>\n",
       "      <td>58.0</td>\n",
       "      <td>1</td>\n",
       "      <td>43.0</td>\n",
       "      <td>3576.0</td>\n",
       "      <td>0.0</td>\n",
       "      <td>6715.0</td>\n",
       "      <td>49.0</td>\n",
       "    </tr>\n",
       "    <tr>\n",
       "      <th>3</th>\n",
       "      <td>0003_02</td>\n",
       "      <td>1</td>\n",
       "      <td>0</td>\n",
       "      <td>1</td>\n",
       "      <td>2</td>\n",
       "      <td>33.0</td>\n",
       "      <td>0</td>\n",
       "      <td>0.0</td>\n",
       "      <td>1283.0</td>\n",
       "      <td>371.0</td>\n",
       "      <td>3329.0</td>\n",
       "      <td>193.0</td>\n",
       "    </tr>\n",
       "    <tr>\n",
       "      <th>4</th>\n",
       "      <td>0004_01</td>\n",
       "      <td>0</td>\n",
       "      <td>0</td>\n",
       "      <td>2186</td>\n",
       "      <td>2</td>\n",
       "      <td>16.0</td>\n",
       "      <td>0</td>\n",
       "      <td>303.0</td>\n",
       "      <td>70.0</td>\n",
       "      <td>151.0</td>\n",
       "      <td>565.0</td>\n",
       "      <td>2.0</td>\n",
       "    </tr>\n",
       "    <tr>\n",
       "      <th>...</th>\n",
       "      <td>...</td>\n",
       "      <td>...</td>\n",
       "      <td>...</td>\n",
       "      <td>...</td>\n",
       "      <td>...</td>\n",
       "      <td>...</td>\n",
       "      <td>...</td>\n",
       "      <td>...</td>\n",
       "      <td>...</td>\n",
       "      <td>...</td>\n",
       "      <td>...</td>\n",
       "      <td>...</td>\n",
       "    </tr>\n",
       "    <tr>\n",
       "      <th>8688</th>\n",
       "      <td>9276_01</td>\n",
       "      <td>1</td>\n",
       "      <td>0</td>\n",
       "      <td>146</td>\n",
       "      <td>0</td>\n",
       "      <td>41.0</td>\n",
       "      <td>1</td>\n",
       "      <td>0.0</td>\n",
       "      <td>6819.0</td>\n",
       "      <td>0.0</td>\n",
       "      <td>1643.0</td>\n",
       "      <td>74.0</td>\n",
       "    </tr>\n",
       "    <tr>\n",
       "      <th>8689</th>\n",
       "      <td>9278_01</td>\n",
       "      <td>0</td>\n",
       "      <td>1</td>\n",
       "      <td>5280</td>\n",
       "      <td>1</td>\n",
       "      <td>18.0</td>\n",
       "      <td>0</td>\n",
       "      <td>0.0</td>\n",
       "      <td>0.0</td>\n",
       "      <td>0.0</td>\n",
       "      <td>0.0</td>\n",
       "      <td>0.0</td>\n",
       "    </tr>\n",
       "    <tr>\n",
       "      <th>8690</th>\n",
       "      <td>9279_01</td>\n",
       "      <td>0</td>\n",
       "      <td>0</td>\n",
       "      <td>5285</td>\n",
       "      <td>2</td>\n",
       "      <td>26.0</td>\n",
       "      <td>0</td>\n",
       "      <td>0.0</td>\n",
       "      <td>0.0</td>\n",
       "      <td>1872.0</td>\n",
       "      <td>1.0</td>\n",
       "      <td>0.0</td>\n",
       "    </tr>\n",
       "    <tr>\n",
       "      <th>8691</th>\n",
       "      <td>9280_01</td>\n",
       "      <td>1</td>\n",
       "      <td>0</td>\n",
       "      <td>2131</td>\n",
       "      <td>0</td>\n",
       "      <td>32.0</td>\n",
       "      <td>0</td>\n",
       "      <td>0.0</td>\n",
       "      <td>1049.0</td>\n",
       "      <td>0.0</td>\n",
       "      <td>353.0</td>\n",
       "      <td>3235.0</td>\n",
       "    </tr>\n",
       "    <tr>\n",
       "      <th>8692</th>\n",
       "      <td>9280_02</td>\n",
       "      <td>1</td>\n",
       "      <td>0</td>\n",
       "      <td>2131</td>\n",
       "      <td>2</td>\n",
       "      <td>44.0</td>\n",
       "      <td>0</td>\n",
       "      <td>126.0</td>\n",
       "      <td>4688.0</td>\n",
       "      <td>0.0</td>\n",
       "      <td>0.0</td>\n",
       "      <td>12.0</td>\n",
       "    </tr>\n",
       "  </tbody>\n",
       "</table>\n",
       "<p>8693 rows × 12 columns</p>\n",
       "</div>"
      ],
      "text/plain": [
       "     PassengerId  HomePlanet  CryoSleep  Cabin  Destination   Age  VIP  \\\n",
       "0        0001_01           1          0    149            2  39.0    0   \n",
       "1        0002_01           0          0   2184            2  24.0    0   \n",
       "2        0003_01           1          0      1            2  58.0    1   \n",
       "3        0003_02           1          0      1            2  33.0    0   \n",
       "4        0004_01           0          0   2186            2  16.0    0   \n",
       "...          ...         ...        ...    ...          ...   ...  ...   \n",
       "8688     9276_01           1          0    146            0  41.0    1   \n",
       "8689     9278_01           0          1   5280            1  18.0    0   \n",
       "8690     9279_01           0          0   5285            2  26.0    0   \n",
       "8691     9280_01           1          0   2131            0  32.0    0   \n",
       "8692     9280_02           1          0   2131            2  44.0    0   \n",
       "\n",
       "      RoomService  FoodCourt  ShoppingMall     Spa  VRDeck  \n",
       "0             0.0        0.0           0.0     0.0     0.0  \n",
       "1           109.0        9.0          25.0   549.0    44.0  \n",
       "2            43.0     3576.0           0.0  6715.0    49.0  \n",
       "3             0.0     1283.0         371.0  3329.0   193.0  \n",
       "4           303.0       70.0         151.0   565.0     2.0  \n",
       "...           ...        ...           ...     ...     ...  \n",
       "8688          0.0     6819.0           0.0  1643.0    74.0  \n",
       "8689          0.0        0.0           0.0     0.0     0.0  \n",
       "8690          0.0        0.0        1872.0     1.0     0.0  \n",
       "8691          0.0     1049.0           0.0   353.0  3235.0  \n",
       "8692        126.0     4688.0           0.0     0.0    12.0  \n",
       "\n",
       "[8693 rows x 12 columns]"
      ]
     },
     "execution_count": 29,
     "metadata": {},
     "output_type": "execute_result"
    }
   ],
   "source": [
    "X"
   ]
  },
  {
   "cell_type": "code",
   "execution_count": 30,
   "id": "186eb7d4",
   "metadata": {},
   "outputs": [
    {
     "data": {
      "text/html": [
       "<div>\n",
       "<style scoped>\n",
       "    .dataframe tbody tr th:only-of-type {\n",
       "        vertical-align: middle;\n",
       "    }\n",
       "\n",
       "    .dataframe tbody tr th {\n",
       "        vertical-align: top;\n",
       "    }\n",
       "\n",
       "    .dataframe thead th {\n",
       "        text-align: right;\n",
       "    }\n",
       "</style>\n",
       "<table border=\"1\" class=\"dataframe\">\n",
       "  <thead>\n",
       "    <tr style=\"text-align: right;\">\n",
       "      <th></th>\n",
       "      <th>PassengerId</th>\n",
       "      <th>Transported</th>\n",
       "    </tr>\n",
       "  </thead>\n",
       "  <tbody>\n",
       "    <tr>\n",
       "      <th>0</th>\n",
       "      <td>0001_01</td>\n",
       "      <td>False</td>\n",
       "    </tr>\n",
       "    <tr>\n",
       "      <th>1</th>\n",
       "      <td>0002_01</td>\n",
       "      <td>True</td>\n",
       "    </tr>\n",
       "    <tr>\n",
       "      <th>2</th>\n",
       "      <td>0003_01</td>\n",
       "      <td>False</td>\n",
       "    </tr>\n",
       "    <tr>\n",
       "      <th>3</th>\n",
       "      <td>0003_02</td>\n",
       "      <td>False</td>\n",
       "    </tr>\n",
       "    <tr>\n",
       "      <th>4</th>\n",
       "      <td>0004_01</td>\n",
       "      <td>True</td>\n",
       "    </tr>\n",
       "    <tr>\n",
       "      <th>...</th>\n",
       "      <td>...</td>\n",
       "      <td>...</td>\n",
       "    </tr>\n",
       "    <tr>\n",
       "      <th>8688</th>\n",
       "      <td>9276_01</td>\n",
       "      <td>False</td>\n",
       "    </tr>\n",
       "    <tr>\n",
       "      <th>8689</th>\n",
       "      <td>9278_01</td>\n",
       "      <td>False</td>\n",
       "    </tr>\n",
       "    <tr>\n",
       "      <th>8690</th>\n",
       "      <td>9279_01</td>\n",
       "      <td>True</td>\n",
       "    </tr>\n",
       "    <tr>\n",
       "      <th>8691</th>\n",
       "      <td>9280_01</td>\n",
       "      <td>False</td>\n",
       "    </tr>\n",
       "    <tr>\n",
       "      <th>8692</th>\n",
       "      <td>9280_02</td>\n",
       "      <td>True</td>\n",
       "    </tr>\n",
       "  </tbody>\n",
       "</table>\n",
       "<p>8693 rows × 2 columns</p>\n",
       "</div>"
      ],
      "text/plain": [
       "     PassengerId  Transported\n",
       "0        0001_01        False\n",
       "1        0002_01         True\n",
       "2        0003_01        False\n",
       "3        0003_02        False\n",
       "4        0004_01         True\n",
       "...          ...          ...\n",
       "8688     9276_01        False\n",
       "8689     9278_01        False\n",
       "8690     9279_01         True\n",
       "8691     9280_01        False\n",
       "8692     9280_02         True\n",
       "\n",
       "[8693 rows x 2 columns]"
      ]
     },
     "execution_count": 30,
     "metadata": {},
     "output_type": "execute_result"
    }
   ],
   "source": [
    "y"
   ]
  },
  {
   "cell_type": "code",
   "execution_count": 31,
   "id": "59684fd3",
   "metadata": {
    "scrolled": true
   },
   "outputs": [],
   "source": [
    "X_train, X_test, y_train, y_test = train_test_split(X, y, test_size=0.3, random_state=0)"
   ]
  },
  {
   "cell_type": "code",
   "execution_count": 32,
   "id": "f348c0d3",
   "metadata": {},
   "outputs": [],
   "source": [
    "y_pred = clf.predict(X_test)"
   ]
  },
  {
   "cell_type": "code",
   "execution_count": 33,
   "id": "1962f74b",
   "metadata": {},
   "outputs": [
    {
     "data": {
      "text/html": [
       "<div>\n",
       "<style scoped>\n",
       "    .dataframe tbody tr th:only-of-type {\n",
       "        vertical-align: middle;\n",
       "    }\n",
       "\n",
       "    .dataframe tbody tr th {\n",
       "        vertical-align: top;\n",
       "    }\n",
       "\n",
       "    .dataframe thead th {\n",
       "        text-align: right;\n",
       "    }\n",
       "</style>\n",
       "<table border=\"1\" class=\"dataframe\">\n",
       "  <thead>\n",
       "    <tr style=\"text-align: right;\">\n",
       "      <th></th>\n",
       "      <th>PassengerId</th>\n",
       "      <th>Transported</th>\n",
       "    </tr>\n",
       "  </thead>\n",
       "  <tbody>\n",
       "    <tr>\n",
       "      <th>3601</th>\n",
       "      <td>3868_05</td>\n",
       "      <td>True</td>\n",
       "    </tr>\n",
       "    <tr>\n",
       "      <th>6057</th>\n",
       "      <td>6405_02</td>\n",
       "      <td>True</td>\n",
       "    </tr>\n",
       "    <tr>\n",
       "      <th>2797</th>\n",
       "      <td>3021_01</td>\n",
       "      <td>False</td>\n",
       "    </tr>\n",
       "    <tr>\n",
       "      <th>7110</th>\n",
       "      <td>7578_01</td>\n",
       "      <td>False</td>\n",
       "    </tr>\n",
       "    <tr>\n",
       "      <th>8579</th>\n",
       "      <td>9158_01</td>\n",
       "      <td>True</td>\n",
       "    </tr>\n",
       "    <tr>\n",
       "      <th>...</th>\n",
       "      <td>...</td>\n",
       "      <td>...</td>\n",
       "    </tr>\n",
       "    <tr>\n",
       "      <th>7081</th>\n",
       "      <td>7536_01</td>\n",
       "      <td>True</td>\n",
       "    </tr>\n",
       "    <tr>\n",
       "      <th>2873</th>\n",
       "      <td>3104_01</td>\n",
       "      <td>True</td>\n",
       "    </tr>\n",
       "    <tr>\n",
       "      <th>3420</th>\n",
       "      <td>3688_01</td>\n",
       "      <td>True</td>\n",
       "    </tr>\n",
       "    <tr>\n",
       "      <th>535</th>\n",
       "      <td>0569_01</td>\n",
       "      <td>True</td>\n",
       "    </tr>\n",
       "    <tr>\n",
       "      <th>5117</th>\n",
       "      <td>5466_04</td>\n",
       "      <td>False</td>\n",
       "    </tr>\n",
       "  </tbody>\n",
       "</table>\n",
       "<p>2608 rows × 2 columns</p>\n",
       "</div>"
      ],
      "text/plain": [
       "     PassengerId  Transported\n",
       "3601     3868_05         True\n",
       "6057     6405_02         True\n",
       "2797     3021_01        False\n",
       "7110     7578_01        False\n",
       "8579     9158_01         True\n",
       "...          ...          ...\n",
       "7081     7536_01         True\n",
       "2873     3104_01         True\n",
       "3420     3688_01         True\n",
       "535      0569_01         True\n",
       "5117     5466_04        False\n",
       "\n",
       "[2608 rows x 2 columns]"
      ]
     },
     "execution_count": 33,
     "metadata": {},
     "output_type": "execute_result"
    }
   ],
   "source": [
    "y_test"
   ]
  },
  {
   "cell_type": "code",
   "execution_count": 34,
   "id": "2b1e1582",
   "metadata": {},
   "outputs": [
    {
     "data": {
      "text/plain": [
       "array([False,  True, False, ...,  True,  True, False])"
      ]
     },
     "execution_count": 34,
     "metadata": {},
     "output_type": "execute_result"
    }
   ],
   "source": [
    "y_pred"
   ]
  },
  {
   "cell_type": "code",
   "execution_count": 35,
   "id": "95f79b8f",
   "metadata": {},
   "outputs": [
    {
     "data": {
      "text/plain": [
       "3601     True\n",
       "6057     True\n",
       "2797    False\n",
       "7110    False\n",
       "8579     True\n",
       "        ...  \n",
       "7081     True\n",
       "2873     True\n",
       "3420     True\n",
       "535      True\n",
       "5117    False\n",
       "Name: Transported, Length: 2608, dtype: bool"
      ]
     },
     "execution_count": 35,
     "metadata": {},
     "output_type": "execute_result"
    }
   ],
   "source": [
    "y = y_test.iloc[:,-1]\n",
    "y"
   ]
  },
  {
   "cell_type": "code",
   "execution_count": 36,
   "id": "57960199",
   "metadata": {},
   "outputs": [
    {
     "data": {
      "text/plain": [
       "pandas.core.series.Series"
      ]
     },
     "execution_count": 36,
     "metadata": {},
     "output_type": "execute_result"
    }
   ],
   "source": [
    "type(y)"
   ]
  },
  {
   "cell_type": "code",
   "execution_count": 37,
   "id": "2a799715",
   "metadata": {},
   "outputs": [
    {
     "data": {
      "text/plain": [
       "numpy.ndarray"
      ]
     },
     "execution_count": 37,
     "metadata": {},
     "output_type": "execute_result"
    }
   ],
   "source": [
    "type(y_pred)"
   ]
  },
  {
   "cell_type": "code",
   "execution_count": 38,
   "id": "1b004210",
   "metadata": {},
   "outputs": [
    {
     "data": {
      "text/plain": [
       "array([ True,  True, False, ...,  True,  True, False])"
      ]
     },
     "execution_count": 38,
     "metadata": {},
     "output_type": "execute_result"
    }
   ],
   "source": [
    "import numpy as np\n",
    "np.array(y)"
   ]
  },
  {
   "cell_type": "code",
   "execution_count": 39,
   "id": "e2175001",
   "metadata": {},
   "outputs": [
    {
     "data": {
      "text/plain": [
       "array([1, 1, 0, ..., 1, 1, 0], dtype=int64)"
      ]
     },
     "execution_count": 39,
     "metadata": {},
     "output_type": "execute_result"
    }
   ],
   "source": [
    "from sklearn import preprocessing\n",
    "\n",
    "le = preprocessing.LabelEncoder()\n",
    "le.fit(y)\n",
    "y = le.transform(y)\n",
    "y"
   ]
  },
  {
   "cell_type": "code",
   "execution_count": 40,
   "id": "766d3be5",
   "metadata": {},
   "outputs": [
    {
     "data": {
      "text/plain": [
       "array([0, 1, 0, ..., 1, 1, 0], dtype=int64)"
      ]
     },
     "execution_count": 40,
     "metadata": {},
     "output_type": "execute_result"
    }
   ],
   "source": [
    "le = preprocessing.LabelEncoder()\n",
    "le.fit(y_pred)\n",
    "y_pred = le.transform(y_pred)\n",
    "y_pred"
   ]
  },
  {
   "cell_type": "code",
   "execution_count": 41,
   "id": "be767a2a",
   "metadata": {},
   "outputs": [
    {
     "name": "stdout",
     "output_type": "stream",
     "text": [
      "              precision    recall  f1-score   support\n",
      "\n",
      "           0       0.87      0.79      0.83      1303\n",
      "           1       0.81      0.88      0.84      1305\n",
      "\n",
      "    accuracy                           0.84      2608\n",
      "   macro avg       0.84      0.84      0.84      2608\n",
      "weighted avg       0.84      0.84      0.84      2608\n",
      "\n"
     ]
    }
   ],
   "source": [
    "from sklearn.metrics import classification_report\n",
    "print(classification_report(y, y_pred))"
   ]
  },
  {
   "cell_type": "code",
   "execution_count": 42,
   "id": "5229824e",
   "metadata": {},
   "outputs": [
    {
     "name": "stdout",
     "output_type": "stream",
     "text": [
      "The model's accuracy score is 83.55%\n"
     ]
    }
   ],
   "source": [
    "from sklearn.metrics import confusion_matrix, accuracy_score\n",
    "print(f\"The model's accuracy score is {round(accuracy_score(y, y_pred)*100, 2)}%\")"
   ]
  },
  {
   "cell_type": "code",
   "execution_count": 43,
   "id": "94990cf3",
   "metadata": {},
   "outputs": [
    {
     "name": "stdout",
     "output_type": "stream",
     "text": [
      "[[1027  276]\n",
      " [ 153 1152]]\n"
     ]
    }
   ],
   "source": [
    "from sklearn.metrics import confusion_matrix\n",
    "print(confusion_matrix(y, y_pred))"
   ]
  },
  {
   "cell_type": "code",
   "execution_count": 44,
   "id": "2907dfe8",
   "metadata": {},
   "outputs": [
    {
     "data": {
      "text/plain": [
       "<Axes: xlabel='Predicted', ylabel='Actual'>"
      ]
     },
     "execution_count": 44,
     "metadata": {},
     "output_type": "execute_result"
    },
    {
     "data": {
      "image/png": "[encoded data removed]",
      "text/plain": [
       "<Figure size 1000x700 with 2 Axes>"
      ]
     },
     "metadata": {},
     "output_type": "display_data"
    }
   ],
   "source": [
    "data = confusion_matrix(y, y_pred)\n",
    "df_cm = pd.DataFrame(data, columns=np.unique(y), index = np.unique(y_pred))\n",
    "df_cm.index.name = 'Actual'\n",
    "df_cm.columns.name = 'Predicted'\n",
    "plt.figure(figsize = (10,7))\n",
    "sns.set(font_scale=1.4) # for label size\n",
    "sns.heatmap(df_cm/np.sum(df_cm), cmap=\"Purples\", annot=True,annot_kws={\"size\": 16}, fmt = '.2%')"
   ]
  },
  {
   "cell_type": "code",
   "execution_count": 45,
   "id": "aac2bcf3",
   "metadata": {},
   "outputs": [],
   "source": [
    "## standardizing the dataset\n",
    "from sklearn.preprocessing import StandardScaler\n",
    "scaler = StandardScaler()"
   ]
  },
  {
   "cell_type": "code",
   "execution_count": 46,
   "id": "8aa15d27",
   "metadata": {},
   "outputs": [],
   "source": [
    "X_train=scaler.fit_transform(X_train)"
   ]
  },
  {
   "cell_type": "code",
   "execution_count": 47,
   "id": "3132f232",
   "metadata": {},
   "outputs": [],
   "source": [
    "X_test=scaler.transform(X_test)"
   ]
  },
  {
   "cell_type": "code",
   "execution_count": 48,
   "id": "09bec7cc",
   "metadata": {},
   "outputs": [],
   "source": [
    "from sklearn.linear_model import LinearRegression\n",
    "##cross validation\n",
    "from sklearn.model_selection import cross_val_score"
   ]
  },
  {
   "cell_type": "code",
   "execution_count": 49,
   "id": "7e6e0d16",
   "metadata": {},
   "outputs": [
    {
     "data": {
      "text/plain": [
       "array([[ 1.17486252, -0.83919312, -0.74193991, ...,  0.05095212,\n",
       "        -0.27232796, -0.07473302],\n",
       "       [-0.65102604, -0.83919312, -0.74193991, ..., -0.23373709,\n",
       "        -0.27232796,  0.35980059],\n",
       "       [ 0.94896716,  0.31586007, -0.74193991, ..., -0.2477382 ,\n",
       "        -0.208063  ,  3.53022127],\n",
       "       ...,\n",
       "       [ 0.20180008,  1.47091326, -0.74193991, ..., -0.23995981,\n",
       "        -0.26875768,  0.45146691],\n",
       "       [-0.42772949, -0.83919312, -0.74193991, ..., -0.27262906,\n",
       "        -0.27232796, -0.2633541 ],\n",
       "       [-0.64020137, -0.83919312, -0.74193991, ..., -0.27262906,\n",
       "         0.49260353, -0.24925159]])"
      ]
     },
     "execution_count": 49,
     "metadata": {},
     "output_type": "execute_result"
    }
   ],
   "source": [
    "X_train"
   ]
  },
  {
   "cell_type": "code",
   "execution_count": 50,
   "id": "570dda02",
   "metadata": {},
   "outputs": [
    {
     "data": {
      "text/html": [
       "<div>\n",
       "<style scoped>\n",
       "    .dataframe tbody tr th:only-of-type {\n",
       "        vertical-align: middle;\n",
       "    }\n",
       "\n",
       "    .dataframe tbody tr th {\n",
       "        vertical-align: top;\n",
       "    }\n",
       "\n",
       "    .dataframe thead th {\n",
       "        text-align: right;\n",
       "    }\n",
       "</style>\n",
       "<table border=\"1\" class=\"dataframe\">\n",
       "  <thead>\n",
       "    <tr style=\"text-align: right;\">\n",
       "      <th></th>\n",
       "      <th>PassengerId</th>\n",
       "      <th>Transported</th>\n",
       "    </tr>\n",
       "  </thead>\n",
       "  <tbody>\n",
       "    <tr>\n",
       "      <th>7289</th>\n",
       "      <td>7791_01</td>\n",
       "      <td>False</td>\n",
       "    </tr>\n",
       "    <tr>\n",
       "      <th>2709</th>\n",
       "      <td>2901_02</td>\n",
       "      <td>True</td>\n",
       "    </tr>\n",
       "    <tr>\n",
       "      <th>6803</th>\n",
       "      <td>7186_03</td>\n",
       "      <td>False</td>\n",
       "    </tr>\n",
       "    <tr>\n",
       "      <th>3731</th>\n",
       "      <td>4001_05</td>\n",
       "      <td>True</td>\n",
       "    </tr>\n",
       "    <tr>\n",
       "      <th>6333</th>\n",
       "      <td>6699_01</td>\n",
       "      <td>False</td>\n",
       "    </tr>\n",
       "    <tr>\n",
       "      <th>...</th>\n",
       "      <td>...</td>\n",
       "      <td>...</td>\n",
       "    </tr>\n",
       "    <tr>\n",
       "      <th>4373</th>\n",
       "      <td>4655_01</td>\n",
       "      <td>True</td>\n",
       "    </tr>\n",
       "    <tr>\n",
       "      <th>7891</th>\n",
       "      <td>8423_01</td>\n",
       "      <td>False</td>\n",
       "    </tr>\n",
       "    <tr>\n",
       "      <th>4859</th>\n",
       "      <td>5185_01</td>\n",
       "      <td>False</td>\n",
       "    </tr>\n",
       "    <tr>\n",
       "      <th>3264</th>\n",
       "      <td>3499_04</td>\n",
       "      <td>False</td>\n",
       "    </tr>\n",
       "    <tr>\n",
       "      <th>2732</th>\n",
       "      <td>2930_01</td>\n",
       "      <td>False</td>\n",
       "    </tr>\n",
       "  </tbody>\n",
       "</table>\n",
       "<p>6085 rows × 2 columns</p>\n",
       "</div>"
      ],
      "text/plain": [
       "     PassengerId  Transported\n",
       "7289     7791_01        False\n",
       "2709     2901_02         True\n",
       "6803     7186_03        False\n",
       "3731     4001_05         True\n",
       "6333     6699_01        False\n",
       "...          ...          ...\n",
       "4373     4655_01         True\n",
       "7891     8423_01        False\n",
       "4859     5185_01        False\n",
       "3264     3499_04        False\n",
       "2732     2930_01        False\n",
       "\n",
       "[6085 rows x 2 columns]"
      ]
     },
     "execution_count": 50,
     "metadata": {},
     "output_type": "execute_result"
    }
   ],
   "source": [
    "y_train"
   ]
  },
  {
   "cell_type": "code",
   "execution_count": 51,
   "id": "6c78e021",
   "metadata": {},
   "outputs": [
    {
     "data": {
      "text/html": [
       "<div>\n",
       "<style scoped>\n",
       "    .dataframe tbody tr th:only-of-type {\n",
       "        vertical-align: middle;\n",
       "    }\n",
       "\n",
       "    .dataframe tbody tr th {\n",
       "        vertical-align: top;\n",
       "    }\n",
       "\n",
       "    .dataframe thead th {\n",
       "        text-align: right;\n",
       "    }\n",
       "</style>\n",
       "<table border=\"1\" class=\"dataframe\">\n",
       "  <thead>\n",
       "    <tr style=\"text-align: right;\">\n",
       "      <th></th>\n",
       "      <th>PassengerId</th>\n",
       "      <th>Transported</th>\n",
       "    </tr>\n",
       "  </thead>\n",
       "  <tbody>\n",
       "    <tr>\n",
       "      <th>3601</th>\n",
       "      <td>3868_05</td>\n",
       "      <td>True</td>\n",
       "    </tr>\n",
       "    <tr>\n",
       "      <th>6057</th>\n",
       "      <td>6405_02</td>\n",
       "      <td>True</td>\n",
       "    </tr>\n",
       "    <tr>\n",
       "      <th>2797</th>\n",
       "      <td>3021_01</td>\n",
       "      <td>False</td>\n",
       "    </tr>\n",
       "    <tr>\n",
       "      <th>7110</th>\n",
       "      <td>7578_01</td>\n",
       "      <td>False</td>\n",
       "    </tr>\n",
       "    <tr>\n",
       "      <th>8579</th>\n",
       "      <td>9158_01</td>\n",
       "      <td>True</td>\n",
       "    </tr>\n",
       "    <tr>\n",
       "      <th>...</th>\n",
       "      <td>...</td>\n",
       "      <td>...</td>\n",
       "    </tr>\n",
       "    <tr>\n",
       "      <th>7081</th>\n",
       "      <td>7536_01</td>\n",
       "      <td>True</td>\n",
       "    </tr>\n",
       "    <tr>\n",
       "      <th>2873</th>\n",
       "      <td>3104_01</td>\n",
       "      <td>True</td>\n",
       "    </tr>\n",
       "    <tr>\n",
       "      <th>3420</th>\n",
       "      <td>3688_01</td>\n",
       "      <td>True</td>\n",
       "    </tr>\n",
       "    <tr>\n",
       "      <th>535</th>\n",
       "      <td>0569_01</td>\n",
       "      <td>True</td>\n",
       "    </tr>\n",
       "    <tr>\n",
       "      <th>5117</th>\n",
       "      <td>5466_04</td>\n",
       "      <td>False</td>\n",
       "    </tr>\n",
       "  </tbody>\n",
       "</table>\n",
       "<p>2608 rows × 2 columns</p>\n",
       "</div>"
      ],
      "text/plain": [
       "     PassengerId  Transported\n",
       "3601     3868_05         True\n",
       "6057     6405_02         True\n",
       "2797     3021_01        False\n",
       "7110     7578_01        False\n",
       "8579     9158_01         True\n",
       "...          ...          ...\n",
       "7081     7536_01         True\n",
       "2873     3104_01         True\n",
       "3420     3688_01         True\n",
       "535      0569_01         True\n",
       "5117     5466_04        False\n",
       "\n",
       "[2608 rows x 2 columns]"
      ]
     },
     "execution_count": 51,
     "metadata": {},
     "output_type": "execute_result"
    }
   ],
   "source": [
    "y_test"
   ]
  },
  {
   "cell_type": "code",
   "execution_count": 52,
   "id": "232e52f3",
   "metadata": {},
   "outputs": [
    {
     "data": {
      "text/plain": [
       "((8693, 13), (8693,), (4277, 13))"
      ]
     },
     "execution_count": 52,
     "metadata": {},
     "output_type": "execute_result"
    }
   ],
   "source": [
    "X_train = train.drop(\"Transported\", axis=1)\n",
    "Y_train = train[\"Transported\"]\n",
    "X_test  = test\n",
    "X_train.shape, Y_train.shape, X_test.shape"
   ]
  },
  {
   "cell_type": "code",
   "execution_count": 54,
   "id": "afe93d80",
   "metadata": {},
   "outputs": [
    {
     "ename": "NameError",
     "evalue": "name 'train_data' is not defined",
     "output_type": "error",
     "traceback": [
      "\u001b[1;31m---------------------------------------------------------------------------\u001b[0m",
      "\u001b[1;31mNameError\u001b[0m                                 Traceback (most recent call last)",
      "Cell \u001b[1;32mIn[54], line 41\u001b[0m\n\u001b[0;32m     38\u001b[0m \u001b[38;5;66;03m# BBO optimization loop\u001b[39;00m\n\u001b[0;32m     39\u001b[0m \u001b[38;5;28;01mfor\u001b[39;00m iteration \u001b[38;5;129;01min\u001b[39;00m \u001b[38;5;28mrange\u001b[39m(max_iterations):\n\u001b[0;32m     40\u001b[0m     \u001b[38;5;66;03m# Evaluate fitness of each solution in the population\u001b[39;00m\n\u001b[1;32m---> 41\u001b[0m     fitness_values \u001b[38;5;241m=\u001b[39m np\u001b[38;5;241m.\u001b[39marray([fitness_function(features_subset) \u001b[38;5;28;01mfor\u001b[39;00m features_subset \u001b[38;5;129;01min\u001b[39;00m population])\n\u001b[0;32m     43\u001b[0m     \u001b[38;5;66;03m# Select the best solutions based on fitness values\u001b[39;00m\n\u001b[0;32m     44\u001b[0m     selected_indices \u001b[38;5;241m=\u001b[39m np\u001b[38;5;241m.\u001b[39margsort(fitness_values)[\u001b[38;5;241m-\u001b[39m\u001b[38;5;28mint\u001b[39m(migration_rate \u001b[38;5;241m*\u001b[39m population_size):]\n",
      "Cell \u001b[1;32mIn[54], line 41\u001b[0m, in \u001b[0;36m<listcomp>\u001b[1;34m(.0)\u001b[0m\n\u001b[0;32m     38\u001b[0m \u001b[38;5;66;03m# BBO optimization loop\u001b[39;00m\n\u001b[0;32m     39\u001b[0m \u001b[38;5;28;01mfor\u001b[39;00m iteration \u001b[38;5;129;01min\u001b[39;00m \u001b[38;5;28mrange\u001b[39m(max_iterations):\n\u001b[0;32m     40\u001b[0m     \u001b[38;5;66;03m# Evaluate fitness of each solution in the population\u001b[39;00m\n\u001b[1;32m---> 41\u001b[0m     fitness_values \u001b[38;5;241m=\u001b[39m np\u001b[38;5;241m.\u001b[39marray([\u001b[43mfitness_function\u001b[49m\u001b[43m(\u001b[49m\u001b[43mfeatures_subset\u001b[49m\u001b[43m)\u001b[49m \u001b[38;5;28;01mfor\u001b[39;00m features_subset \u001b[38;5;129;01min\u001b[39;00m population])\n\u001b[0;32m     43\u001b[0m     \u001b[38;5;66;03m# Select the best solutions based on fitness values\u001b[39;00m\n\u001b[0;32m     44\u001b[0m     selected_indices \u001b[38;5;241m=\u001b[39m np\u001b[38;5;241m.\u001b[39margsort(fitness_values)[\u001b[38;5;241m-\u001b[39m\u001b[38;5;28mint\u001b[39m(migration_rate \u001b[38;5;241m*\u001b[39m population_size):]\n",
      "Cell \u001b[1;32mIn[54], line 25\u001b[0m, in \u001b[0;36mfitness_function\u001b[1;34m(features_subset)\u001b[0m\n\u001b[0;32m     21\u001b[0m model \u001b[38;5;241m=\u001b[39m RandomForestClassifier()\n\u001b[0;32m     23\u001b[0m \u001b[38;5;66;03m# Split the train dataset into training and validation sets\u001b[39;00m\n\u001b[0;32m     24\u001b[0m train_features, val_features, train_labels, val_labels \u001b[38;5;241m=\u001b[39m train_test_split(\n\u001b[1;32m---> 25\u001b[0m     \u001b[43mtrain_data\u001b[49m, train_labels, test_size\u001b[38;5;241m=\u001b[39m\u001b[38;5;241m0.2\u001b[39m, random_state\u001b[38;5;241m=\u001b[39m\u001b[38;5;241m42\u001b[39m)\n\u001b[0;32m     27\u001b[0m \u001b[38;5;66;03m# Train the model using the selected features\u001b[39;00m\n\u001b[0;32m     28\u001b[0m model\u001b[38;5;241m.\u001b[39mfit(train_features[:, features_subset], train_labels)\n",
      "\u001b[1;31mNameError\u001b[0m: name 'train_data' is not defined"
     ]
    }
   ],
   "source": [
    "import numpy as np\n",
    "from sklearn.model_selection import train_test_split\n",
    "from sklearn.metrics import accuracy_score\n",
    "from sklearn.ensemble import RandomForestClassifier\n",
    "\n",
    "# Load and preprocess your train.csv and test.csv datasets\n",
    "# ...\n",
    "num_features = 12\n",
    "# Define parameters\n",
    "population_size = 50\n",
    "max_iterations = 100\n",
    "mutation_rate = 0.1\n",
    "migration_rate = 0.1\n",
    "\n",
    "# Initialize the population of candidate solutions\n",
    "population = np.random.randint(2, size=(population_size, num_features))\n",
    "\n",
    "# Define the fitness function\n",
    "def fitness_function(features_subset):\n",
    "    # Create a machine learning model (e.g., RandomForestClassifier)\n",
    "    model = RandomForestClassifier()\n",
    "    \n",
    "    # Split the train dataset into training and validation sets\n",
    "    train_features, val_features, train_labels, val_labels = train_test_split(\n",
    "        train_data, train_labels, test_size=0.2, random_state=42)\n",
    "    \n",
    "    # Train the model using the selected features\n",
    "    model.fit(train_features[:, features_subset], train_labels)\n",
    "    \n",
    "    # Make predictions on the validation set\n",
    "    val_predictions = model.predict(val_features[:, features_subset])\n",
    "    \n",
    "    # Calculate accuracy (you can use other metrics as well)\n",
    "    accuracy = accuracy_score(val_labels, val_predictions)\n",
    "    \n",
    "    return accuracy\n",
    "\n",
    "# BBO optimization loop\n",
    "for iteration in range(max_iterations):\n",
    "    # Evaluate fitness of each solution in the population\n",
    "    fitness_values = np.array([fitness_function(features_subset) for features_subset in population])\n",
    "    \n",
    "    # Select the best solutions based on fitness values\n",
    "    selected_indices = np.argsort(fitness_values)[-int(migration_rate * population_size):]\n",
    "    selected_solutions = population[selected_indices]\n",
    "    \n",
    "    # Apply migration and mutation to generate new solutions\n",
    "    new_population = np.copy(population)\n",
    "    for i in range(population_size):\n",
    "        if i not in selected_indices:\n",
    "            migration_candidate = selected_solutions[np.random.choice(selected_solutions.shape[0])]\n",
    "            new_population[i] = np.where(np.random.rand(num_features) < migration_rate, migration_candidate, population[i])\n",
    "            new_population[i] = np.where(np.random.rand(num_features) < mutation_rate, 1 - new_population[i], new_population[i])\n",
    "    \n",
    "    population = new_population\n",
    "\n",
    "# Select the best solution from the final population\n",
    "best_solution = population[np.argmax(fitness_values)]\n",
    "\n",
    "# Train and evaluate a model using the selected features on the test.csv dataset\n",
    "# ...\n",
    "\n",
    "# Print the selected features\n",
    "selected_features = np.where(best_solution == 1)[0]\n",
    "print(\"Selected features:\", selected_features)\n"
   ]
  },
  {
   "cell_type": "code",
   "execution_count": 56,
   "id": "bf66be36",
   "metadata": {},
   "outputs": [],
   "source": [
    "# Assuming you have a target column 'target' in the train dataset\n",
    "train_labels = train['Transported']\n",
    "train_data = train.drop(columns=['Transported'])\n",
    "\n",
    "# Assuming the test dataset has similar features as the train dataset\n",
    "test_data = test.copy()\n",
    "\n",
    "# Convert train_data and test_data to numpy arrays for easier manipulation\n",
    "train_data = train_data.to_numpy()\n",
    "test_data = test_data.to_numpy()\n",
    "\n",
    "num_features = train_data.shape[1]  # Number of features\n"
   ]
  },
  {
   "cell_type": "code",
   "execution_count": 58,
   "id": "3d5c3fac",
   "metadata": {},
   "outputs": [],
   "source": [
    "population_size = 50\n",
    "max_iterations = 100\n",
    "mutation_rate = 0.1\n",
    "migration_rate = 0.1\n",
    "\n",
    "# Define the fitness function\n",
    "def fitness_function(features_subset):\n",
    "    model = RandomForestClassifier(random_state=42)\n",
    "    train_features, val_features, train_labels, val_labels = train_test_split(\n",
    "        train_data, train_labels, test_size=0.2, random_state=42)\n",
    "    \n",
    "    model.fit(train_features[:, features_subset], train_labels)\n",
    "    val_predictions = model.predict(val_features[:, features_subset])\n",
    "    \n",
    "    accuracy = accuracy_score(val_labels, val_predictions)\n",
    "    return accuracy\n"
   ]
  },
  {
   "cell_type": "code",
   "execution_count": 62,
   "id": "957f6e94",
   "metadata": {
    "collapsed": true
   },
   "outputs": [
    {
     "ename": "ValueError",
     "evalue": "could not convert string to float: 'Earth'",
     "output_type": "error",
     "traceback": [
      "\u001b[1;31m---------------------------------------------------------------------------\u001b[0m",
      "\u001b[1;31mValueError\u001b[0m                                Traceback (most recent call last)",
      "Cell \u001b[1;32mIn[62], line 46\u001b[0m\n\u001b[0;32m     43\u001b[0m population \u001b[38;5;241m=\u001b[39m np\u001b[38;5;241m.\u001b[39mrandom\u001b[38;5;241m.\u001b[39mrandint(\u001b[38;5;241m2\u001b[39m, size\u001b[38;5;241m=\u001b[39m(population_size, num_features))\n\u001b[0;32m     45\u001b[0m \u001b[38;5;28;01mfor\u001b[39;00m iteration \u001b[38;5;129;01min\u001b[39;00m \u001b[38;5;28mrange\u001b[39m(max_iterations):\n\u001b[1;32m---> 46\u001b[0m     fitness_values \u001b[38;5;241m=\u001b[39m np\u001b[38;5;241m.\u001b[39marray([fitness_function(features_subset) \u001b[38;5;28;01mfor\u001b[39;00m features_subset \u001b[38;5;129;01min\u001b[39;00m population])\n\u001b[0;32m     48\u001b[0m     selected_indices \u001b[38;5;241m=\u001b[39m np\u001b[38;5;241m.\u001b[39margsort(fitness_values)[\u001b[38;5;241m-\u001b[39m\u001b[38;5;28mint\u001b[39m(migration_rate \u001b[38;5;241m*\u001b[39m population_size):]\n\u001b[0;32m     49\u001b[0m     selected_solutions \u001b[38;5;241m=\u001b[39m population[selected_indices]\n",
      "Cell \u001b[1;32mIn[62], line 46\u001b[0m, in \u001b[0;36m<listcomp>\u001b[1;34m(.0)\u001b[0m\n\u001b[0;32m     43\u001b[0m population \u001b[38;5;241m=\u001b[39m np\u001b[38;5;241m.\u001b[39mrandom\u001b[38;5;241m.\u001b[39mrandint(\u001b[38;5;241m2\u001b[39m, size\u001b[38;5;241m=\u001b[39m(population_size, num_features))\n\u001b[0;32m     45\u001b[0m \u001b[38;5;28;01mfor\u001b[39;00m iteration \u001b[38;5;129;01min\u001b[39;00m \u001b[38;5;28mrange\u001b[39m(max_iterations):\n\u001b[1;32m---> 46\u001b[0m     fitness_values \u001b[38;5;241m=\u001b[39m np\u001b[38;5;241m.\u001b[39marray([\u001b[43mfitness_function\u001b[49m\u001b[43m(\u001b[49m\u001b[43mfeatures_subset\u001b[49m\u001b[43m)\u001b[49m \u001b[38;5;28;01mfor\u001b[39;00m features_subset \u001b[38;5;129;01min\u001b[39;00m population])\n\u001b[0;32m     48\u001b[0m     selected_indices \u001b[38;5;241m=\u001b[39m np\u001b[38;5;241m.\u001b[39margsort(fitness_values)[\u001b[38;5;241m-\u001b[39m\u001b[38;5;28mint\u001b[39m(migration_rate \u001b[38;5;241m*\u001b[39m population_size):]\n\u001b[0;32m     49\u001b[0m     selected_solutions \u001b[38;5;241m=\u001b[39m population[selected_indices]\n",
      "Cell \u001b[1;32mIn[62], line 36\u001b[0m, in \u001b[0;36mfitness_function\u001b[1;34m(features_subset)\u001b[0m\n\u001b[0;32m     32\u001b[0m model \u001b[38;5;241m=\u001b[39m RandomForestClassifier(random_state\u001b[38;5;241m=\u001b[39m\u001b[38;5;241m42\u001b[39m)\n\u001b[0;32m     33\u001b[0m train_features, val_features, train_labels_split, val_labels \u001b[38;5;241m=\u001b[39m train_test_split(\n\u001b[0;32m     34\u001b[0m     train_data, train_labels, test_size\u001b[38;5;241m=\u001b[39m\u001b[38;5;241m0.2\u001b[39m, random_state\u001b[38;5;241m=\u001b[39m\u001b[38;5;241m42\u001b[39m)\n\u001b[1;32m---> 36\u001b[0m \u001b[43mmodel\u001b[49m\u001b[38;5;241;43m.\u001b[39;49m\u001b[43mfit\u001b[49m\u001b[43m(\u001b[49m\u001b[43mtrain_features\u001b[49m\u001b[43m[\u001b[49m\u001b[43m:\u001b[49m\u001b[43m,\u001b[49m\u001b[43m \u001b[49m\u001b[43mfeatures_subset\u001b[49m\u001b[43m]\u001b[49m\u001b[43m,\u001b[49m\u001b[43m \u001b[49m\u001b[43mtrain_labels_split\u001b[49m\u001b[43m)\u001b[49m\n\u001b[0;32m     37\u001b[0m val_predictions \u001b[38;5;241m=\u001b[39m model\u001b[38;5;241m.\u001b[39mpredict(val_features[:, features_subset])\n\u001b[0;32m     39\u001b[0m accuracy \u001b[38;5;241m=\u001b[39m accuracy_score(val_labels, val_predictions)\n",
      "File \u001b[1;32m~\\anaconda3\\lib\\site-packages\\sklearn\\ensemble\\_forest.py:345\u001b[0m, in \u001b[0;36mBaseForest.fit\u001b[1;34m(self, X, y, sample_weight)\u001b[0m\n\u001b[0;32m    343\u001b[0m \u001b[38;5;28;01mif\u001b[39;00m issparse(y):\n\u001b[0;32m    344\u001b[0m     \u001b[38;5;28;01mraise\u001b[39;00m \u001b[38;5;167;01mValueError\u001b[39;00m(\u001b[38;5;124m\"\u001b[39m\u001b[38;5;124msparse multilabel-indicator for y is not supported.\u001b[39m\u001b[38;5;124m\"\u001b[39m)\n\u001b[1;32m--> 345\u001b[0m X, y \u001b[38;5;241m=\u001b[39m \u001b[38;5;28;43mself\u001b[39;49m\u001b[38;5;241;43m.\u001b[39;49m\u001b[43m_validate_data\u001b[49m\u001b[43m(\u001b[49m\n\u001b[0;32m    346\u001b[0m \u001b[43m    \u001b[49m\u001b[43mX\u001b[49m\u001b[43m,\u001b[49m\u001b[43m \u001b[49m\u001b[43my\u001b[49m\u001b[43m,\u001b[49m\u001b[43m \u001b[49m\u001b[43mmulti_output\u001b[49m\u001b[38;5;241;43m=\u001b[39;49m\u001b[38;5;28;43;01mTrue\u001b[39;49;00m\u001b[43m,\u001b[49m\u001b[43m \u001b[49m\u001b[43maccept_sparse\u001b[49m\u001b[38;5;241;43m=\u001b[39;49m\u001b[38;5;124;43m\"\u001b[39;49m\u001b[38;5;124;43mcsc\u001b[39;49m\u001b[38;5;124;43m\"\u001b[39;49m\u001b[43m,\u001b[49m\u001b[43m \u001b[49m\u001b[43mdtype\u001b[49m\u001b[38;5;241;43m=\u001b[39;49m\u001b[43mDTYPE\u001b[49m\n\u001b[0;32m    347\u001b[0m \u001b[43m\u001b[49m\u001b[43m)\u001b[49m\n\u001b[0;32m    348\u001b[0m \u001b[38;5;28;01mif\u001b[39;00m sample_weight \u001b[38;5;129;01mis\u001b[39;00m \u001b[38;5;129;01mnot\u001b[39;00m \u001b[38;5;28;01mNone\u001b[39;00m:\n\u001b[0;32m    349\u001b[0m     sample_weight \u001b[38;5;241m=\u001b[39m _check_sample_weight(sample_weight, X)\n",
      "File \u001b[1;32m~\\anaconda3\\lib\\site-packages\\sklearn\\base.py:565\u001b[0m, in \u001b[0;36mBaseEstimator._validate_data\u001b[1;34m(self, X, y, reset, validate_separately, **check_params)\u001b[0m\n\u001b[0;32m    563\u001b[0m         y \u001b[38;5;241m=\u001b[39m check_array(y, input_name\u001b[38;5;241m=\u001b[39m\u001b[38;5;124m\"\u001b[39m\u001b[38;5;124my\u001b[39m\u001b[38;5;124m\"\u001b[39m, \u001b[38;5;241m*\u001b[39m\u001b[38;5;241m*\u001b[39mcheck_y_params)\n\u001b[0;32m    564\u001b[0m     \u001b[38;5;28;01melse\u001b[39;00m:\n\u001b[1;32m--> 565\u001b[0m         X, y \u001b[38;5;241m=\u001b[39m check_X_y(X, y, \u001b[38;5;241m*\u001b[39m\u001b[38;5;241m*\u001b[39mcheck_params)\n\u001b[0;32m    566\u001b[0m     out \u001b[38;5;241m=\u001b[39m X, y\n\u001b[0;32m    568\u001b[0m \u001b[38;5;28;01mif\u001b[39;00m \u001b[38;5;129;01mnot\u001b[39;00m no_val_X \u001b[38;5;129;01mand\u001b[39;00m check_params\u001b[38;5;241m.\u001b[39mget(\u001b[38;5;124m\"\u001b[39m\u001b[38;5;124mensure_2d\u001b[39m\u001b[38;5;124m\"\u001b[39m, \u001b[38;5;28;01mTrue\u001b[39;00m):\n",
      "File \u001b[1;32m~\\anaconda3\\lib\\site-packages\\sklearn\\utils\\validation.py:1106\u001b[0m, in \u001b[0;36mcheck_X_y\u001b[1;34m(X, y, accept_sparse, accept_large_sparse, dtype, order, copy, force_all_finite, ensure_2d, allow_nd, multi_output, ensure_min_samples, ensure_min_features, y_numeric, estimator)\u001b[0m\n\u001b[0;32m   1101\u001b[0m         estimator_name \u001b[38;5;241m=\u001b[39m _check_estimator_name(estimator)\n\u001b[0;32m   1102\u001b[0m     \u001b[38;5;28;01mraise\u001b[39;00m \u001b[38;5;167;01mValueError\u001b[39;00m(\n\u001b[0;32m   1103\u001b[0m         \u001b[38;5;124mf\u001b[39m\u001b[38;5;124m\"\u001b[39m\u001b[38;5;132;01m{\u001b[39;00mestimator_name\u001b[38;5;132;01m}\u001b[39;00m\u001b[38;5;124m requires y to be passed, but the target y is None\u001b[39m\u001b[38;5;124m\"\u001b[39m\n\u001b[0;32m   1104\u001b[0m     )\n\u001b[1;32m-> 1106\u001b[0m X \u001b[38;5;241m=\u001b[39m \u001b[43mcheck_array\u001b[49m\u001b[43m(\u001b[49m\n\u001b[0;32m   1107\u001b[0m \u001b[43m    \u001b[49m\u001b[43mX\u001b[49m\u001b[43m,\u001b[49m\n\u001b[0;32m   1108\u001b[0m \u001b[43m    \u001b[49m\u001b[43maccept_sparse\u001b[49m\u001b[38;5;241;43m=\u001b[39;49m\u001b[43maccept_sparse\u001b[49m\u001b[43m,\u001b[49m\n\u001b[0;32m   1109\u001b[0m \u001b[43m    \u001b[49m\u001b[43maccept_large_sparse\u001b[49m\u001b[38;5;241;43m=\u001b[39;49m\u001b[43maccept_large_sparse\u001b[49m\u001b[43m,\u001b[49m\n\u001b[0;32m   1110\u001b[0m \u001b[43m    \u001b[49m\u001b[43mdtype\u001b[49m\u001b[38;5;241;43m=\u001b[39;49m\u001b[43mdtype\u001b[49m\u001b[43m,\u001b[49m\n\u001b[0;32m   1111\u001b[0m \u001b[43m    \u001b[49m\u001b[43morder\u001b[49m\u001b[38;5;241;43m=\u001b[39;49m\u001b[43morder\u001b[49m\u001b[43m,\u001b[49m\n\u001b[0;32m   1112\u001b[0m \u001b[43m    \u001b[49m\u001b[43mcopy\u001b[49m\u001b[38;5;241;43m=\u001b[39;49m\u001b[43mcopy\u001b[49m\u001b[43m,\u001b[49m\n\u001b[0;32m   1113\u001b[0m \u001b[43m    \u001b[49m\u001b[43mforce_all_finite\u001b[49m\u001b[38;5;241;43m=\u001b[39;49m\u001b[43mforce_all_finite\u001b[49m\u001b[43m,\u001b[49m\n\u001b[0;32m   1114\u001b[0m \u001b[43m    \u001b[49m\u001b[43mensure_2d\u001b[49m\u001b[38;5;241;43m=\u001b[39;49m\u001b[43mensure_2d\u001b[49m\u001b[43m,\u001b[49m\n\u001b[0;32m   1115\u001b[0m \u001b[43m    \u001b[49m\u001b[43mallow_nd\u001b[49m\u001b[38;5;241;43m=\u001b[39;49m\u001b[43mallow_nd\u001b[49m\u001b[43m,\u001b[49m\n\u001b[0;32m   1116\u001b[0m \u001b[43m    \u001b[49m\u001b[43mensure_min_samples\u001b[49m\u001b[38;5;241;43m=\u001b[39;49m\u001b[43mensure_min_samples\u001b[49m\u001b[43m,\u001b[49m\n\u001b[0;32m   1117\u001b[0m \u001b[43m    \u001b[49m\u001b[43mensure_min_features\u001b[49m\u001b[38;5;241;43m=\u001b[39;49m\u001b[43mensure_min_features\u001b[49m\u001b[43m,\u001b[49m\n\u001b[0;32m   1118\u001b[0m \u001b[43m    \u001b[49m\u001b[43mestimator\u001b[49m\u001b[38;5;241;43m=\u001b[39;49m\u001b[43mestimator\u001b[49m\u001b[43m,\u001b[49m\n\u001b[0;32m   1119\u001b[0m \u001b[43m    \u001b[49m\u001b[43minput_name\u001b[49m\u001b[38;5;241;43m=\u001b[39;49m\u001b[38;5;124;43m\"\u001b[39;49m\u001b[38;5;124;43mX\u001b[39;49m\u001b[38;5;124;43m\"\u001b[39;49m\u001b[43m,\u001b[49m\n\u001b[0;32m   1120\u001b[0m \u001b[43m\u001b[49m\u001b[43m)\u001b[49m\n\u001b[0;32m   1122\u001b[0m y \u001b[38;5;241m=\u001b[39m _check_y(y, multi_output\u001b[38;5;241m=\u001b[39mmulti_output, y_numeric\u001b[38;5;241m=\u001b[39my_numeric, estimator\u001b[38;5;241m=\u001b[39mestimator)\n\u001b[0;32m   1124\u001b[0m check_consistent_length(X, y)\n",
      "File \u001b[1;32m~\\anaconda3\\lib\\site-packages\\sklearn\\utils\\validation.py:879\u001b[0m, in \u001b[0;36mcheck_array\u001b[1;34m(array, accept_sparse, accept_large_sparse, dtype, order, copy, force_all_finite, ensure_2d, allow_nd, ensure_min_samples, ensure_min_features, estimator, input_name)\u001b[0m\n\u001b[0;32m    877\u001b[0m         array \u001b[38;5;241m=\u001b[39m xp\u001b[38;5;241m.\u001b[39mastype(array, dtype, copy\u001b[38;5;241m=\u001b[39m\u001b[38;5;28;01mFalse\u001b[39;00m)\n\u001b[0;32m    878\u001b[0m     \u001b[38;5;28;01melse\u001b[39;00m:\n\u001b[1;32m--> 879\u001b[0m         array \u001b[38;5;241m=\u001b[39m \u001b[43m_asarray_with_order\u001b[49m\u001b[43m(\u001b[49m\u001b[43marray\u001b[49m\u001b[43m,\u001b[49m\u001b[43m \u001b[49m\u001b[43morder\u001b[49m\u001b[38;5;241;43m=\u001b[39;49m\u001b[43morder\u001b[49m\u001b[43m,\u001b[49m\u001b[43m \u001b[49m\u001b[43mdtype\u001b[49m\u001b[38;5;241;43m=\u001b[39;49m\u001b[43mdtype\u001b[49m\u001b[43m,\u001b[49m\u001b[43m \u001b[49m\u001b[43mxp\u001b[49m\u001b[38;5;241;43m=\u001b[39;49m\u001b[43mxp\u001b[49m\u001b[43m)\u001b[49m\n\u001b[0;32m    880\u001b[0m \u001b[38;5;28;01mexcept\u001b[39;00m ComplexWarning \u001b[38;5;28;01mas\u001b[39;00m complex_warning:\n\u001b[0;32m    881\u001b[0m     \u001b[38;5;28;01mraise\u001b[39;00m \u001b[38;5;167;01mValueError\u001b[39;00m(\n\u001b[0;32m    882\u001b[0m         \u001b[38;5;124m\"\u001b[39m\u001b[38;5;124mComplex data not supported\u001b[39m\u001b[38;5;130;01m\\n\u001b[39;00m\u001b[38;5;132;01m{}\u001b[39;00m\u001b[38;5;130;01m\\n\u001b[39;00m\u001b[38;5;124m\"\u001b[39m\u001b[38;5;241m.\u001b[39mformat(array)\n\u001b[0;32m    883\u001b[0m     ) \u001b[38;5;28;01mfrom\u001b[39;00m \u001b[38;5;21;01mcomplex_warning\u001b[39;00m\n",
      "File \u001b[1;32m~\\anaconda3\\lib\\site-packages\\sklearn\\utils\\_array_api.py:185\u001b[0m, in \u001b[0;36m_asarray_with_order\u001b[1;34m(array, dtype, order, copy, xp)\u001b[0m\n\u001b[0;32m    182\u001b[0m     xp, _ \u001b[38;5;241m=\u001b[39m get_namespace(array)\n\u001b[0;32m    183\u001b[0m \u001b[38;5;28;01mif\u001b[39;00m xp\u001b[38;5;241m.\u001b[39m\u001b[38;5;18m__name__\u001b[39m \u001b[38;5;129;01min\u001b[39;00m {\u001b[38;5;124m\"\u001b[39m\u001b[38;5;124mnumpy\u001b[39m\u001b[38;5;124m\"\u001b[39m, \u001b[38;5;124m\"\u001b[39m\u001b[38;5;124mnumpy.array_api\u001b[39m\u001b[38;5;124m\"\u001b[39m}:\n\u001b[0;32m    184\u001b[0m     \u001b[38;5;66;03m# Use NumPy API to support order\u001b[39;00m\n\u001b[1;32m--> 185\u001b[0m     array \u001b[38;5;241m=\u001b[39m \u001b[43mnumpy\u001b[49m\u001b[38;5;241;43m.\u001b[39;49m\u001b[43masarray\u001b[49m\u001b[43m(\u001b[49m\u001b[43marray\u001b[49m\u001b[43m,\u001b[49m\u001b[43m \u001b[49m\u001b[43morder\u001b[49m\u001b[38;5;241;43m=\u001b[39;49m\u001b[43morder\u001b[49m\u001b[43m,\u001b[49m\u001b[43m \u001b[49m\u001b[43mdtype\u001b[49m\u001b[38;5;241;43m=\u001b[39;49m\u001b[43mdtype\u001b[49m\u001b[43m)\u001b[49m\n\u001b[0;32m    186\u001b[0m     \u001b[38;5;28;01mreturn\u001b[39;00m xp\u001b[38;5;241m.\u001b[39masarray(array, copy\u001b[38;5;241m=\u001b[39mcopy)\n\u001b[0;32m    187\u001b[0m \u001b[38;5;28;01melse\u001b[39;00m:\n",
      "\u001b[1;31mValueError\u001b[0m: could not convert string to float: 'Earth'"
     ]
    }
   ],
   "source": [
    "import numpy as np\n",
    "import pandas as pd\n",
    "from sklearn.model_selection import train_test_split\n",
    "from sklearn.metrics import accuracy_score\n",
    "from sklearn.ensemble import RandomForestClassifier\n",
    "\n",
    "# Load and preprocess your train.csv and test.csv datasets\n",
    "train = pd.read_csv(\"train.csv\")\n",
    "test = pd.read_csv(\"test.csv\")\n",
    "\n",
    "# Assuming you have a target column 'target' in the train dataset\n",
    "train_labels = train['Transported']\n",
    "train_data = train.drop(columns=['Transported'])\n",
    "\n",
    "# Assuming the test dataset has similar features as the train dataset\n",
    "test_data = test.copy()\n",
    "\n",
    "# Convert train_data and test_data to numpy arrays for easier manipulation\n",
    "train_data = train_data.to_numpy()\n",
    "test_data = test_data.to_numpy()\n",
    "\n",
    "num_features = train_data.shape[1]  # Number of features\n",
    "\n",
    "# Define the parameters and the fitness function\n",
    "population_size = 50\n",
    "max_iterations = 100\n",
    "mutation_rate = 0.1\n",
    "migration_rate = 0.1\n",
    "\n",
    "# Define the fitness function\n",
    "def fitness_function(features_subset):\n",
    "    model = RandomForestClassifier(random_state=42)\n",
    "    train_features, val_features, train_labels_split, val_labels = train_test_split(\n",
    "        train_data, train_labels, test_size=0.2, random_state=42)\n",
    "    \n",
    "    model.fit(train_features[:, features_subset], train_labels_split)\n",
    "    val_predictions = model.predict(val_features[:, features_subset])\n",
    "    \n",
    "    accuracy = accuracy_score(val_labels, val_predictions)\n",
    "    return accuracy\n",
    "\n",
    "# BBO optimization loop\n",
    "population = np.random.randint(2, size=(population_size, num_features))\n",
    "\n",
    "for iteration in range(max_iterations):\n",
    "    fitness_values = np.array([fitness_function(features_subset) for features_subset in population])\n",
    "    \n",
    "    selected_indices = np.argsort(fitness_values)[-int(migration_rate * population_size):]\n",
    "    selected_solutions = population[selected_indices]\n",
    "    \n",
    "    new_population = np.copy(population)\n",
    "    for i in range(population_size):\n",
    "        if i not in selected_indices:\n",
    "            migration_candidate = selected_solutions[np.random.choice(selected_solutions.shape[0])]\n",
    "            new_population[i] = np.where(np.random.rand(num_features) < migration_rate, migration_candidate, population[i])\n",
    "            new_population[i] = np.where(np.random.rand(num_features) < mutation_rate, 1 - new_population[i], new_population[i])\n",
    "    \n",
    "    population = new_population\n",
    "\n",
    "# Select the best solution from the final population\n",
    "best_solution = population[np.argmax(fitness_values)]\n",
    "selected_features = np.where(best_solution == 1)[0]\n",
    "print(\"Selected features:\", selected_features)\n"
   ]
  },
  {
   "cell_type": "code",
   "execution_count": 70,
   "id": "5d5378a0",
   "metadata": {},
   "outputs": [
    {
     "ename": "ValueError",
     "evalue": "The feature names should match those that were passed during fit.\nFeature names seen at fit time, yet now missing:\n- Transported\n",
     "output_type": "error",
     "traceback": [
      "\u001b[1;31m---------------------------------------------------------------------------\u001b[0m",
      "\u001b[1;31mValueError\u001b[0m                                Traceback (most recent call last)",
      "Cell \u001b[1;32mIn[70], line 23\u001b[0m\n\u001b[0;32m     21\u001b[0m imputer \u001b[38;5;241m=\u001b[39m SimpleImputer(strategy\u001b[38;5;241m=\u001b[39m\u001b[38;5;124m\"\u001b[39m\u001b[38;5;124mmean\u001b[39m\u001b[38;5;124m\"\u001b[39m)\n\u001b[0;32m     22\u001b[0m train_data \u001b[38;5;241m=\u001b[39m imputer\u001b[38;5;241m.\u001b[39mfit_transform(train_data)\n\u001b[1;32m---> 23\u001b[0m test_data \u001b[38;5;241m=\u001b[39m \u001b[43mimputer\u001b[49m\u001b[38;5;241;43m.\u001b[39;49m\u001b[43mtransform\u001b[49m\u001b[43m(\u001b[49m\u001b[43mtest_data\u001b[49m\u001b[43m)\u001b[49m\n\u001b[0;32m     25\u001b[0m num_features \u001b[38;5;241m=\u001b[39m train_data\u001b[38;5;241m.\u001b[39mshape[\u001b[38;5;241m1\u001b[39m]  \u001b[38;5;66;03m# Number of features\u001b[39;00m\n\u001b[0;32m     27\u001b[0m \u001b[38;5;66;03m# Define parameters for BBO\u001b[39;00m\n",
      "File \u001b[1;32m~\\anaconda3\\lib\\site-packages\\sklearn\\utils\\_set_output.py:142\u001b[0m, in \u001b[0;36m_wrap_method_output.<locals>.wrapped\u001b[1;34m(self, X, *args, **kwargs)\u001b[0m\n\u001b[0;32m    140\u001b[0m \u001b[38;5;129m@wraps\u001b[39m(f)\n\u001b[0;32m    141\u001b[0m \u001b[38;5;28;01mdef\u001b[39;00m \u001b[38;5;21mwrapped\u001b[39m(\u001b[38;5;28mself\u001b[39m, X, \u001b[38;5;241m*\u001b[39margs, \u001b[38;5;241m*\u001b[39m\u001b[38;5;241m*\u001b[39mkwargs):\n\u001b[1;32m--> 142\u001b[0m     data_to_wrap \u001b[38;5;241m=\u001b[39m f(\u001b[38;5;28mself\u001b[39m, X, \u001b[38;5;241m*\u001b[39margs, \u001b[38;5;241m*\u001b[39m\u001b[38;5;241m*\u001b[39mkwargs)\n\u001b[0;32m    143\u001b[0m     \u001b[38;5;28;01mif\u001b[39;00m \u001b[38;5;28misinstance\u001b[39m(data_to_wrap, \u001b[38;5;28mtuple\u001b[39m):\n\u001b[0;32m    144\u001b[0m         \u001b[38;5;66;03m# only wrap the first output for cross decomposition\u001b[39;00m\n\u001b[0;32m    145\u001b[0m         \u001b[38;5;28;01mreturn\u001b[39;00m (\n\u001b[0;32m    146\u001b[0m             _wrap_data_with_container(method, data_to_wrap[\u001b[38;5;241m0\u001b[39m], X, \u001b[38;5;28mself\u001b[39m),\n\u001b[0;32m    147\u001b[0m             \u001b[38;5;241m*\u001b[39mdata_to_wrap[\u001b[38;5;241m1\u001b[39m:],\n\u001b[0;32m    148\u001b[0m         )\n",
      "File \u001b[1;32m~\\anaconda3\\lib\\site-packages\\sklearn\\impute\\_base.py:551\u001b[0m, in \u001b[0;36mSimpleImputer.transform\u001b[1;34m(self, X)\u001b[0m\n\u001b[0;32m    536\u001b[0m \u001b[38;5;124;03m\"\"\"Impute all missing values in `X`.\u001b[39;00m\n\u001b[0;32m    537\u001b[0m \n\u001b[0;32m    538\u001b[0m \u001b[38;5;124;03mParameters\u001b[39;00m\n\u001b[1;32m   (...)\u001b[0m\n\u001b[0;32m    547\u001b[0m \u001b[38;5;124;03m    `X` with imputed values.\u001b[39;00m\n\u001b[0;32m    548\u001b[0m \u001b[38;5;124;03m\"\"\"\u001b[39;00m\n\u001b[0;32m    549\u001b[0m check_is_fitted(\u001b[38;5;28mself\u001b[39m)\n\u001b[1;32m--> 551\u001b[0m X \u001b[38;5;241m=\u001b[39m \u001b[38;5;28;43mself\u001b[39;49m\u001b[38;5;241;43m.\u001b[39;49m\u001b[43m_validate_input\u001b[49m\u001b[43m(\u001b[49m\u001b[43mX\u001b[49m\u001b[43m,\u001b[49m\u001b[43m \u001b[49m\u001b[43min_fit\u001b[49m\u001b[38;5;241;43m=\u001b[39;49m\u001b[38;5;28;43;01mFalse\u001b[39;49;00m\u001b[43m)\u001b[49m\n\u001b[0;32m    552\u001b[0m statistics \u001b[38;5;241m=\u001b[39m \u001b[38;5;28mself\u001b[39m\u001b[38;5;241m.\u001b[39mstatistics_\n\u001b[0;32m    554\u001b[0m \u001b[38;5;28;01mif\u001b[39;00m X\u001b[38;5;241m.\u001b[39mshape[\u001b[38;5;241m1\u001b[39m] \u001b[38;5;241m!=\u001b[39m statistics\u001b[38;5;241m.\u001b[39mshape[\u001b[38;5;241m0\u001b[39m]:\n",
      "File \u001b[1;32m~\\anaconda3\\lib\\site-packages\\sklearn\\impute\\_base.py:344\u001b[0m, in \u001b[0;36mSimpleImputer._validate_input\u001b[1;34m(self, X, in_fit)\u001b[0m\n\u001b[0;32m    342\u001b[0m         \u001b[38;5;28;01mraise\u001b[39;00m new_ve \u001b[38;5;28;01mfrom\u001b[39;00m \u001b[38;5;28mNone\u001b[39m\n\u001b[0;32m    343\u001b[0m     \u001b[38;5;28;01melse\u001b[39;00m:\n\u001b[1;32m--> 344\u001b[0m         \u001b[38;5;28;01mraise\u001b[39;00m ve\n\u001b[0;32m    346\u001b[0m \u001b[38;5;28;01mif\u001b[39;00m in_fit:\n\u001b[0;32m    347\u001b[0m     \u001b[38;5;66;03m# Use the dtype seen in `fit` for non-`fit` conversion\u001b[39;00m\n\u001b[0;32m    348\u001b[0m     \u001b[38;5;28mself\u001b[39m\u001b[38;5;241m.\u001b[39m_fit_dtype \u001b[38;5;241m=\u001b[39m X\u001b[38;5;241m.\u001b[39mdtype\n",
      "File \u001b[1;32m~\\anaconda3\\lib\\site-packages\\sklearn\\impute\\_base.py:327\u001b[0m, in \u001b[0;36mSimpleImputer._validate_input\u001b[1;34m(self, X, in_fit)\u001b[0m\n\u001b[0;32m    324\u001b[0m     force_all_finite \u001b[38;5;241m=\u001b[39m \u001b[38;5;28;01mTrue\u001b[39;00m\n\u001b[0;32m    326\u001b[0m \u001b[38;5;28;01mtry\u001b[39;00m:\n\u001b[1;32m--> 327\u001b[0m     X \u001b[38;5;241m=\u001b[39m \u001b[38;5;28;43mself\u001b[39;49m\u001b[38;5;241;43m.\u001b[39;49m\u001b[43m_validate_data\u001b[49m\u001b[43m(\u001b[49m\n\u001b[0;32m    328\u001b[0m \u001b[43m        \u001b[49m\u001b[43mX\u001b[49m\u001b[43m,\u001b[49m\n\u001b[0;32m    329\u001b[0m \u001b[43m        \u001b[49m\u001b[43mreset\u001b[49m\u001b[38;5;241;43m=\u001b[39;49m\u001b[43min_fit\u001b[49m\u001b[43m,\u001b[49m\n\u001b[0;32m    330\u001b[0m \u001b[43m        \u001b[49m\u001b[43maccept_sparse\u001b[49m\u001b[38;5;241;43m=\u001b[39;49m\u001b[38;5;124;43m\"\u001b[39;49m\u001b[38;5;124;43mcsc\u001b[39;49m\u001b[38;5;124;43m\"\u001b[39;49m\u001b[43m,\u001b[49m\n\u001b[0;32m    331\u001b[0m \u001b[43m        \u001b[49m\u001b[43mdtype\u001b[49m\u001b[38;5;241;43m=\u001b[39;49m\u001b[43mdtype\u001b[49m\u001b[43m,\u001b[49m\n\u001b[0;32m    332\u001b[0m \u001b[43m        \u001b[49m\u001b[43mforce_all_finite\u001b[49m\u001b[38;5;241;43m=\u001b[39;49m\u001b[43mforce_all_finite\u001b[49m\u001b[43m,\u001b[49m\n\u001b[0;32m    333\u001b[0m \u001b[43m        \u001b[49m\u001b[43mcopy\u001b[49m\u001b[38;5;241;43m=\u001b[39;49m\u001b[38;5;28;43mself\u001b[39;49m\u001b[38;5;241;43m.\u001b[39;49m\u001b[43mcopy\u001b[49m\u001b[43m,\u001b[49m\n\u001b[0;32m    334\u001b[0m \u001b[43m    \u001b[49m\u001b[43m)\u001b[49m\n\u001b[0;32m    335\u001b[0m \u001b[38;5;28;01mexcept\u001b[39;00m \u001b[38;5;167;01mValueError\u001b[39;00m \u001b[38;5;28;01mas\u001b[39;00m ve:\n\u001b[0;32m    336\u001b[0m     \u001b[38;5;28;01mif\u001b[39;00m \u001b[38;5;124m\"\u001b[39m\u001b[38;5;124mcould not convert\u001b[39m\u001b[38;5;124m\"\u001b[39m \u001b[38;5;129;01min\u001b[39;00m \u001b[38;5;28mstr\u001b[39m(ve):\n",
      "File \u001b[1;32m~\\anaconda3\\lib\\site-packages\\sklearn\\base.py:529\u001b[0m, in \u001b[0;36mBaseEstimator._validate_data\u001b[1;34m(self, X, y, reset, validate_separately, **check_params)\u001b[0m\n\u001b[0;32m    464\u001b[0m \u001b[38;5;28;01mdef\u001b[39;00m \u001b[38;5;21m_validate_data\u001b[39m(\n\u001b[0;32m    465\u001b[0m     \u001b[38;5;28mself\u001b[39m,\n\u001b[0;32m    466\u001b[0m     X\u001b[38;5;241m=\u001b[39m\u001b[38;5;124m\"\u001b[39m\u001b[38;5;124mno_validation\u001b[39m\u001b[38;5;124m\"\u001b[39m,\n\u001b[1;32m   (...)\u001b[0m\n\u001b[0;32m    470\u001b[0m     \u001b[38;5;241m*\u001b[39m\u001b[38;5;241m*\u001b[39mcheck_params,\n\u001b[0;32m    471\u001b[0m ):\n\u001b[0;32m    472\u001b[0m     \u001b[38;5;124;03m\"\"\"Validate input data and set or check the `n_features_in_` attribute.\u001b[39;00m\n\u001b[0;32m    473\u001b[0m \n\u001b[0;32m    474\u001b[0m \u001b[38;5;124;03m    Parameters\u001b[39;00m\n\u001b[1;32m   (...)\u001b[0m\n\u001b[0;32m    527\u001b[0m \u001b[38;5;124;03m        validated.\u001b[39;00m\n\u001b[0;32m    528\u001b[0m \u001b[38;5;124;03m    \"\"\"\u001b[39;00m\n\u001b[1;32m--> 529\u001b[0m     \u001b[38;5;28;43mself\u001b[39;49m\u001b[38;5;241;43m.\u001b[39;49m\u001b[43m_check_feature_names\u001b[49m\u001b[43m(\u001b[49m\u001b[43mX\u001b[49m\u001b[43m,\u001b[49m\u001b[43m \u001b[49m\u001b[43mreset\u001b[49m\u001b[38;5;241;43m=\u001b[39;49m\u001b[43mreset\u001b[49m\u001b[43m)\u001b[49m\n\u001b[0;32m    531\u001b[0m     \u001b[38;5;28;01mif\u001b[39;00m y \u001b[38;5;129;01mis\u001b[39;00m \u001b[38;5;28;01mNone\u001b[39;00m \u001b[38;5;129;01mand\u001b[39;00m \u001b[38;5;28mself\u001b[39m\u001b[38;5;241m.\u001b[39m_get_tags()[\u001b[38;5;124m\"\u001b[39m\u001b[38;5;124mrequires_y\u001b[39m\u001b[38;5;124m\"\u001b[39m]:\n\u001b[0;32m    532\u001b[0m         \u001b[38;5;28;01mraise\u001b[39;00m \u001b[38;5;167;01mValueError\u001b[39;00m(\n\u001b[0;32m    533\u001b[0m             \u001b[38;5;124mf\u001b[39m\u001b[38;5;124m\"\u001b[39m\u001b[38;5;124mThis \u001b[39m\u001b[38;5;132;01m{\u001b[39;00m\u001b[38;5;28mself\u001b[39m\u001b[38;5;241m.\u001b[39m\u001b[38;5;18m__class__\u001b[39m\u001b[38;5;241m.\u001b[39m\u001b[38;5;18m__name__\u001b[39m\u001b[38;5;132;01m}\u001b[39;00m\u001b[38;5;124m estimator \u001b[39m\u001b[38;5;124m\"\u001b[39m\n\u001b[0;32m    534\u001b[0m             \u001b[38;5;124m\"\u001b[39m\u001b[38;5;124mrequires y to be passed, but the target y is None.\u001b[39m\u001b[38;5;124m\"\u001b[39m\n\u001b[0;32m    535\u001b[0m         )\n",
      "File \u001b[1;32m~\\anaconda3\\lib\\site-packages\\sklearn\\base.py:462\u001b[0m, in \u001b[0;36mBaseEstimator._check_feature_names\u001b[1;34m(self, X, reset)\u001b[0m\n\u001b[0;32m    457\u001b[0m \u001b[38;5;28;01mif\u001b[39;00m \u001b[38;5;129;01mnot\u001b[39;00m missing_names \u001b[38;5;129;01mand\u001b[39;00m \u001b[38;5;129;01mnot\u001b[39;00m unexpected_names:\n\u001b[0;32m    458\u001b[0m     message \u001b[38;5;241m+\u001b[39m\u001b[38;5;241m=\u001b[39m (\n\u001b[0;32m    459\u001b[0m         \u001b[38;5;124m\"\u001b[39m\u001b[38;5;124mFeature names must be in the same order as they were in fit.\u001b[39m\u001b[38;5;130;01m\\n\u001b[39;00m\u001b[38;5;124m\"\u001b[39m\n\u001b[0;32m    460\u001b[0m     )\n\u001b[1;32m--> 462\u001b[0m \u001b[38;5;28;01mraise\u001b[39;00m \u001b[38;5;167;01mValueError\u001b[39;00m(message)\n",
      "\u001b[1;31mValueError\u001b[0m: The feature names should match those that were passed during fit.\nFeature names seen at fit time, yet now missing:\n- Transported\n"
     ]
    }
   ],
   "source": [
    "import numpy as np\n",
    "import pandas as pd\n",
    "from sklearn.model_selection import train_test_split\n",
    "from sklearn.metrics import accuracy_score\n",
    "from sklearn.ensemble import RandomForestClassifier\n",
    "from sklearn.impute import SimpleImputer\n",
    "\n",
    "# Load and preprocess your train.csv and test.csv datasets\n",
    "train = pd.read_csv(\"train.csv\")\n",
    "test = pd.read_csv(\"test.csv\")\n",
    "\n",
    "# Drop non-numeric columns \"Name\", \"HomePlanet\", \"Cabin\", and \"Destination\"\n",
    "columns_to_drop = [\"Name\", \"HomePlanet\", \"Cabin\", \"Destination\"]\n",
    "train_data = train.drop(columns=columns_to_drop)\n",
    "test_data = test.drop(columns=columns_to_drop)\n",
    "\n",
    "# Assuming your target column is \"Transported\"\n",
    "train_labels = train['Transported']\n",
    "\n",
    "# Handle missing values using imputer\n",
    "imputer = SimpleImputer(strategy=\"mean\")\n",
    "train_data = imputer.fit_transform(train_data)\n",
    "test_data = imputer.transform(test_data)\n",
    "\n",
    "num_features = train_data.shape[1]  # Number of features\n",
    "\n",
    "# Define parameters for BBO\n",
    "population_size = 50\n",
    "max_iterations = 100\n",
    "mutation_rate = 0.1\n",
    "migration_rate = 0.1\n",
    "\n",
    "# Define fitness function\n",
    "def fitness_function(features_subset):\n",
    "    model = RandomForestClassifier(random_state=42)\n",
    "    \n",
    "    # Split data into training and validation sets\n",
    "    train_features, val_features, train_labels_split, val_labels = train_test_split(\n",
    "        train_data, train_labels, test_size=0.2, random_state=42)\n",
    "    \n",
    "    model.fit(train_features[:, features_subset], train_labels_split)\n",
    "    val_predictions = model.predict(val_features[:, features_subset])\n",
    "    \n",
    "    accuracy = accuracy_score(val_labels, val_predictions)\n",
    "    return accuracy\n",
    "\n",
    "# BBO optimization loop\n",
    "population = np.random.randint(2, size=(population_size, num_features))\n",
    "\n",
    "for iteration in range(max_iterations):\n",
    "    fitness_values = np.array([fitness_function(features_subset) for features_subset in population])\n",
    "    \n",
    "    selected_indices = np.argsort(fitness_values)[-int(migration_rate * population_size):]\n",
    "    selected_solutions = population[selected_indices]\n",
    "    \n",
    "    new_population = np.copy(population)\n",
    "    for i in range(population_size):\n",
    "        if i not in selected_indices:\n",
    "            migration_candidate = selected_solutions[np.random.choice(selected_solutions.shape[0])]\n",
    "            new_population[i] = np.where(np.random.rand(num_features) < migration_rate, migration_candidate, population[i])\n",
    "            new_population[i] = np.where(np.random.rand(num_features) < mutation_rate, 1 - new_population[i], new_population[i])\n",
    "    \n",
    "    population = new_population\n",
    "\n",
    "# Select best solution from the final population\n",
    "best_solution = population[np.argmax(fitness_values)]\n",
    "selected_features = np.where(best_solution == 1)[0]\n",
    "print(\"Selected features:\", selected_features)\n",
    "\n",
    "# Apply feature selection to the test data\n",
    "selected_test_data = test_data[:, selected_features]\n",
    "\n",
    "# Now you can use selected_test_data for predictions using the trained model\n"
   ]
  },
  {
   "cell_type": "code",
   "execution_count": 72,
   "id": "09eb9606",
   "metadata": {},
   "outputs": [
    {
     "ename": "ValueError",
     "evalue": "The feature names should match those that were passed during fit.\nFeature names seen at fit time, yet now missing:\n- Transported\n",
     "output_type": "error",
     "traceback": [
      "\u001b[1;31m---------------------------------------------------------------------------\u001b[0m",
      "\u001b[1;31mValueError\u001b[0m                                Traceback (most recent call last)",
      "Cell \u001b[1;32mIn[72], line 23\u001b[0m\n\u001b[0;32m     21\u001b[0m imputer \u001b[38;5;241m=\u001b[39m SimpleImputer(strategy\u001b[38;5;241m=\u001b[39m\u001b[38;5;124m\"\u001b[39m\u001b[38;5;124mmean\u001b[39m\u001b[38;5;124m\"\u001b[39m)\n\u001b[0;32m     22\u001b[0m train_data \u001b[38;5;241m=\u001b[39m imputer\u001b[38;5;241m.\u001b[39mfit_transform(train_data)\n\u001b[1;32m---> 23\u001b[0m test_data \u001b[38;5;241m=\u001b[39m \u001b[43mimputer\u001b[49m\u001b[38;5;241;43m.\u001b[39;49m\u001b[43mtransform\u001b[49m\u001b[43m(\u001b[49m\u001b[43mtest_data\u001b[49m\u001b[43m)\u001b[49m\n\u001b[0;32m     25\u001b[0m num_features \u001b[38;5;241m=\u001b[39m train_data\u001b[38;5;241m.\u001b[39mshape[\u001b[38;5;241m1\u001b[39m]  \u001b[38;5;66;03m# Number of features\u001b[39;00m\n\u001b[0;32m     27\u001b[0m \u001b[38;5;66;03m# Define parameters for BBO\u001b[39;00m\n",
      "File \u001b[1;32m~\\anaconda3\\lib\\site-packages\\sklearn\\utils\\_set_output.py:142\u001b[0m, in \u001b[0;36m_wrap_method_output.<locals>.wrapped\u001b[1;34m(self, X, *args, **kwargs)\u001b[0m\n\u001b[0;32m    140\u001b[0m \u001b[38;5;129m@wraps\u001b[39m(f)\n\u001b[0;32m    141\u001b[0m \u001b[38;5;28;01mdef\u001b[39;00m \u001b[38;5;21mwrapped\u001b[39m(\u001b[38;5;28mself\u001b[39m, X, \u001b[38;5;241m*\u001b[39margs, \u001b[38;5;241m*\u001b[39m\u001b[38;5;241m*\u001b[39mkwargs):\n\u001b[1;32m--> 142\u001b[0m     data_to_wrap \u001b[38;5;241m=\u001b[39m f(\u001b[38;5;28mself\u001b[39m, X, \u001b[38;5;241m*\u001b[39margs, \u001b[38;5;241m*\u001b[39m\u001b[38;5;241m*\u001b[39mkwargs)\n\u001b[0;32m    143\u001b[0m     \u001b[38;5;28;01mif\u001b[39;00m \u001b[38;5;28misinstance\u001b[39m(data_to_wrap, \u001b[38;5;28mtuple\u001b[39m):\n\u001b[0;32m    144\u001b[0m         \u001b[38;5;66;03m# only wrap the first output for cross decomposition\u001b[39;00m\n\u001b[0;32m    145\u001b[0m         \u001b[38;5;28;01mreturn\u001b[39;00m (\n\u001b[0;32m    146\u001b[0m             _wrap_data_with_container(method, data_to_wrap[\u001b[38;5;241m0\u001b[39m], X, \u001b[38;5;28mself\u001b[39m),\n\u001b[0;32m    147\u001b[0m             \u001b[38;5;241m*\u001b[39mdata_to_wrap[\u001b[38;5;241m1\u001b[39m:],\n\u001b[0;32m    148\u001b[0m         )\n",
      "File \u001b[1;32m~\\anaconda3\\lib\\site-packages\\sklearn\\impute\\_base.py:551\u001b[0m, in \u001b[0;36mSimpleImputer.transform\u001b[1;34m(self, X)\u001b[0m\n\u001b[0;32m    536\u001b[0m \u001b[38;5;124;03m\"\"\"Impute all missing values in `X`.\u001b[39;00m\n\u001b[0;32m    537\u001b[0m \n\u001b[0;32m    538\u001b[0m \u001b[38;5;124;03mParameters\u001b[39;00m\n\u001b[1;32m   (...)\u001b[0m\n\u001b[0;32m    547\u001b[0m \u001b[38;5;124;03m    `X` with imputed values.\u001b[39;00m\n\u001b[0;32m    548\u001b[0m \u001b[38;5;124;03m\"\"\"\u001b[39;00m\n\u001b[0;32m    549\u001b[0m check_is_fitted(\u001b[38;5;28mself\u001b[39m)\n\u001b[1;32m--> 551\u001b[0m X \u001b[38;5;241m=\u001b[39m \u001b[38;5;28;43mself\u001b[39;49m\u001b[38;5;241;43m.\u001b[39;49m\u001b[43m_validate_input\u001b[49m\u001b[43m(\u001b[49m\u001b[43mX\u001b[49m\u001b[43m,\u001b[49m\u001b[43m \u001b[49m\u001b[43min_fit\u001b[49m\u001b[38;5;241;43m=\u001b[39;49m\u001b[38;5;28;43;01mFalse\u001b[39;49;00m\u001b[43m)\u001b[49m\n\u001b[0;32m    552\u001b[0m statistics \u001b[38;5;241m=\u001b[39m \u001b[38;5;28mself\u001b[39m\u001b[38;5;241m.\u001b[39mstatistics_\n\u001b[0;32m    554\u001b[0m \u001b[38;5;28;01mif\u001b[39;00m X\u001b[38;5;241m.\u001b[39mshape[\u001b[38;5;241m1\u001b[39m] \u001b[38;5;241m!=\u001b[39m statistics\u001b[38;5;241m.\u001b[39mshape[\u001b[38;5;241m0\u001b[39m]:\n",
      "File \u001b[1;32m~\\anaconda3\\lib\\site-packages\\sklearn\\impute\\_base.py:344\u001b[0m, in \u001b[0;36mSimpleImputer._validate_input\u001b[1;34m(self, X, in_fit)\u001b[0m\n\u001b[0;32m    342\u001b[0m         \u001b[38;5;28;01mraise\u001b[39;00m new_ve \u001b[38;5;28;01mfrom\u001b[39;00m \u001b[38;5;28mNone\u001b[39m\n\u001b[0;32m    343\u001b[0m     \u001b[38;5;28;01melse\u001b[39;00m:\n\u001b[1;32m--> 344\u001b[0m         \u001b[38;5;28;01mraise\u001b[39;00m ve\n\u001b[0;32m    346\u001b[0m \u001b[38;5;28;01mif\u001b[39;00m in_fit:\n\u001b[0;32m    347\u001b[0m     \u001b[38;5;66;03m# Use the dtype seen in `fit` for non-`fit` conversion\u001b[39;00m\n\u001b[0;32m    348\u001b[0m     \u001b[38;5;28mself\u001b[39m\u001b[38;5;241m.\u001b[39m_fit_dtype \u001b[38;5;241m=\u001b[39m X\u001b[38;5;241m.\u001b[39mdtype\n",
      "File \u001b[1;32m~\\anaconda3\\lib\\site-packages\\sklearn\\impute\\_base.py:327\u001b[0m, in \u001b[0;36mSimpleImputer._validate_input\u001b[1;34m(self, X, in_fit)\u001b[0m\n\u001b[0;32m    324\u001b[0m     force_all_finite \u001b[38;5;241m=\u001b[39m \u001b[38;5;28;01mTrue\u001b[39;00m\n\u001b[0;32m    326\u001b[0m \u001b[38;5;28;01mtry\u001b[39;00m:\n\u001b[1;32m--> 327\u001b[0m     X \u001b[38;5;241m=\u001b[39m \u001b[38;5;28;43mself\u001b[39;49m\u001b[38;5;241;43m.\u001b[39;49m\u001b[43m_validate_data\u001b[49m\u001b[43m(\u001b[49m\n\u001b[0;32m    328\u001b[0m \u001b[43m        \u001b[49m\u001b[43mX\u001b[49m\u001b[43m,\u001b[49m\n\u001b[0;32m    329\u001b[0m \u001b[43m        \u001b[49m\u001b[43mreset\u001b[49m\u001b[38;5;241;43m=\u001b[39;49m\u001b[43min_fit\u001b[49m\u001b[43m,\u001b[49m\n\u001b[0;32m    330\u001b[0m \u001b[43m        \u001b[49m\u001b[43maccept_sparse\u001b[49m\u001b[38;5;241;43m=\u001b[39;49m\u001b[38;5;124;43m\"\u001b[39;49m\u001b[38;5;124;43mcsc\u001b[39;49m\u001b[38;5;124;43m\"\u001b[39;49m\u001b[43m,\u001b[49m\n\u001b[0;32m    331\u001b[0m \u001b[43m        \u001b[49m\u001b[43mdtype\u001b[49m\u001b[38;5;241;43m=\u001b[39;49m\u001b[43mdtype\u001b[49m\u001b[43m,\u001b[49m\n\u001b[0;32m    332\u001b[0m \u001b[43m        \u001b[49m\u001b[43mforce_all_finite\u001b[49m\u001b[38;5;241;43m=\u001b[39;49m\u001b[43mforce_all_finite\u001b[49m\u001b[43m,\u001b[49m\n\u001b[0;32m    333\u001b[0m \u001b[43m        \u001b[49m\u001b[43mcopy\u001b[49m\u001b[38;5;241;43m=\u001b[39;49m\u001b[38;5;28;43mself\u001b[39;49m\u001b[38;5;241;43m.\u001b[39;49m\u001b[43mcopy\u001b[49m\u001b[43m,\u001b[49m\n\u001b[0;32m    334\u001b[0m \u001b[43m    \u001b[49m\u001b[43m)\u001b[49m\n\u001b[0;32m    335\u001b[0m \u001b[38;5;28;01mexcept\u001b[39;00m \u001b[38;5;167;01mValueError\u001b[39;00m \u001b[38;5;28;01mas\u001b[39;00m ve:\n\u001b[0;32m    336\u001b[0m     \u001b[38;5;28;01mif\u001b[39;00m \u001b[38;5;124m\"\u001b[39m\u001b[38;5;124mcould not convert\u001b[39m\u001b[38;5;124m\"\u001b[39m \u001b[38;5;129;01min\u001b[39;00m \u001b[38;5;28mstr\u001b[39m(ve):\n",
      "File \u001b[1;32m~\\anaconda3\\lib\\site-packages\\sklearn\\base.py:529\u001b[0m, in \u001b[0;36mBaseEstimator._validate_data\u001b[1;34m(self, X, y, reset, validate_separately, **check_params)\u001b[0m\n\u001b[0;32m    464\u001b[0m \u001b[38;5;28;01mdef\u001b[39;00m \u001b[38;5;21m_validate_data\u001b[39m(\n\u001b[0;32m    465\u001b[0m     \u001b[38;5;28mself\u001b[39m,\n\u001b[0;32m    466\u001b[0m     X\u001b[38;5;241m=\u001b[39m\u001b[38;5;124m\"\u001b[39m\u001b[38;5;124mno_validation\u001b[39m\u001b[38;5;124m\"\u001b[39m,\n\u001b[1;32m   (...)\u001b[0m\n\u001b[0;32m    470\u001b[0m     \u001b[38;5;241m*\u001b[39m\u001b[38;5;241m*\u001b[39mcheck_params,\n\u001b[0;32m    471\u001b[0m ):\n\u001b[0;32m    472\u001b[0m     \u001b[38;5;124;03m\"\"\"Validate input data and set or check the `n_features_in_` attribute.\u001b[39;00m\n\u001b[0;32m    473\u001b[0m \n\u001b[0;32m    474\u001b[0m \u001b[38;5;124;03m    Parameters\u001b[39;00m\n\u001b[1;32m   (...)\u001b[0m\n\u001b[0;32m    527\u001b[0m \u001b[38;5;124;03m        validated.\u001b[39;00m\n\u001b[0;32m    528\u001b[0m \u001b[38;5;124;03m    \"\"\"\u001b[39;00m\n\u001b[1;32m--> 529\u001b[0m     \u001b[38;5;28;43mself\u001b[39;49m\u001b[38;5;241;43m.\u001b[39;49m\u001b[43m_check_feature_names\u001b[49m\u001b[43m(\u001b[49m\u001b[43mX\u001b[49m\u001b[43m,\u001b[49m\u001b[43m \u001b[49m\u001b[43mreset\u001b[49m\u001b[38;5;241;43m=\u001b[39;49m\u001b[43mreset\u001b[49m\u001b[43m)\u001b[49m\n\u001b[0;32m    531\u001b[0m     \u001b[38;5;28;01mif\u001b[39;00m y \u001b[38;5;129;01mis\u001b[39;00m \u001b[38;5;28;01mNone\u001b[39;00m \u001b[38;5;129;01mand\u001b[39;00m \u001b[38;5;28mself\u001b[39m\u001b[38;5;241m.\u001b[39m_get_tags()[\u001b[38;5;124m\"\u001b[39m\u001b[38;5;124mrequires_y\u001b[39m\u001b[38;5;124m\"\u001b[39m]:\n\u001b[0;32m    532\u001b[0m         \u001b[38;5;28;01mraise\u001b[39;00m \u001b[38;5;167;01mValueError\u001b[39;00m(\n\u001b[0;32m    533\u001b[0m             \u001b[38;5;124mf\u001b[39m\u001b[38;5;124m\"\u001b[39m\u001b[38;5;124mThis \u001b[39m\u001b[38;5;132;01m{\u001b[39;00m\u001b[38;5;28mself\u001b[39m\u001b[38;5;241m.\u001b[39m\u001b[38;5;18m__class__\u001b[39m\u001b[38;5;241m.\u001b[39m\u001b[38;5;18m__name__\u001b[39m\u001b[38;5;132;01m}\u001b[39;00m\u001b[38;5;124m estimator \u001b[39m\u001b[38;5;124m\"\u001b[39m\n\u001b[0;32m    534\u001b[0m             \u001b[38;5;124m\"\u001b[39m\u001b[38;5;124mrequires y to be passed, but the target y is None.\u001b[39m\u001b[38;5;124m\"\u001b[39m\n\u001b[0;32m    535\u001b[0m         )\n",
      "File \u001b[1;32m~\\anaconda3\\lib\\site-packages\\sklearn\\base.py:462\u001b[0m, in \u001b[0;36mBaseEstimator._check_feature_names\u001b[1;34m(self, X, reset)\u001b[0m\n\u001b[0;32m    457\u001b[0m \u001b[38;5;28;01mif\u001b[39;00m \u001b[38;5;129;01mnot\u001b[39;00m missing_names \u001b[38;5;129;01mand\u001b[39;00m \u001b[38;5;129;01mnot\u001b[39;00m unexpected_names:\n\u001b[0;32m    458\u001b[0m     message \u001b[38;5;241m+\u001b[39m\u001b[38;5;241m=\u001b[39m (\n\u001b[0;32m    459\u001b[0m         \u001b[38;5;124m\"\u001b[39m\u001b[38;5;124mFeature names must be in the same order as they were in fit.\u001b[39m\u001b[38;5;130;01m\\n\u001b[39;00m\u001b[38;5;124m\"\u001b[39m\n\u001b[0;32m    460\u001b[0m     )\n\u001b[1;32m--> 462\u001b[0m \u001b[38;5;28;01mraise\u001b[39;00m \u001b[38;5;167;01mValueError\u001b[39;00m(message)\n",
      "\u001b[1;31mValueError\u001b[0m: The feature names should match those that were passed during fit.\nFeature names seen at fit time, yet now missing:\n- Transported\n"
     ]
    }
   ],
   "source": [
    "import numpy as np\n",
    "import pandas as pd\n",
    "from sklearn.model_selection import train_test_split\n",
    "from sklearn.metrics import accuracy_score\n",
    "from sklearn.ensemble import RandomForestClassifier\n",
    "from sklearn.impute import SimpleImputer\n",
    "\n",
    "# Load and preprocess your train.csv and test.csv datasets\n",
    "train = pd.read_csv(\"train.csv\")\n",
    "test = pd.read_csv(\"test.csv\")\n",
    "\n",
    "# Columns to drop from both train and test datasets\n",
    "columns_to_drop = [\"Name\", \"HomePlanet\", \"Cabin\", \"Destination\"]\n",
    "train_data = train.drop(columns=columns_to_drop)\n",
    "test_data = test.drop(columns=columns_to_drop)\n",
    "\n",
    "# Assuming your target column is \"Transported\"\n",
    "train_labels = train['Transported']\n",
    "\n",
    "# Handle missing values using imputer\n",
    "imputer = SimpleImputer(strategy=\"mean\")\n",
    "train_data = imputer.fit_transform(train_data)\n",
    "test_data = imputer.transform(test_data)\n",
    "\n",
    "num_features = train_data.shape[1]  # Number of features\n",
    "\n",
    "# Define parameters for BBO\n",
    "population_size = 50\n",
    "max_iterations = 100\n",
    "mutation_rate = 0.1\n",
    "migration_rate = 0.1\n",
    "\n",
    "# Define fitness function\n",
    "def fitness_function(features_subset):\n",
    "    model = RandomForestClassifier(random_state=42)\n",
    "    \n",
    "    # Split data into training and validation sets\n",
    "    train_features, val_features, train_labels_split, val_labels = train_test_split(\n",
    "        train_data, train_labels, test_size=0.2, random_state=42)\n",
    "    \n",
    "    model.fit(train_features[:, features_subset], train_labels_split)\n",
    "    val_predictions = model.predict(val_features[:, features_subset])\n",
    "    \n",
    "    accuracy = accuracy_score(val_labels, val_predictions)\n",
    "    return accuracy\n",
    "\n",
    "# BBO optimization loop\n",
    "population = np.random.randint(2, size=(population_size, num_features))\n",
    "\n",
    "for iteration in range(max_iterations):\n",
    "    fitness_values = np.array([fitness_function(features_subset) for features_subset in population])\n",
    "    \n",
    "    selected_indices = np.argsort(fitness_values)[-int(migration_rate * population_size):]\n",
    "    selected_solutions = population[selected_indices]\n",
    "    \n",
    "    new_population = np.copy(population)\n",
    "    for i in range(population_size):\n",
    "        if i not in selected_indices:\n",
    "            migration_candidate = selected_solutions[np.random.choice(selected_solutions.shape[0])]\n",
    "            new_population[i] = np.where(np.random.rand(num_features) < migration_rate, migration_candidate, population[i])\n",
    "            new_population[i] = np.where(np.random.rand(num_features) < mutation_rate, 1 - new_population[i], new_population[i])\n",
    "    \n",
    "    population = new_population\n",
    "\n",
    "# Select best solution from the final population\n",
    "best_solution = population[np.argmax(fitness_values)]\n",
    "selected_features = np.where(best_solution == 1)[0]\n",
    "print(\"Selected features:\", selected_features)\n",
    "\n",
    "# Apply feature selection to the test data\n",
    "selected_test_data = test_data[:, selected_features]\n",
    "\n",
    "# Now you can use selected_test_data for predictions using the trained model\n"
   ]
  },
  {
   "cell_type": "code",
   "execution_count": null,
   "id": "c5b89860",
   "metadata": {},
   "outputs": [],
   "source": []
  }
 ],
 "metadata": {
  "kernelspec": {
   "display_name": "Python 3 (ipykernel)",
   "language": "python",
   "name": "python3"
  },
  "language_info": {
   "codemirror_mode": {
    "name": "ipython",
    "version": 3
   },
   "file_extension": ".py",
   "mimetype": "text/x-python",
   "name": "python",
   "nbconvert_exporter": "python",
   "pygments_lexer": "ipython3",
   "version": "3.10.9"
  },
  "papermill": {
   "default_parameters": {},
   "duration": 14.998281,
   "end_time": "2022-03-08T08:27:25.686867",
   "environment_variables": {},
   "exception": null,
   "input_path": "__notebook__.ipynb",
   "output_path": "__notebook__.ipynb",
   "parameters": {},
   "start_time": "2022-03-08T08:27:10.688586",
   "version": "2.3.3"
  }
 },
 "nbformat": 4,
 "nbformat_minor": 5
}
