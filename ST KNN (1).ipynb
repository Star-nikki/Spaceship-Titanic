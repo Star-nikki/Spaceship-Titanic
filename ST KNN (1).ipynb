{
 "cells": [
  {
   "cell_type": "code",
   "execution_count": 4,
   "id": "36d22a2e",
   "metadata": {
    "execution": {
     "iopub.execute_input": "2022-10-29T08:46:54.032197Z",
     "iopub.status.busy": "2022-10-29T08:46:54.031798Z",
     "iopub.status.idle": "2022-10-29T08:46:54.989173Z",
     "shell.execute_reply": "2022-10-29T08:46:54.988240Z"
    },
    "papermill": {
     "duration": 0.96889,
     "end_time": "2022-10-29T08:46:54.991416",
     "exception": false,
     "start_time": "2022-10-29T08:46:54.022526",
     "status": "completed"
    },
    "tags": []
   },
   "outputs": [],
   "source": [
    "#impot libary\n",
    "import numpy as np\n",
    "import pandas as pd\n",
    "\n",
    "from sklearn.model_selection import train_test_split\n",
    "from sklearn.preprocessing import StandardScaler\n",
    "from sklearn.preprocessing import LabelEncoder\n",
    "from sklearn.neighbors import KNeighborsClassifier\n",
    "from sklearn.impute import SimpleImputer\n",
    "from sklearn import metrics\n",
    "from sklearn.model_selection import GridSearchCV"
   ]
  },
  {
   "cell_type": "code",
   "execution_count": 5,
   "id": "9dd38478",
   "metadata": {
    "execution": {
     "iopub.execute_input": "2022-10-29T08:46:55.069354Z",
     "iopub.status.busy": "2022-10-29T08:46:55.069063Z",
     "iopub.status.idle": "2022-10-29T08:46:55.136612Z",
     "shell.execute_reply": "2022-10-29T08:46:55.135728Z"
    },
    "papermill": {
     "duration": 0.078753,
     "end_time": "2022-10-29T08:46:55.138619",
     "exception": false,
     "start_time": "2022-10-29T08:46:55.059866",
     "status": "completed"
    },
    "tags": []
   },
   "outputs": [],
   "source": [
    "#read train data\n",
    "train = pd.read_csv(\"train.csv\")\n",
    "#read test data\n",
    "test = pd.read_csv(\"test.csv\")\n",
    "#read submission data\n",
    "submission = pd.read_csv(\"sample_submission.csv\")"
   ]
  },
  {
   "cell_type": "markdown",
   "id": "b648f4ed",
   "metadata": {
    "papermill": {
     "duration": 0.008151,
     "end_time": "2022-10-29T08:46:55.155407",
     "exception": false,
     "start_time": "2022-10-29T08:46:55.147256",
     "status": "completed"
    },
    "tags": []
   },
   "source": [
    "# 2. Data Exploration"
   ]
  },
  {
   "cell_type": "code",
   "execution_count": 6,
   "id": "c40b780d",
   "metadata": {
    "execution": {
     "iopub.execute_input": "2022-10-29T08:46:55.173005Z",
     "iopub.status.busy": "2022-10-29T08:46:55.172563Z",
     "iopub.status.idle": "2022-10-29T08:46:55.196987Z",
     "shell.execute_reply": "2022-10-29T08:46:55.196013Z"
    },
    "papermill": {
     "duration": 0.037245,
     "end_time": "2022-10-29T08:46:55.200835",
     "exception": false,
     "start_time": "2022-10-29T08:46:55.163590",
     "status": "completed"
    },
    "tags": []
   },
   "outputs": [
    {
     "data": {
      "text/html": [
       "<div>\n",
       "<style scoped>\n",
       "    .dataframe tbody tr th:only-of-type {\n",
       "        vertical-align: middle;\n",
       "    }\n",
       "\n",
       "    .dataframe tbody tr th {\n",
       "        vertical-align: top;\n",
       "    }\n",
       "\n",
       "    .dataframe thead th {\n",
       "        text-align: right;\n",
       "    }\n",
       "</style>\n",
       "<table border=\"1\" class=\"dataframe\">\n",
       "  <thead>\n",
       "    <tr style=\"text-align: right;\">\n",
       "      <th></th>\n",
       "      <th>PassengerId</th>\n",
       "      <th>HomePlanet</th>\n",
       "      <th>CryoSleep</th>\n",
       "      <th>Cabin</th>\n",
       "      <th>Destination</th>\n",
       "      <th>Age</th>\n",
       "      <th>VIP</th>\n",
       "      <th>RoomService</th>\n",
       "      <th>FoodCourt</th>\n",
       "      <th>ShoppingMall</th>\n",
       "      <th>Spa</th>\n",
       "      <th>VRDeck</th>\n",
       "      <th>Name</th>\n",
       "      <th>Transported</th>\n",
       "    </tr>\n",
       "  </thead>\n",
       "  <tbody>\n",
       "    <tr>\n",
       "      <th>0</th>\n",
       "      <td>0001_01</td>\n",
       "      <td>Europa</td>\n",
       "      <td>False</td>\n",
       "      <td>B/0/P</td>\n",
       "      <td>TRAPPIST-1e</td>\n",
       "      <td>39.0</td>\n",
       "      <td>False</td>\n",
       "      <td>0.0</td>\n",
       "      <td>0.0</td>\n",
       "      <td>0.0</td>\n",
       "      <td>0.0</td>\n",
       "      <td>0.0</td>\n",
       "      <td>Maham Ofracculy</td>\n",
       "      <td>False</td>\n",
       "    </tr>\n",
       "    <tr>\n",
       "      <th>1</th>\n",
       "      <td>0002_01</td>\n",
       "      <td>Earth</td>\n",
       "      <td>False</td>\n",
       "      <td>F/0/S</td>\n",
       "      <td>TRAPPIST-1e</td>\n",
       "      <td>24.0</td>\n",
       "      <td>False</td>\n",
       "      <td>109.0</td>\n",
       "      <td>9.0</td>\n",
       "      <td>25.0</td>\n",
       "      <td>549.0</td>\n",
       "      <td>44.0</td>\n",
       "      <td>Juanna Vines</td>\n",
       "      <td>True</td>\n",
       "    </tr>\n",
       "    <tr>\n",
       "      <th>2</th>\n",
       "      <td>0003_01</td>\n",
       "      <td>Europa</td>\n",
       "      <td>False</td>\n",
       "      <td>A/0/S</td>\n",
       "      <td>TRAPPIST-1e</td>\n",
       "      <td>58.0</td>\n",
       "      <td>True</td>\n",
       "      <td>43.0</td>\n",
       "      <td>3576.0</td>\n",
       "      <td>0.0</td>\n",
       "      <td>6715.0</td>\n",
       "      <td>49.0</td>\n",
       "      <td>Altark Susent</td>\n",
       "      <td>False</td>\n",
       "    </tr>\n",
       "    <tr>\n",
       "      <th>3</th>\n",
       "      <td>0003_02</td>\n",
       "      <td>Europa</td>\n",
       "      <td>False</td>\n",
       "      <td>A/0/S</td>\n",
       "      <td>TRAPPIST-1e</td>\n",
       "      <td>33.0</td>\n",
       "      <td>False</td>\n",
       "      <td>0.0</td>\n",
       "      <td>1283.0</td>\n",
       "      <td>371.0</td>\n",
       "      <td>3329.0</td>\n",
       "      <td>193.0</td>\n",
       "      <td>Solam Susent</td>\n",
       "      <td>False</td>\n",
       "    </tr>\n",
       "    <tr>\n",
       "      <th>4</th>\n",
       "      <td>0004_01</td>\n",
       "      <td>Earth</td>\n",
       "      <td>False</td>\n",
       "      <td>F/1/S</td>\n",
       "      <td>TRAPPIST-1e</td>\n",
       "      <td>16.0</td>\n",
       "      <td>False</td>\n",
       "      <td>303.0</td>\n",
       "      <td>70.0</td>\n",
       "      <td>151.0</td>\n",
       "      <td>565.0</td>\n",
       "      <td>2.0</td>\n",
       "      <td>Willy Santantines</td>\n",
       "      <td>True</td>\n",
       "    </tr>\n",
       "  </tbody>\n",
       "</table>\n",
       "</div>"
      ],
      "text/plain": [
       "  PassengerId HomePlanet CryoSleep  Cabin  Destination   Age    VIP  \\\n",
       "0     0001_01     Europa     False  B/0/P  TRAPPIST-1e  39.0  False   \n",
       "1     0002_01      Earth     False  F/0/S  TRAPPIST-1e  24.0  False   \n",
       "2     0003_01     Europa     False  A/0/S  TRAPPIST-1e  58.0   True   \n",
       "3     0003_02     Europa     False  A/0/S  TRAPPIST-1e  33.0  False   \n",
       "4     0004_01      Earth     False  F/1/S  TRAPPIST-1e  16.0  False   \n",
       "\n",
       "   RoomService  FoodCourt  ShoppingMall     Spa  VRDeck               Name  \\\n",
       "0          0.0        0.0           0.0     0.0     0.0    Maham Ofracculy   \n",
       "1        109.0        9.0          25.0   549.0    44.0       Juanna Vines   \n",
       "2         43.0     3576.0           0.0  6715.0    49.0      Altark Susent   \n",
       "3          0.0     1283.0         371.0  3329.0   193.0       Solam Susent   \n",
       "4        303.0       70.0         151.0   565.0     2.0  Willy Santantines   \n",
       "\n",
       "   Transported  \n",
       "0        False  \n",
       "1         True  \n",
       "2        False  \n",
       "3        False  \n",
       "4         True  "
      ]
     },
     "execution_count": 6,
     "metadata": {},
     "output_type": "execute_result"
    }
   ],
   "source": [
    "train.head()"
   ]
  },
  {
   "cell_type": "code",
   "execution_count": 7,
   "id": "802f98cc",
   "metadata": {
    "execution": {
     "iopub.execute_input": "2022-10-29T08:46:55.219022Z",
     "iopub.status.busy": "2022-10-29T08:46:55.218600Z",
     "iopub.status.idle": "2022-10-29T08:46:55.240588Z",
     "shell.execute_reply": "2022-10-29T08:46:55.239866Z"
    },
    "papermill": {
     "duration": 0.032806,
     "end_time": "2022-10-29T08:46:55.242162",
     "exception": false,
     "start_time": "2022-10-29T08:46:55.209356",
     "status": "completed"
    },
    "tags": []
   },
   "outputs": [
    {
     "name": "stdout",
     "output_type": "stream",
     "text": [
      "<class 'pandas.core.frame.DataFrame'>\n",
      "RangeIndex: 8693 entries, 0 to 8692\n",
      "Data columns (total 14 columns):\n",
      " #   Column        Non-Null Count  Dtype  \n",
      "---  ------        --------------  -----  \n",
      " 0   PassengerId   8693 non-null   object \n",
      " 1   HomePlanet    8492 non-null   object \n",
      " 2   CryoSleep     8476 non-null   object \n",
      " 3   Cabin         8494 non-null   object \n",
      " 4   Destination   8511 non-null   object \n",
      " 5   Age           8514 non-null   float64\n",
      " 6   VIP           8490 non-null   object \n",
      " 7   RoomService   8512 non-null   float64\n",
      " 8   FoodCourt     8510 non-null   float64\n",
      " 9   ShoppingMall  8485 non-null   float64\n",
      " 10  Spa           8510 non-null   float64\n",
      " 11  VRDeck        8505 non-null   float64\n",
      " 12  Name          8493 non-null   object \n",
      " 13  Transported   8693 non-null   bool   \n",
      "dtypes: bool(1), float64(6), object(7)\n",
      "memory usage: 891.5+ KB\n"
     ]
    }
   ],
   "source": [
    "train.info()"
   ]
  },
  {
   "cell_type": "code",
   "execution_count": 8,
   "id": "9b52ef34",
   "metadata": {
    "execution": {
     "iopub.execute_input": "2022-10-29T08:46:55.262497Z",
     "iopub.status.busy": "2022-10-29T08:46:55.261956Z",
     "iopub.status.idle": "2022-10-29T08:46:55.279710Z",
     "shell.execute_reply": "2022-10-29T08:46:55.278899Z"
    },
    "papermill": {
     "duration": 0.030073,
     "end_time": "2022-10-29T08:46:55.281399",
     "exception": false,
     "start_time": "2022-10-29T08:46:55.251326",
     "status": "completed"
    },
    "tags": []
   },
   "outputs": [
    {
     "data": {
      "text/plain": [
       "PassengerId     8693\n",
       "HomePlanet         3\n",
       "CryoSleep          2\n",
       "Cabin           6560\n",
       "Destination        3\n",
       "Age               80\n",
       "VIP                2\n",
       "RoomService     1273\n",
       "FoodCourt       1507\n",
       "ShoppingMall    1115\n",
       "Spa             1327\n",
       "VRDeck          1306\n",
       "Name            8473\n",
       "Transported        2\n",
       "dtype: int64"
      ]
     },
     "execution_count": 8,
     "metadata": {},
     "output_type": "execute_result"
    }
   ],
   "source": [
    "train.nunique()"
   ]
  },
  {
   "cell_type": "code",
   "execution_count": 9,
   "id": "49daf0d8",
   "metadata": {
    "execution": {
     "iopub.execute_input": "2022-10-29T08:46:55.336432Z",
     "iopub.status.busy": "2022-10-29T08:46:55.336116Z",
     "iopub.status.idle": "2022-10-29T08:46:55.343272Z",
     "shell.execute_reply": "2022-10-29T08:46:55.342507Z"
    },
    "papermill": {
     "duration": 0.018686,
     "end_time": "2022-10-29T08:46:55.344847",
     "exception": false,
     "start_time": "2022-10-29T08:46:55.326161",
     "status": "completed"
    },
    "tags": []
   },
   "outputs": [
    {
     "data": {
      "text/plain": [
       "0          B/0/P\n",
       "1          F/0/S\n",
       "2          A/0/S\n",
       "3          A/0/S\n",
       "4          F/1/S\n",
       "          ...   \n",
       "8688      A/98/P\n",
       "8689    G/1499/S\n",
       "8690    G/1500/S\n",
       "8691     E/608/S\n",
       "8692     E/608/S\n",
       "Name: Cabin, Length: 8693, dtype: object"
      ]
     },
     "execution_count": 9,
     "metadata": {},
     "output_type": "execute_result"
    }
   ],
   "source": [
    "train['Cabin']"
   ]
  },
  {
   "cell_type": "code",
   "execution_count": 10,
   "id": "1c3b0236",
   "metadata": {
    "execution": {
     "iopub.execute_input": "2022-10-29T08:46:55.381099Z",
     "iopub.status.busy": "2022-10-29T08:46:55.380818Z",
     "iopub.status.idle": "2022-10-29T08:46:55.385293Z",
     "shell.execute_reply": "2022-10-29T08:46:55.384268Z"
    },
    "papermill": {
     "duration": 0.015969,
     "end_time": "2022-10-29T08:46:55.387113",
     "exception": false,
     "start_time": "2022-10-29T08:46:55.371144",
     "status": "completed"
    },
    "tags": []
   },
   "outputs": [],
   "source": [
    "cat_cols = [\"HomePlanet\",\"CryoSleep\",\"Cabin\",\"Destination\", \"VIP\"]\n",
    "cont_cols = [\"Age\", \"RoomService\", \"FoodCourt\", \"ShoppingMall\", \"Spa\", \"VRDeck\"]"
   ]
  },
  {
   "cell_type": "markdown",
   "id": "0213a25e",
   "metadata": {
    "papermill": {
     "duration": 0.008549,
     "end_time": "2022-10-29T08:46:55.404757",
     "exception": false,
     "start_time": "2022-10-29T08:46:55.396208",
     "status": "completed"
    },
    "tags": []
   },
   "source": [
    "# 3. Data Preparation\n",
    "\n",
    "\n"
   ]
  },
  {
   "cell_type": "code",
   "execution_count": 11,
   "id": "7c43d81b",
   "metadata": {
    "execution": {
     "iopub.execute_input": "2022-10-29T08:46:55.423624Z",
     "iopub.status.busy": "2022-10-29T08:46:55.423275Z",
     "iopub.status.idle": "2022-10-29T08:46:55.436322Z",
     "shell.execute_reply": "2022-10-29T08:46:55.435084Z"
    },
    "papermill": {
     "duration": 0.024813,
     "end_time": "2022-10-29T08:46:55.438297",
     "exception": false,
     "start_time": "2022-10-29T08:46:55.413484",
     "status": "completed"
    },
    "tags": []
   },
   "outputs": [
    {
     "name": "stdout",
     "output_type": "stream",
     "text": [
      "<class 'pandas.core.frame.DataFrame'>\n",
      "RangeIndex: 8693 entries, 0 to 8692\n",
      "Data columns (total 14 columns):\n",
      " #   Column        Non-Null Count  Dtype  \n",
      "---  ------        --------------  -----  \n",
      " 0   PassengerId   8693 non-null   object \n",
      " 1   HomePlanet    8492 non-null   object \n",
      " 2   CryoSleep     8476 non-null   object \n",
      " 3   Cabin         8494 non-null   object \n",
      " 4   Destination   8511 non-null   object \n",
      " 5   Age           8514 non-null   float64\n",
      " 6   VIP           8490 non-null   object \n",
      " 7   RoomService   8512 non-null   float64\n",
      " 8   FoodCourt     8510 non-null   float64\n",
      " 9   ShoppingMall  8485 non-null   float64\n",
      " 10  Spa           8510 non-null   float64\n",
      " 11  VRDeck        8505 non-null   float64\n",
      " 12  Name          8493 non-null   object \n",
      " 13  Transported   8693 non-null   bool   \n",
      "dtypes: bool(1), float64(6), object(7)\n",
      "memory usage: 891.5+ KB\n"
     ]
    }
   ],
   "source": [
    "train.info()"
   ]
  },
  {
   "cell_type": "code",
   "execution_count": 12,
   "id": "51592d60",
   "metadata": {
    "execution": {
     "iopub.execute_input": "2022-10-29T08:46:55.475873Z",
     "iopub.status.busy": "2022-10-29T08:46:55.475580Z",
     "iopub.status.idle": "2022-10-29T08:46:55.479554Z",
     "shell.execute_reply": "2022-10-29T08:46:55.478775Z"
    },
    "papermill": {
     "duration": 0.015685,
     "end_time": "2022-10-29T08:46:55.481173",
     "exception": false,
     "start_time": "2022-10-29T08:46:55.465488",
     "status": "completed"
    },
    "tags": []
   },
   "outputs": [],
   "source": [
    "simp_num = SimpleImputer(missing_values = np.nan, strategy = \"mean\")\n",
    "simp_cat = SimpleImputer(missing_values = np.nan, strategy = \"most_frequent\")"
   ]
  },
  {
   "cell_type": "code",
   "execution_count": 13,
   "id": "595a5db6",
   "metadata": {
    "execution": {
     "iopub.execute_input": "2022-10-29T08:46:55.501178Z",
     "iopub.status.busy": "2022-10-29T08:46:55.500844Z",
     "iopub.status.idle": "2022-10-29T08:46:55.523716Z",
     "shell.execute_reply": "2022-10-29T08:46:55.522941Z"
    },
    "papermill": {
     "duration": 0.035322,
     "end_time": "2022-10-29T08:46:55.525625",
     "exception": false,
     "start_time": "2022-10-29T08:46:55.490303",
     "status": "completed"
    },
    "tags": []
   },
   "outputs": [],
   "source": [
    "for col in cat_cols:\n",
    "    train[col] = simp_cat.fit_transform(train[col].values.reshape(-1,1))[:,0]\n",
    "    test[col] = simp_cat.transform(test[col].values.reshape(-1,1))[:,0]\n",
    "\n",
    "for col in cont_cols:\n",
    "    train[col] = simp_num.fit_transform(train[col].values.reshape(-1,1))[:,0]\n",
    "    test[col] = simp_num.transform(test[col].values.reshape(-1,1))[:,0]"
   ]
  },
  {
   "cell_type": "code",
   "execution_count": 14,
   "id": "0259ebf7",
   "metadata": {
    "execution": {
     "iopub.execute_input": "2022-10-29T08:46:55.563708Z",
     "iopub.status.busy": "2022-10-29T08:46:55.563389Z",
     "iopub.status.idle": "2022-10-29T08:46:55.594049Z",
     "shell.execute_reply": "2022-10-29T08:46:55.593197Z"
    },
    "papermill": {
     "duration": 0.042912,
     "end_time": "2022-10-29T08:46:55.595854",
     "exception": false,
     "start_time": "2022-10-29T08:46:55.552942",
     "status": "completed"
    },
    "tags": []
   },
   "outputs": [],
   "source": [
    "# New features - training set\n",
    "train['Deck'] = train['Cabin'].apply(lambda x: str(x).split('/')[0])\n",
    "train['Number'] = train['Cabin'].apply(lambda x:  str(x).split('/')[1]).astype(int)\n",
    "train['Side'] = train['Cabin'].apply(lambda x:  str(x).split('/')[2])\n",
    "\n",
    "# New features - test set\n",
    "test['Deck'] = test['Cabin'].apply(lambda x: str(x).split('/')[0])\n",
    "test['Number'] = test['Cabin'].apply(lambda x: str(x).split('/')[1]).astype(int)\n",
    "test['Side'] = test['Cabin'].apply(lambda x: str(x).split('/')[2])"
   ]
  },
  {
   "cell_type": "code",
   "execution_count": 15,
   "id": "3087d312",
   "metadata": {
    "execution": {
     "iopub.execute_input": "2022-10-29T08:46:55.632849Z",
     "iopub.status.busy": "2022-10-29T08:46:55.632561Z",
     "iopub.status.idle": "2022-10-29T08:46:55.636634Z",
     "shell.execute_reply": "2022-10-29T08:46:55.635841Z"
    },
    "papermill": {
     "duration": 0.015965,
     "end_time": "2022-10-29T08:46:55.638392",
     "exception": false,
     "start_time": "2022-10-29T08:46:55.622427",
     "status": "completed"
    },
    "tags": []
   },
   "outputs": [],
   "source": [
    "cat_cols.append('Deck')\n",
    "cat_cols.append('Side')\n",
    "cont_cols.append('Number')"
   ]
  },
  {
   "cell_type": "code",
   "execution_count": 16,
   "id": "64646548",
   "metadata": {
    "execution": {
     "iopub.execute_input": "2022-10-29T08:46:55.675555Z",
     "iopub.status.busy": "2022-10-29T08:46:55.675225Z",
     "iopub.status.idle": "2022-10-29T08:46:55.680376Z",
     "shell.execute_reply": "2022-10-29T08:46:55.679523Z"
    },
    "papermill": {
     "duration": 0.01726,
     "end_time": "2022-10-29T08:46:55.682179",
     "exception": false,
     "start_time": "2022-10-29T08:46:55.664919",
     "status": "completed"
    },
    "tags": []
   },
   "outputs": [],
   "source": [
    "def encoder(df):\n",
    "    \n",
    "    for col in cat_cols:\n",
    "        le = LabelEncoder()\n",
    "        le.fit(df[col])\n",
    "        df[col] = le.transform(df[col])\n",
    "        \n",
    "    for col in cont_cols:\n",
    "        df[col] = np.log1p(df[col])\n",
    "    \n",
    "    return df"
   ]
  },
  {
   "cell_type": "code",
   "execution_count": 17,
   "id": "fe7e3fe2",
   "metadata": {
    "execution": {
     "iopub.execute_input": "2022-10-29T08:46:55.719898Z",
     "iopub.status.busy": "2022-10-29T08:46:55.719593Z",
     "iopub.status.idle": "2022-10-29T08:46:55.770000Z",
     "shell.execute_reply": "2022-10-29T08:46:55.769196Z"
    },
    "papermill": {
     "duration": 0.062894,
     "end_time": "2022-10-29T08:46:55.772228",
     "exception": false,
     "start_time": "2022-10-29T08:46:55.709334",
     "status": "completed"
    },
    "tags": []
   },
   "outputs": [],
   "source": [
    "target = train['Transported'] \n",
    "let = LabelEncoder()\n",
    "let.fit(target)\n",
    "train = encoder(train)\n",
    "test = encoder(test)"
   ]
  },
  {
   "cell_type": "markdown",
   "id": "9f465c41",
   "metadata": {
    "papermill": {
     "duration": 0.008696,
     "end_time": "2022-10-29T08:46:55.790126",
     "exception": false,
     "start_time": "2022-10-29T08:46:55.781430",
     "status": "completed"
    },
    "tags": []
   },
   "source": [
    "# 4. Modeling"
   ]
  },
  {
   "cell_type": "markdown",
   "id": "c2b4af3e",
   "metadata": {
    "papermill": {
     "duration": 0.008554,
     "end_time": "2022-10-29T08:46:55.807512",
     "exception": false,
     "start_time": "2022-10-29T08:46:55.798958",
     "status": "completed"
    },
    "tags": []
   },
   "source": [
    "## Feature Selections"
   ]
  },
  {
   "cell_type": "code",
   "execution_count": 18,
   "id": "07d784a1",
   "metadata": {
    "execution": {
     "iopub.execute_input": "2022-10-29T08:46:55.826720Z",
     "iopub.status.busy": "2022-10-29T08:46:55.826397Z",
     "iopub.status.idle": "2022-10-29T08:46:55.838628Z",
     "shell.execute_reply": "2022-10-29T08:46:55.837930Z"
    },
    "papermill": {
     "duration": 0.023983,
     "end_time": "2022-10-29T08:46:55.840231",
     "exception": false,
     "start_time": "2022-10-29T08:46:55.816248",
     "status": "completed"
    },
    "tags": []
   },
   "outputs": [
    {
     "data": {
      "text/plain": [
       "PassengerId     8693\n",
       "HomePlanet         3\n",
       "CryoSleep          2\n",
       "Cabin           6560\n",
       "Destination        3\n",
       "Age               81\n",
       "VIP                2\n",
       "RoomService     1274\n",
       "FoodCourt       1508\n",
       "ShoppingMall    1116\n",
       "Spa             1328\n",
       "VRDeck          1307\n",
       "Name            8473\n",
       "Transported        2\n",
       "Deck               8\n",
       "Number          1817\n",
       "Side               2\n",
       "dtype: int64"
      ]
     },
     "execution_count": 18,
     "metadata": {},
     "output_type": "execute_result"
    }
   ],
   "source": [
    "train.nunique()"
   ]
  },
  {
   "cell_type": "code",
   "execution_count": 19,
   "id": "7aa6b481",
   "metadata": {
    "execution": {
     "iopub.execute_input": "2022-10-29T08:46:55.877316Z",
     "iopub.status.busy": "2022-10-29T08:46:55.876928Z",
     "iopub.status.idle": "2022-10-29T08:46:55.886886Z",
     "shell.execute_reply": "2022-10-29T08:46:55.886086Z"
    },
    "papermill": {
     "duration": 0.021705,
     "end_time": "2022-10-29T08:46:55.888726",
     "exception": false,
     "start_time": "2022-10-29T08:46:55.867021",
     "status": "completed"
    },
    "tags": []
   },
   "outputs": [],
   "source": [
    "y = let.transform(target)\n",
    "\n",
    "#delete data train = PassegerId, Name, Transported\n",
    "cols_to_drop = ['PassengerId', 'Cabin', 'Name','Transported']\n",
    "#delete data test = PassegerId, Name, Transported\n",
    "cols_to_drop_test = ['PassengerId', 'Cabin', 'Name']\n",
    "\n",
    "train = train.drop(cols_to_drop, axis=1)\n",
    "test = test.drop(cols_to_drop_test, axis=1)\n",
    "\n",
    "X = train.values"
   ]
  },
  {
   "cell_type": "code",
   "execution_count": 20,
   "id": "b0675852",
   "metadata": {},
   "outputs": [
    {
     "data": {
      "text/html": [
       "<div>\n",
       "<style scoped>\n",
       "    .dataframe tbody tr th:only-of-type {\n",
       "        vertical-align: middle;\n",
       "    }\n",
       "\n",
       "    .dataframe tbody tr th {\n",
       "        vertical-align: top;\n",
       "    }\n",
       "\n",
       "    .dataframe thead th {\n",
       "        text-align: right;\n",
       "    }\n",
       "</style>\n",
       "<table border=\"1\" class=\"dataframe\">\n",
       "  <thead>\n",
       "    <tr style=\"text-align: right;\">\n",
       "      <th></th>\n",
       "      <th>HomePlanet</th>\n",
       "      <th>CryoSleep</th>\n",
       "      <th>Destination</th>\n",
       "      <th>Age</th>\n",
       "      <th>VIP</th>\n",
       "      <th>RoomService</th>\n",
       "      <th>FoodCourt</th>\n",
       "      <th>ShoppingMall</th>\n",
       "      <th>Spa</th>\n",
       "      <th>VRDeck</th>\n",
       "      <th>Deck</th>\n",
       "      <th>Number</th>\n",
       "      <th>Side</th>\n",
       "    </tr>\n",
       "  </thead>\n",
       "  <tbody>\n",
       "    <tr>\n",
       "      <th>0</th>\n",
       "      <td>1</td>\n",
       "      <td>0</td>\n",
       "      <td>2</td>\n",
       "      <td>3.688879</td>\n",
       "      <td>0</td>\n",
       "      <td>0.000000</td>\n",
       "      <td>0.000000</td>\n",
       "      <td>0.000000</td>\n",
       "      <td>0.000000</td>\n",
       "      <td>0.000000</td>\n",
       "      <td>1</td>\n",
       "      <td>0.000000</td>\n",
       "      <td>0</td>\n",
       "    </tr>\n",
       "    <tr>\n",
       "      <th>1</th>\n",
       "      <td>0</td>\n",
       "      <td>0</td>\n",
       "      <td>2</td>\n",
       "      <td>3.218876</td>\n",
       "      <td>0</td>\n",
       "      <td>4.700480</td>\n",
       "      <td>2.302585</td>\n",
       "      <td>3.258097</td>\n",
       "      <td>6.309918</td>\n",
       "      <td>3.806662</td>\n",
       "      <td>5</td>\n",
       "      <td>0.000000</td>\n",
       "      <td>1</td>\n",
       "    </tr>\n",
       "    <tr>\n",
       "      <th>2</th>\n",
       "      <td>1</td>\n",
       "      <td>0</td>\n",
       "      <td>2</td>\n",
       "      <td>4.077537</td>\n",
       "      <td>1</td>\n",
       "      <td>3.784190</td>\n",
       "      <td>8.182280</td>\n",
       "      <td>0.000000</td>\n",
       "      <td>8.812248</td>\n",
       "      <td>3.912023</td>\n",
       "      <td>0</td>\n",
       "      <td>0.000000</td>\n",
       "      <td>1</td>\n",
       "    </tr>\n",
       "    <tr>\n",
       "      <th>3</th>\n",
       "      <td>1</td>\n",
       "      <td>0</td>\n",
       "      <td>2</td>\n",
       "      <td>3.526361</td>\n",
       "      <td>0</td>\n",
       "      <td>0.000000</td>\n",
       "      <td>7.157735</td>\n",
       "      <td>5.918894</td>\n",
       "      <td>8.110728</td>\n",
       "      <td>5.267858</td>\n",
       "      <td>0</td>\n",
       "      <td>0.000000</td>\n",
       "      <td>1</td>\n",
       "    </tr>\n",
       "    <tr>\n",
       "      <th>4</th>\n",
       "      <td>0</td>\n",
       "      <td>0</td>\n",
       "      <td>2</td>\n",
       "      <td>2.833213</td>\n",
       "      <td>0</td>\n",
       "      <td>5.717028</td>\n",
       "      <td>4.262680</td>\n",
       "      <td>5.023881</td>\n",
       "      <td>6.338594</td>\n",
       "      <td>1.098612</td>\n",
       "      <td>5</td>\n",
       "      <td>0.693147</td>\n",
       "      <td>1</td>\n",
       "    </tr>\n",
       "    <tr>\n",
       "      <th>...</th>\n",
       "      <td>...</td>\n",
       "      <td>...</td>\n",
       "      <td>...</td>\n",
       "      <td>...</td>\n",
       "      <td>...</td>\n",
       "      <td>...</td>\n",
       "      <td>...</td>\n",
       "      <td>...</td>\n",
       "      <td>...</td>\n",
       "      <td>...</td>\n",
       "      <td>...</td>\n",
       "      <td>...</td>\n",
       "      <td>...</td>\n",
       "    </tr>\n",
       "    <tr>\n",
       "      <th>8688</th>\n",
       "      <td>1</td>\n",
       "      <td>0</td>\n",
       "      <td>0</td>\n",
       "      <td>3.737670</td>\n",
       "      <td>1</td>\n",
       "      <td>0.000000</td>\n",
       "      <td>8.827615</td>\n",
       "      <td>0.000000</td>\n",
       "      <td>7.404888</td>\n",
       "      <td>4.317488</td>\n",
       "      <td>0</td>\n",
       "      <td>4.595120</td>\n",
       "      <td>0</td>\n",
       "    </tr>\n",
       "    <tr>\n",
       "      <th>8689</th>\n",
       "      <td>0</td>\n",
       "      <td>1</td>\n",
       "      <td>1</td>\n",
       "      <td>2.944439</td>\n",
       "      <td>0</td>\n",
       "      <td>0.000000</td>\n",
       "      <td>0.000000</td>\n",
       "      <td>0.000000</td>\n",
       "      <td>0.000000</td>\n",
       "      <td>0.000000</td>\n",
       "      <td>6</td>\n",
       "      <td>7.313220</td>\n",
       "      <td>1</td>\n",
       "    </tr>\n",
       "    <tr>\n",
       "      <th>8690</th>\n",
       "      <td>0</td>\n",
       "      <td>0</td>\n",
       "      <td>2</td>\n",
       "      <td>3.295837</td>\n",
       "      <td>0</td>\n",
       "      <td>0.000000</td>\n",
       "      <td>0.000000</td>\n",
       "      <td>7.535297</td>\n",
       "      <td>0.693147</td>\n",
       "      <td>0.000000</td>\n",
       "      <td>6</td>\n",
       "      <td>7.313887</td>\n",
       "      <td>1</td>\n",
       "    </tr>\n",
       "    <tr>\n",
       "      <th>8691</th>\n",
       "      <td>1</td>\n",
       "      <td>0</td>\n",
       "      <td>0</td>\n",
       "      <td>3.496508</td>\n",
       "      <td>0</td>\n",
       "      <td>0.000000</td>\n",
       "      <td>6.956545</td>\n",
       "      <td>0.000000</td>\n",
       "      <td>5.869297</td>\n",
       "      <td>8.082093</td>\n",
       "      <td>4</td>\n",
       "      <td>6.411818</td>\n",
       "      <td>1</td>\n",
       "    </tr>\n",
       "    <tr>\n",
       "      <th>8692</th>\n",
       "      <td>1</td>\n",
       "      <td>0</td>\n",
       "      <td>2</td>\n",
       "      <td>3.806662</td>\n",
       "      <td>0</td>\n",
       "      <td>4.844187</td>\n",
       "      <td>8.452975</td>\n",
       "      <td>0.000000</td>\n",
       "      <td>0.000000</td>\n",
       "      <td>2.564949</td>\n",
       "      <td>4</td>\n",
       "      <td>6.411818</td>\n",
       "      <td>1</td>\n",
       "    </tr>\n",
       "  </tbody>\n",
       "</table>\n",
       "<p>8693 rows × 13 columns</p>\n",
       "</div>"
      ],
      "text/plain": [
       "      HomePlanet  CryoSleep  Destination       Age  VIP  RoomService  \\\n",
       "0              1          0            2  3.688879    0     0.000000   \n",
       "1              0          0            2  3.218876    0     4.700480   \n",
       "2              1          0            2  4.077537    1     3.784190   \n",
       "3              1          0            2  3.526361    0     0.000000   \n",
       "4              0          0            2  2.833213    0     5.717028   \n",
       "...          ...        ...          ...       ...  ...          ...   \n",
       "8688           1          0            0  3.737670    1     0.000000   \n",
       "8689           0          1            1  2.944439    0     0.000000   \n",
       "8690           0          0            2  3.295837    0     0.000000   \n",
       "8691           1          0            0  3.496508    0     0.000000   \n",
       "8692           1          0            2  3.806662    0     4.844187   \n",
       "\n",
       "      FoodCourt  ShoppingMall       Spa    VRDeck  Deck    Number  Side  \n",
       "0      0.000000      0.000000  0.000000  0.000000     1  0.000000     0  \n",
       "1      2.302585      3.258097  6.309918  3.806662     5  0.000000     1  \n",
       "2      8.182280      0.000000  8.812248  3.912023     0  0.000000     1  \n",
       "3      7.157735      5.918894  8.110728  5.267858     0  0.000000     1  \n",
       "4      4.262680      5.023881  6.338594  1.098612     5  0.693147     1  \n",
       "...         ...           ...       ...       ...   ...       ...   ...  \n",
       "8688   8.827615      0.000000  7.404888  4.317488     0  4.595120     0  \n",
       "8689   0.000000      0.000000  0.000000  0.000000     6  7.313220     1  \n",
       "8690   0.000000      7.535297  0.693147  0.000000     6  7.313887     1  \n",
       "8691   6.956545      0.000000  5.869297  8.082093     4  6.411818     1  \n",
       "8692   8.452975      0.000000  0.000000  2.564949     4  6.411818     1  \n",
       "\n",
       "[8693 rows x 13 columns]"
      ]
     },
     "execution_count": 20,
     "metadata": {},
     "output_type": "execute_result"
    }
   ],
   "source": [
    "train"
   ]
  },
  {
   "cell_type": "code",
   "execution_count": 21,
   "id": "55f3e29f",
   "metadata": {},
   "outputs": [
    {
     "data": {
      "text/html": [
       "<div>\n",
       "<style scoped>\n",
       "    .dataframe tbody tr th:only-of-type {\n",
       "        vertical-align: middle;\n",
       "    }\n",
       "\n",
       "    .dataframe tbody tr th {\n",
       "        vertical-align: top;\n",
       "    }\n",
       "\n",
       "    .dataframe thead th {\n",
       "        text-align: right;\n",
       "    }\n",
       "</style>\n",
       "<table border=\"1\" class=\"dataframe\">\n",
       "  <thead>\n",
       "    <tr style=\"text-align: right;\">\n",
       "      <th></th>\n",
       "      <th>HomePlanet</th>\n",
       "      <th>CryoSleep</th>\n",
       "      <th>Destination</th>\n",
       "      <th>Age</th>\n",
       "      <th>VIP</th>\n",
       "      <th>RoomService</th>\n",
       "      <th>FoodCourt</th>\n",
       "      <th>ShoppingMall</th>\n",
       "      <th>Spa</th>\n",
       "      <th>VRDeck</th>\n",
       "      <th>Deck</th>\n",
       "      <th>Number</th>\n",
       "      <th>Side</th>\n",
       "    </tr>\n",
       "  </thead>\n",
       "  <tbody>\n",
       "    <tr>\n",
       "      <th>0</th>\n",
       "      <td>0</td>\n",
       "      <td>1</td>\n",
       "      <td>2</td>\n",
       "      <td>3.332205</td>\n",
       "      <td>0</td>\n",
       "      <td>0.000000</td>\n",
       "      <td>0.000000</td>\n",
       "      <td>0.000000</td>\n",
       "      <td>0.000000</td>\n",
       "      <td>0.000000</td>\n",
       "      <td>6</td>\n",
       "      <td>1.386294</td>\n",
       "      <td>1</td>\n",
       "    </tr>\n",
       "    <tr>\n",
       "      <th>1</th>\n",
       "      <td>0</td>\n",
       "      <td>0</td>\n",
       "      <td>2</td>\n",
       "      <td>2.995732</td>\n",
       "      <td>0</td>\n",
       "      <td>0.000000</td>\n",
       "      <td>2.302585</td>\n",
       "      <td>0.000000</td>\n",
       "      <td>7.945910</td>\n",
       "      <td>0.000000</td>\n",
       "      <td>5</td>\n",
       "      <td>1.609438</td>\n",
       "      <td>1</td>\n",
       "    </tr>\n",
       "    <tr>\n",
       "      <th>2</th>\n",
       "      <td>1</td>\n",
       "      <td>1</td>\n",
       "      <td>0</td>\n",
       "      <td>3.465736</td>\n",
       "      <td>0</td>\n",
       "      <td>0.000000</td>\n",
       "      <td>0.000000</td>\n",
       "      <td>0.000000</td>\n",
       "      <td>0.000000</td>\n",
       "      <td>0.000000</td>\n",
       "      <td>2</td>\n",
       "      <td>0.000000</td>\n",
       "      <td>1</td>\n",
       "    </tr>\n",
       "    <tr>\n",
       "      <th>3</th>\n",
       "      <td>1</td>\n",
       "      <td>0</td>\n",
       "      <td>2</td>\n",
       "      <td>3.663562</td>\n",
       "      <td>0</td>\n",
       "      <td>0.000000</td>\n",
       "      <td>8.802823</td>\n",
       "      <td>0.000000</td>\n",
       "      <td>5.204007</td>\n",
       "      <td>6.373320</td>\n",
       "      <td>2</td>\n",
       "      <td>0.693147</td>\n",
       "      <td>1</td>\n",
       "    </tr>\n",
       "    <tr>\n",
       "      <th>4</th>\n",
       "      <td>0</td>\n",
       "      <td>0</td>\n",
       "      <td>2</td>\n",
       "      <td>3.044522</td>\n",
       "      <td>0</td>\n",
       "      <td>2.397895</td>\n",
       "      <td>0.000000</td>\n",
       "      <td>6.455199</td>\n",
       "      <td>0.000000</td>\n",
       "      <td>0.000000</td>\n",
       "      <td>5</td>\n",
       "      <td>1.791759</td>\n",
       "      <td>1</td>\n",
       "    </tr>\n",
       "    <tr>\n",
       "      <th>...</th>\n",
       "      <td>...</td>\n",
       "      <td>...</td>\n",
       "      <td>...</td>\n",
       "      <td>...</td>\n",
       "      <td>...</td>\n",
       "      <td>...</td>\n",
       "      <td>...</td>\n",
       "      <td>...</td>\n",
       "      <td>...</td>\n",
       "      <td>...</td>\n",
       "      <td>...</td>\n",
       "      <td>...</td>\n",
       "      <td>...</td>\n",
       "    </tr>\n",
       "    <tr>\n",
       "      <th>4272</th>\n",
       "      <td>0</td>\n",
       "      <td>1</td>\n",
       "      <td>2</td>\n",
       "      <td>3.555348</td>\n",
       "      <td>0</td>\n",
       "      <td>0.000000</td>\n",
       "      <td>0.000000</td>\n",
       "      <td>0.000000</td>\n",
       "      <td>0.000000</td>\n",
       "      <td>0.000000</td>\n",
       "      <td>6</td>\n",
       "      <td>7.311218</td>\n",
       "      <td>1</td>\n",
       "    </tr>\n",
       "    <tr>\n",
       "      <th>4273</th>\n",
       "      <td>0</td>\n",
       "      <td>0</td>\n",
       "      <td>2</td>\n",
       "      <td>3.761200</td>\n",
       "      <td>0</td>\n",
       "      <td>0.000000</td>\n",
       "      <td>6.742881</td>\n",
       "      <td>2.890372</td>\n",
       "      <td>2.397895</td>\n",
       "      <td>4.976734</td>\n",
       "      <td>6</td>\n",
       "      <td>6.599870</td>\n",
       "      <td>1</td>\n",
       "    </tr>\n",
       "    <tr>\n",
       "      <th>4274</th>\n",
       "      <td>2</td>\n",
       "      <td>1</td>\n",
       "      <td>0</td>\n",
       "      <td>3.395445</td>\n",
       "      <td>0</td>\n",
       "      <td>0.000000</td>\n",
       "      <td>0.000000</td>\n",
       "      <td>0.000000</td>\n",
       "      <td>0.000000</td>\n",
       "      <td>0.000000</td>\n",
       "      <td>3</td>\n",
       "      <td>5.693732</td>\n",
       "      <td>0</td>\n",
       "    </tr>\n",
       "    <tr>\n",
       "      <th>4275</th>\n",
       "      <td>1</td>\n",
       "      <td>0</td>\n",
       "      <td>2</td>\n",
       "      <td>3.395445</td>\n",
       "      <td>0</td>\n",
       "      <td>0.000000</td>\n",
       "      <td>7.893945</td>\n",
       "      <td>0.000000</td>\n",
       "      <td>0.000000</td>\n",
       "      <td>6.261492</td>\n",
       "      <td>3</td>\n",
       "      <td>5.697093</td>\n",
       "      <td>0</td>\n",
       "    </tr>\n",
       "    <tr>\n",
       "      <th>4276</th>\n",
       "      <td>0</td>\n",
       "      <td>1</td>\n",
       "      <td>1</td>\n",
       "      <td>3.784190</td>\n",
       "      <td>0</td>\n",
       "      <td>0.000000</td>\n",
       "      <td>0.000000</td>\n",
       "      <td>0.000000</td>\n",
       "      <td>0.000000</td>\n",
       "      <td>0.000000</td>\n",
       "      <td>6</td>\n",
       "      <td>7.312553</td>\n",
       "      <td>1</td>\n",
       "    </tr>\n",
       "  </tbody>\n",
       "</table>\n",
       "<p>4277 rows × 13 columns</p>\n",
       "</div>"
      ],
      "text/plain": [
       "      HomePlanet  CryoSleep  Destination       Age  VIP  RoomService  \\\n",
       "0              0          1            2  3.332205    0     0.000000   \n",
       "1              0          0            2  2.995732    0     0.000000   \n",
       "2              1          1            0  3.465736    0     0.000000   \n",
       "3              1          0            2  3.663562    0     0.000000   \n",
       "4              0          0            2  3.044522    0     2.397895   \n",
       "...          ...        ...          ...       ...  ...          ...   \n",
       "4272           0          1            2  3.555348    0     0.000000   \n",
       "4273           0          0            2  3.761200    0     0.000000   \n",
       "4274           2          1            0  3.395445    0     0.000000   \n",
       "4275           1          0            2  3.395445    0     0.000000   \n",
       "4276           0          1            1  3.784190    0     0.000000   \n",
       "\n",
       "      FoodCourt  ShoppingMall       Spa    VRDeck  Deck    Number  Side  \n",
       "0      0.000000      0.000000  0.000000  0.000000     6  1.386294     1  \n",
       "1      2.302585      0.000000  7.945910  0.000000     5  1.609438     1  \n",
       "2      0.000000      0.000000  0.000000  0.000000     2  0.000000     1  \n",
       "3      8.802823      0.000000  5.204007  6.373320     2  0.693147     1  \n",
       "4      0.000000      6.455199  0.000000  0.000000     5  1.791759     1  \n",
       "...         ...           ...       ...       ...   ...       ...   ...  \n",
       "4272   0.000000      0.000000  0.000000  0.000000     6  7.311218     1  \n",
       "4273   6.742881      2.890372  2.397895  4.976734     6  6.599870     1  \n",
       "4274   0.000000      0.000000  0.000000  0.000000     3  5.693732     0  \n",
       "4275   7.893945      0.000000  0.000000  6.261492     3  5.697093     0  \n",
       "4276   0.000000      0.000000  0.000000  0.000000     6  7.312553     1  \n",
       "\n",
       "[4277 rows x 13 columns]"
      ]
     },
     "execution_count": 21,
     "metadata": {},
     "output_type": "execute_result"
    }
   ],
   "source": [
    "test"
   ]
  },
  {
   "cell_type": "markdown",
   "id": "56a45cf4",
   "metadata": {
    "papermill": {
     "duration": 0.008588,
     "end_time": "2022-10-29T08:46:55.906439",
     "exception": false,
     "start_time": "2022-10-29T08:46:55.897851",
     "status": "completed"
    },
    "tags": []
   },
   "source": [
    "## K-Nearest-Neighbors"
   ]
  },
  {
   "cell_type": "code",
   "execution_count": 22,
   "id": "efdee93f",
   "metadata": {
    "execution": {
     "iopub.execute_input": "2022-10-29T08:46:55.978813Z",
     "iopub.status.busy": "2022-10-29T08:46:55.978520Z",
     "iopub.status.idle": "2022-10-29T08:47:06.272010Z",
     "shell.execute_reply": "2022-10-29T08:47:06.271086Z"
    },
    "papermill": {
     "duration": 10.305699,
     "end_time": "2022-10-29T08:47:06.274296",
     "exception": false,
     "start_time": "2022-10-29T08:46:55.968597",
     "status": "completed"
    },
    "tags": []
   },
   "outputs": [
    {
     "name": "stdout",
     "output_type": "stream",
     "text": [
      "Fitting 3 folds for each of 330 candidates, totalling 990 fits\n"
     ]
    }
   ],
   "source": [
    "grid_params = { 'n_neighbors' : range(45,100),\n",
    "               'weights' : ['uniform','distance'],\n",
    "               'metric' : ['minkowski','euclidean','manhattan']\n",
    "               }\n",
    "# n neighbours is the value of k\n",
    "\n",
    "gs = GridSearchCV(KNeighborsClassifier(), grid_params, verbose = 1, cv = 3, n_jobs = -1)\n",
    "# n_jobs is set to -1 which means that the job of finding a good fit will be handled by the Python interpreter on its own.\n",
    "\n",
    "g_res = gs.fit(X, y)"
   ]
  },
  {
   "cell_type": "code",
   "execution_count": 23,
   "id": "ded5ae92",
   "metadata": {
    "execution": {
     "iopub.execute_input": "2022-10-29T08:47:06.294392Z",
     "iopub.status.busy": "2022-10-29T08:47:06.293488Z",
     "iopub.status.idle": "2022-10-29T08:47:06.298434Z",
     "shell.execute_reply": "2022-10-29T08:47:06.297660Z"
    },
    "papermill": {
     "duration": 0.016459,
     "end_time": "2022-10-29T08:47:06.300081",
     "exception": false,
     "start_time": "2022-10-29T08:47:06.283622",
     "status": "completed"
    },
    "tags": []
   },
   "outputs": [
    {
     "data": {
      "text/plain": [
       "0.7929386269273109"
      ]
     },
     "execution_count": 23,
     "metadata": {},
     "output_type": "execute_result"
    }
   ],
   "source": [
    "# find the best score\n",
    "g_res.best_score_"
   ]
  },
  {
   "cell_type": "code",
   "execution_count": 27,
   "id": "d572dad8",
   "metadata": {
    "execution": {
     "iopub.execute_input": "2022-10-29T08:47:06.319194Z",
     "iopub.status.busy": "2022-10-29T08:47:06.318795Z",
     "iopub.status.idle": "2022-10-29T08:47:06.324343Z",
     "shell.execute_reply": "2022-10-29T08:47:06.323391Z"
    },
    "papermill": {
     "duration": 0.016855,
     "end_time": "2022-10-29T08:47:06.325978",
     "exception": false,
     "start_time": "2022-10-29T08:47:06.309123",
     "status": "completed"
    },
    "tags": []
   },
   "outputs": [
    {
     "data": {
      "text/plain": [
       "{'metric': 'manhattan', 'n_neighbors': 46, 'weights': 'distance'}"
      ]
     },
     "execution_count": 27,
     "metadata": {},
     "output_type": "execute_result"
    }
   ],
   "source": [
    "g_res.best_params_"
   ]
  },
  {
   "cell_type": "code",
   "execution_count": 28,
   "id": "ae5ca2e6",
   "metadata": {
    "execution": {
     "iopub.execute_input": "2022-10-29T08:47:06.364013Z",
     "iopub.status.busy": "2022-10-29T08:47:06.363404Z",
     "iopub.status.idle": "2022-10-29T08:47:06.726648Z",
     "shell.execute_reply": "2022-10-29T08:47:06.725400Z"
    },
    "papermill": {
     "duration": 0.375254,
     "end_time": "2022-10-29T08:47:06.728836",
     "exception": false,
     "start_time": "2022-10-29T08:47:06.353582",
     "status": "completed"
    },
    "tags": []
   },
   "outputs": [],
   "source": [
    "classifier = KNeighborsClassifier(n_neighbors = 19, weights = 'uniform',metric = 'manhattan')\n",
    "classifier.fit(X, y)\n",
    "\n",
    "y_pred = classifier.predict(test.values)"
   ]
  },
  {
   "cell_type": "code",
   "execution_count": 29,
   "id": "e9bef975",
   "metadata": {
    "execution": {
     "iopub.execute_input": "2022-10-29T08:47:06.748607Z",
     "iopub.status.busy": "2022-10-29T08:47:06.748308Z",
     "iopub.status.idle": "2022-10-29T08:47:06.753688Z",
     "shell.execute_reply": "2022-10-29T08:47:06.752897Z"
    },
    "papermill": {
     "duration": 0.017478,
     "end_time": "2022-10-29T08:47:06.755800",
     "exception": false,
     "start_time": "2022-10-29T08:47:06.738322",
     "status": "completed"
    },
    "tags": []
   },
   "outputs": [
    {
     "data": {
      "text/plain": [
       "array([1, 0, 1, ..., 1, 1, 1], dtype=int64)"
      ]
     },
     "execution_count": 29,
     "metadata": {},
     "output_type": "execute_result"
    }
   ],
   "source": [
    "y_pred"
   ]
  },
  {
   "cell_type": "code",
   "execution_count": 30,
   "id": "8a838394",
   "metadata": {
    "execution": {
     "iopub.execute_input": "2022-10-29T08:47:06.834970Z",
     "iopub.status.busy": "2022-10-29T08:47:06.834444Z",
     "iopub.status.idle": "2022-10-29T08:47:06.848953Z",
     "shell.execute_reply": "2022-10-29T08:47:06.848331Z"
    },
    "papermill": {
     "duration": 0.027468,
     "end_time": "2022-10-29T08:47:06.850610",
     "exception": false,
     "start_time": "2022-10-29T08:47:06.823142",
     "status": "completed"
    },
    "tags": []
   },
   "outputs": [
    {
     "data": {
      "text/plain": [
       "array(['True', 'False', 'True', ..., 'True', 'True', 'True'], dtype='<U5')"
      ]
     },
     "execution_count": 30,
     "metadata": {},
     "output_type": "execute_result"
    }
   ],
   "source": [
    "y_pred = y_pred.astype(str)\n",
    "# replace prediction value false = 0\n",
    "y_pred = np.char.replace(y_pred, '0', 'False')\n",
    "# replace prediction value false = 1\n",
    "y_pred = np.char.replace(y_pred, '1', 'True')\n",
    "# show \n",
    "y_pred"
   ]
  },
  {
   "cell_type": "code",
   "execution_count": 31,
   "id": "27fe051e",
   "metadata": {
    "execution": {
     "iopub.execute_input": "2022-10-29T08:47:06.870698Z",
     "iopub.status.busy": "2022-10-29T08:47:06.870318Z",
     "iopub.status.idle": "2022-10-29T08:47:06.892050Z",
     "shell.execute_reply": "2022-10-29T08:47:06.891282Z"
    },
    "papermill": {
     "duration": 0.033643,
     "end_time": "2022-10-29T08:47:06.893644",
     "exception": false,
     "start_time": "2022-10-29T08:47:06.860001",
     "status": "completed"
    },
    "tags": []
   },
   "outputs": [
    {
     "data": {
      "text/html": [
       "<div>\n",
       "<style scoped>\n",
       "    .dataframe tbody tr th:only-of-type {\n",
       "        vertical-align: middle;\n",
       "    }\n",
       "\n",
       "    .dataframe tbody tr th {\n",
       "        vertical-align: top;\n",
       "    }\n",
       "\n",
       "    .dataframe thead th {\n",
       "        text-align: right;\n",
       "    }\n",
       "</style>\n",
       "<table border=\"1\" class=\"dataframe\">\n",
       "  <thead>\n",
       "    <tr style=\"text-align: right;\">\n",
       "      <th></th>\n",
       "      <th>PassengerId</th>\n",
       "      <th>Transported</th>\n",
       "    </tr>\n",
       "  </thead>\n",
       "  <tbody>\n",
       "    <tr>\n",
       "      <th>0</th>\n",
       "      <td>0013_01</td>\n",
       "      <td>True</td>\n",
       "    </tr>\n",
       "    <tr>\n",
       "      <th>1</th>\n",
       "      <td>0018_01</td>\n",
       "      <td>False</td>\n",
       "    </tr>\n",
       "    <tr>\n",
       "      <th>2</th>\n",
       "      <td>0019_01</td>\n",
       "      <td>True</td>\n",
       "    </tr>\n",
       "    <tr>\n",
       "      <th>3</th>\n",
       "      <td>0021_01</td>\n",
       "      <td>True</td>\n",
       "    </tr>\n",
       "    <tr>\n",
       "      <th>4</th>\n",
       "      <td>0023_01</td>\n",
       "      <td>True</td>\n",
       "    </tr>\n",
       "    <tr>\n",
       "      <th>...</th>\n",
       "      <td>...</td>\n",
       "      <td>...</td>\n",
       "    </tr>\n",
       "    <tr>\n",
       "      <th>4272</th>\n",
       "      <td>9266_02</td>\n",
       "      <td>True</td>\n",
       "    </tr>\n",
       "    <tr>\n",
       "      <th>4273</th>\n",
       "      <td>9269_01</td>\n",
       "      <td>False</td>\n",
       "    </tr>\n",
       "    <tr>\n",
       "      <th>4274</th>\n",
       "      <td>9271_01</td>\n",
       "      <td>True</td>\n",
       "    </tr>\n",
       "    <tr>\n",
       "      <th>4275</th>\n",
       "      <td>9273_01</td>\n",
       "      <td>True</td>\n",
       "    </tr>\n",
       "    <tr>\n",
       "      <th>4276</th>\n",
       "      <td>9277_01</td>\n",
       "      <td>True</td>\n",
       "    </tr>\n",
       "  </tbody>\n",
       "</table>\n",
       "<p>4277 rows × 2 columns</p>\n",
       "</div>"
      ],
      "text/plain": [
       "     PassengerId  Transported\n",
       "0        0013_01         True\n",
       "1        0018_01        False\n",
       "2        0019_01         True\n",
       "3        0021_01         True\n",
       "4        0023_01         True\n",
       "...          ...          ...\n",
       "4272     9266_02         True\n",
       "4273     9269_01        False\n",
       "4274     9271_01         True\n",
       "4275     9273_01         True\n",
       "4276     9277_01         True\n",
       "\n",
       "[4277 rows x 2 columns]"
      ]
     },
     "execution_count": 31,
     "metadata": {},
     "output_type": "execute_result"
    }
   ],
   "source": [
    "# submision = transport\n",
    "submission['Transported'] = y_pred\n",
    "# use kaggle submision form\n",
    "submission.to_csv('submission.csv', index=False)\n",
    "# turn to my result\n",
    "my_submission = pd.read_csv(\"submission.csv\")\n",
    "#show\n",
    "my_submission"
   ]
  },
  {
   "cell_type": "code",
   "execution_count": 32,
   "id": "5b392dc4",
   "metadata": {},
   "outputs": [],
   "source": [
    "X_train, X_test, y_train, y_test = train_test_split(X, y, test_size=0.3, random_state=0)\n",
    "y_pred = classifier.predict(X_test)"
   ]
  },
  {
   "cell_type": "code",
   "execution_count": 33,
   "id": "56a0e8c6",
   "metadata": {},
   "outputs": [
    {
     "name": "stdout",
     "output_type": "stream",
     "text": [
      "              precision    recall  f1-score   support\n",
      "\n",
      "           0       0.81      0.83      0.82      1303\n",
      "           1       0.82      0.81      0.82      1305\n",
      "\n",
      "    accuracy                           0.82      2608\n",
      "   macro avg       0.82      0.82      0.82      2608\n",
      "weighted avg       0.82      0.82      0.82      2608\n",
      "\n"
     ]
    }
   ],
   "source": [
    "from sklearn.metrics import classification_report\n",
    "print(classification_report(y_test, y_pred))"
   ]
  },
  {
   "cell_type": "code",
   "execution_count": 34,
   "id": "eb54561d",
   "metadata": {},
   "outputs": [
    {
     "name": "stdout",
     "output_type": "stream",
     "text": [
      "The model's accuracy score is 81.83%\n"
     ]
    }
   ],
   "source": [
    "from sklearn.metrics import confusion_matrix, accuracy_score, roc_auc_score\n",
    "print(f\"The model's accuracy score is {round(accuracy_score(y_test, y_pred)*100, 2)}%\")"
   ]
  },
  {
   "cell_type": "code",
   "execution_count": 35,
   "id": "8a0ddb6a",
   "metadata": {},
   "outputs": [
    {
     "name": "stdout",
     "output_type": "stream",
     "text": [
      "Training set score:  0.8147904683648316\n",
      "Test set score:  0.8182515337423313\n"
     ]
    }
   ],
   "source": [
    "print('Training set score: ', classifier.score(X_train, y_train))\n",
    "print('Test set score: ', classifier.score(X_test, y_test))"
   ]
  },
  {
   "cell_type": "code",
   "execution_count": 36,
   "id": "666bfa62",
   "metadata": {},
   "outputs": [
    {
     "name": "stdout",
     "output_type": "stream",
     "text": [
      "[[1075  228]\n",
      " [ 246 1059]]\n"
     ]
    }
   ],
   "source": [
    "from sklearn.metrics import confusion_matrix\n",
    "print(confusion_matrix(y_test, y_pred))"
   ]
  },
  {
   "cell_type": "code",
   "execution_count": 37,
   "id": "286af5f0",
   "metadata": {},
   "outputs": [
    {
     "data": {
      "text/plain": [
       "<Axes: xlabel='Predicted', ylabel='Actual'>"
      ]
     },
     "execution_count": 37,
     "metadata": {},
     "output_type": "execute_result"
    },
    {
     "data": {
      "image/png": "[encoded data removed]",
      "text/plain": [
       "<Figure size 1000x700 with 2 Axes>"
      ]
     },
     "metadata": {},
     "output_type": "display_data"
    }
   ],
   "source": [
    "import matplotlib.pyplot as plt\n",
    "import seaborn as  sns\n",
    "\n",
    "data = confusion_matrix(y_test, y_pred)\n",
    "df_cm = pd.DataFrame(data, columns=np.unique(y_test), index = np.unique(y_pred))\n",
    "df_cm.index.name = 'Actual'\n",
    "df_cm.columns.name = 'Predicted'\n",
    "plt.figure(figsize = (10,7))\n",
    "sns.set(font_scale=1.4) # for label size\n",
    "sns.heatmap(df_cm/np.sum(df_cm), cmap=\"Reds\", annot=True,annot_kws={\"size\": 16}, fmt = '.2%')"
   ]
  },
  {
   "cell_type": "code",
   "execution_count": 38,
   "id": "b1675bb3",
   "metadata": {},
   "outputs": [
    {
     "data": {
      "text/plain": [
       "array([1, 1, 0, ..., 1, 1, 0], dtype=int64)"
      ]
     },
     "execution_count": 38,
     "metadata": {},
     "output_type": "execute_result"
    }
   ],
   "source": [
    "y_test"
   ]
  },
  {
   "cell_type": "code",
   "execution_count": 39,
   "id": "f1734687",
   "metadata": {},
   "outputs": [
    {
     "data": {
      "text/plain": [
       "array([0, 1, 0, ..., 1, 1, 0], dtype=int64)"
      ]
     },
     "execution_count": 39,
     "metadata": {},
     "output_type": "execute_result"
    }
   ],
   "source": [
    "y_pred"
   ]
  },
  {
   "cell_type": "code",
   "execution_count": null,
   "id": "6ff1ca4f",
   "metadata": {},
   "outputs": [],
   "source": []
  }
 ],
 "metadata": {
  "kernelspec": {
   "display_name": "Python 3 (ipykernel)",
   "language": "python",
   "name": "python3"
  },
  "language_info": {
   "codemirror_mode": {
    "name": "ipython",
    "version": 3
   },
   "file_extension": ".py",
   "mimetype": "text/x-python",
   "name": "python",
   "nbconvert_exporter": "python",
   "pygments_lexer": "ipython3",
   "version": "3.10.9"
  },
  "papermill": {
   "default_parameters": {},
   "duration": 22.042917,
   "end_time": "2022-10-29T08:47:09.559374",
   "environment_variables": {},
   "exception": null,
   "input_path": "__notebook__.ipynb",
   "output_path": "__notebook__.ipynb",
   "parameters": {},
   "start_time": "2022-10-29T08:46:47.516457",
   "version": "2.3.4"
  }
 },
 "nbformat": 4,
 "nbformat_minor": 5
}
